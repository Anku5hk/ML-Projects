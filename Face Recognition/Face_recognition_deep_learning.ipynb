{
  "nbformat": 4,
  "nbformat_minor": 0,
  "metadata": {
    "colab": {
      "name": "Face_recognition.ipynb",
      "provenance": [],
      "collapsed_sections": [],
      "mount_file_id": "14vpbPYwu12sip_ZKAzlxuTy0nCNEGjed",
      "authorship_tag": "ABX9TyNZsqL/arSVwR2Os5MgYg/J"
    },
    "kernelspec": {
      "name": "python3",
      "display_name": "Python 3"
    },
    "accelerator": "GPU"
  },
  "cells": [
    {
      "cell_type": "markdown",
      "metadata": {
        "id": "JI9BSNizPcQh",
        "colab_type": "text"
      },
      "source": [
        "Face Recognition using face_recognition library"
      ]
    },
    {
      "cell_type": "markdown",
      "metadata": {
        "id": "3IzIh3fFPmVY",
        "colab_type": "text"
      },
      "source": [
        "Dataset used contains ~750 faces images, there are total 5 faces and each face has ~150 images in the dataset.\n",
        "* Make Dataset.\n",
        "* Sample result.\n",
        "* Make Embeddings.\n",
        "* Predict Result."
      ]
    },
    {
      "cell_type": "code",
      "metadata": {
        "id": "8GapoBTG4kg9",
        "colab_type": "code",
        "colab": {
          "base_uri": "https://localhost:8080/",
          "height": 336
        },
        "outputId": "0889f307-333f-4822-9820-4ee4110746b4"
      },
      "source": [
        "!pip3 install face_recognition"
      ],
      "execution_count": null,
      "outputs": [
        {
          "output_type": "stream",
          "text": [
            "Collecting face_recognition\n",
            "  Downloading https://files.pythonhosted.org/packages/1e/95/f6c9330f54ab07bfa032bf3715c12455a381083125d8880c43cbe76bb3d0/face_recognition-1.3.0-py2.py3-none-any.whl\n",
            "Requirement already satisfied: Pillow in /usr/local/lib/python3.6/dist-packages (from face_recognition) (7.0.0)\n",
            "Collecting face-recognition-models>=0.3.0\n",
            "\u001b[?25l  Downloading https://files.pythonhosted.org/packages/cf/3b/4fd8c534f6c0d1b80ce0973d01331525538045084c73c153ee6df20224cf/face_recognition_models-0.3.0.tar.gz (100.1MB)\n",
            "\u001b[K     |████████████████████████████████| 100.2MB 41kB/s \n",
            "\u001b[?25hRequirement already satisfied: dlib>=19.7 in /usr/local/lib/python3.6/dist-packages (from face_recognition) (19.18.0)\n",
            "Requirement already satisfied: numpy in /usr/local/lib/python3.6/dist-packages (from face_recognition) (1.18.5)\n",
            "Requirement already satisfied: Click>=6.0 in /usr/local/lib/python3.6/dist-packages (from face_recognition) (7.1.2)\n",
            "Building wheels for collected packages: face-recognition-models\n",
            "  Building wheel for face-recognition-models (setup.py) ... \u001b[?25l\u001b[?25hdone\n",
            "  Created wheel for face-recognition-models: filename=face_recognition_models-0.3.0-py2.py3-none-any.whl size=100566172 sha256=5cd4ce27b9f7405d6d671317f43ee50719dda3b8f268277dbe1204210ae2cd41\n",
            "  Stored in directory: /root/.cache/pip/wheels/d2/99/18/59c6c8f01e39810415c0e63f5bede7d83dfb0ffc039865465f\n",
            "Successfully built face-recognition-models\n",
            "Installing collected packages: face-recognition-models, face-recognition\n",
            "Successfully installed face-recognition-1.3.0 face-recognition-models-0.3.0\n"
          ],
          "name": "stdout"
        }
      ]
    },
    {
      "cell_type": "code",
      "metadata": {
        "id": "A9qDbjvb4bvH",
        "colab_type": "code",
        "colab": {}
      },
      "source": [
        "import numpy as np\n",
        "import dlib\n",
        "import face_recognition\n",
        "import os\n",
        "import re\n",
        "import matplotlib.pyplot as plt\n",
        "from sklearn.model_selection import train_test_split"
      ],
      "execution_count": null,
      "outputs": []
    },
    {
      "cell_type": "code",
      "metadata": {
        "id": "AEDbX1IM6iNq",
        "colab_type": "code",
        "colab": {}
      },
      "source": [
        "rars = ['/content/drive/My Drive/Datasets/gates.rar','/content/drive/My Drive/Datasets/jack.rar',\n",
        " '/content/drive/My Drive/Datasets/modi.rar', '/content/drive/My Drive/Datasets/musk.rar',\n",
        " '/content/drive/My Drive/Datasets/trump.rar']"
      ],
      "execution_count": null,
      "outputs": []
    },
    {
      "cell_type": "code",
      "metadata": {
        "id": "9y7dwZXu-Yyc",
        "colab_type": "code",
        "colab": {
          "base_uri": "https://localhost:8080/",
          "height": 131
        },
        "outputId": "ce3c719b-948f-46d5-bb1d-18e2e727c90f"
      },
      "source": [
        "!pip install patool"
      ],
      "execution_count": null,
      "outputs": [
        {
          "output_type": "stream",
          "text": [
            "Collecting patool\n",
            "\u001b[?25l  Downloading https://files.pythonhosted.org/packages/43/94/52243ddff508780dd2d8110964320ab4851134a55ab102285b46e740f76a/patool-1.12-py2.py3-none-any.whl (77kB)\n",
            "\r\u001b[K     |████▎                           | 10kB 18.0MB/s eta 0:00:01\r\u001b[K     |████████▌                       | 20kB 1.7MB/s eta 0:00:01\r\u001b[K     |████████████▊                   | 30kB 2.3MB/s eta 0:00:01\r\u001b[K     |█████████████████               | 40kB 2.6MB/s eta 0:00:01\r\u001b[K     |█████████████████████▏          | 51kB 2.0MB/s eta 0:00:01\r\u001b[K     |█████████████████████████▍      | 61kB 2.3MB/s eta 0:00:01\r\u001b[K     |█████████████████████████████▋  | 71kB 2.5MB/s eta 0:00:01\r\u001b[K     |████████████████████████████████| 81kB 2.3MB/s \n",
            "\u001b[?25hInstalling collected packages: patool\n",
            "Successfully installed patool-1.12\n"
          ],
          "name": "stdout"
        }
      ]
    },
    {
      "cell_type": "code",
      "metadata": {
        "id": "390GhLGP7Jcz",
        "colab_type": "code",
        "colab": {
          "base_uri": "https://localhost:8080/",
          "height": 391
        },
        "outputId": "3116f110-da43-4438-a2d0-024c48e76e5c"
      },
      "source": [
        "import patoolib\n",
        "for rar in rars:\n",
        "  patoolib.extract_archive(rar, \n",
        "                         outdir=\"/content/\")"
      ],
      "execution_count": null,
      "outputs": [
        {
          "output_type": "stream",
          "text": [
            "patool: Extracting /content/drive/My Drive/Datasets/gates.rar ...\n",
            "patool: running /usr/bin/unrar x -- \"/content/drive/My Drive/Datasets/gates.rar\"\n",
            "patool:     with cwd='/content/'\n",
            "patool: ... /content/drive/My Drive/Datasets/gates.rar extracted to `/content/'.\n",
            "patool: Extracting /content/drive/My Drive/Datasets/jack.rar ...\n",
            "patool: running /usr/bin/unrar x -- \"/content/drive/My Drive/Datasets/jack.rar\"\n",
            "patool:     with cwd='/content/'\n",
            "patool: ... /content/drive/My Drive/Datasets/jack.rar extracted to `/content/'.\n",
            "patool: Extracting /content/drive/My Drive/Datasets/modi.rar ...\n",
            "patool: running /usr/bin/unrar x -- \"/content/drive/My Drive/Datasets/modi.rar\"\n",
            "patool:     with cwd='/content/'\n",
            "patool: ... /content/drive/My Drive/Datasets/modi.rar extracted to `/content/'.\n",
            "patool: Extracting /content/drive/My Drive/Datasets/musk.rar ...\n",
            "patool: running /usr/bin/unrar x -- \"/content/drive/My Drive/Datasets/musk.rar\"\n",
            "patool:     with cwd='/content/'\n",
            "patool: ... /content/drive/My Drive/Datasets/musk.rar extracted to `/content/'.\n",
            "patool: Extracting /content/drive/My Drive/Datasets/trump.rar ...\n",
            "patool: running /usr/bin/unrar x -- \"/content/drive/My Drive/Datasets/trump.rar\"\n",
            "patool:     with cwd='/content/'\n",
            "patool: ... /content/drive/My Drive/Datasets/trump.rar extracted to `/content/'.\n"
          ],
          "name": "stdout"
        }
      ]
    },
    {
      "cell_type": "markdown",
      "metadata": {
        "id": "6EUjDOQXBVmk",
        "colab_type": "text"
      },
      "source": [
        "Sample output "
      ]
    },
    {
      "cell_type": "code",
      "metadata": {
        "id": "yunk_rhXBAyc",
        "colab_type": "code",
        "colab": {
          "base_uri": "https://localhost:8080/",
          "height": 203
        },
        "outputId": "679b69fb-fe86-4e99-ce02-d346e5b56ac4"
      },
      "source": [
        "face1 = face_recognition.load_image_file('/content/jack/jack10.jpg')\n",
        "face2 = face_recognition.load_image_file('/content/gates/gates1.jpg')\n",
        "face3 = face_recognition.load_image_file('/content/jack/jack1.jpg')\n",
        "\n",
        "face_encd1 = face_recognition.face_encodings(face1)[0]\n",
        "face_encd2 = face_recognition.face_encodings(face2)[0]\n",
        "face_encd3 = face_recognition.face_encodings(face3)[0]\n",
        "\n",
        "faces = {'Encoding1': face1, 'Encoding2': face2, 'Predited': face3}\n",
        "encd = face_recognition.compare_faces([face_encd1, face_encd2], face_encd3)\n",
        "f, axs = plt.subplots(1,3)\n",
        "plt.tight_layout()\n",
        "for i, key in enumerate(faces.keys()):\n",
        "  axs[i].imshow(faces[key])\n",
        "  axs[i].set_title(key)\n",
        "  if i ==2: \n",
        "     axs[i].set_title(encd)"
      ],
      "execution_count": null,
      "outputs": [
        {
          "output_type": "display_data",
          "data": {
            "image/png": "[encoded data removed]",
            "text/plain": [
              "<Figure size 432x288 with 3 Axes>"
            ]
          },
          "metadata": {
            "tags": [],
            "needs_background": "light"
          }
        }
      ]
    },
    {
      "cell_type": "markdown",
      "metadata": {
        "id": "BMJFyiCpQXCP",
        "colab_type": "text"
      },
      "source": [
        "Make Embeddings\n"
      ]
    },
    {
      "cell_type": "code",
      "metadata": {
        "id": "e5L1YoFHHuF7",
        "colab_type": "code",
        "colab": {
          "base_uri": "https://localhost:8080/",
          "height": 73
        },
        "outputId": "08646ea2-5cdc-42a3-cf22-f905dba6d3d7"
      },
      "source": [
        "# create 5 encodings(1 per subject) and compare with random faces from dataset\n",
        "\n",
        "face1 = face_recognition.load_image_file('/content/jack/jack10.jpg')\n",
        "face2 = face_recognition.load_image_file('/content/gates/gates1.jpg')\n",
        "face3 = face_recognition.load_image_file('/content/modi/modi103.jpg')\n",
        "face4 = face_recognition.load_image_file('/content/musk/musk104.jpg')\n",
        "face5 = face_recognition.load_image_file('/content/trump/donald trump speech106.jpg')\n",
        "\n",
        "random_face1 = face_recognition.load_image_file('/content/jack/jack109.jpg')\n",
        "random_face2 = face_recognition.load_image_file('/content/gates/gates123.jpg')\n",
        "random_face3 = face_recognition.load_image_file('/content/musk/musk121.jpg')\n",
        "\n",
        "face_encd1 = face_recognition.face_encodings(face1)[0]\n",
        "face_encd2 = face_recognition.face_encodings(face2)[0]\n",
        "face_encd3 = face_recognition.face_encodings(face3)[0]\n",
        "face_encd4 = face_recognition.face_encodings(face4)[0]\n",
        "face_encd5 = face_recognition.face_encodings(face5)[0]\n",
        "\n",
        "rnd_encd1 = face_recognition.face_encodings(random_face1)[0]\n",
        "rnd_encd2 = face_recognition.face_encodings(random_face2)[0]\n",
        "rnd_encd3 = face_recognition.face_encodings(random_face3)[0]\n",
        "\n",
        "faces = [face_encd1,face_encd2,face_encd3,face_encd4,face_encd5]\n",
        "\n",
        "encd1 = face_recognition.compare_faces(faces, rnd_encd1)\n",
        "encd2 = face_recognition.compare_faces(faces, rnd_encd2)\n",
        "encd3 = face_recognition.compare_faces(faces, rnd_encd3)\n",
        "\n",
        "print('actual 1',encd1)\n",
        "print('actual 2',encd2)\n",
        "print('actual 4',encd3)"
      ],
      "execution_count": null,
      "outputs": [
        {
          "output_type": "stream",
          "text": [
            "actual 1 [True, False, False, False, False]\n",
            "actual 2 [False, True, False, False, False]\n",
            "actual 4 [False, False, False, True, False]\n"
          ],
          "name": "stdout"
        }
      ]
    },
    {
      "cell_type": "markdown",
      "metadata": {
        "id": "cNUsDOYJNDlw",
        "colab_type": "text"
      },
      "source": [
        "Wow! just legit. With only single face encodings the results were accurate."
      ]
    },
    {
      "cell_type": "code",
      "metadata": {
        "id": "MCvbgr_eEpCU",
        "colab_type": "code",
        "colab": {
          "base_uri": "https://localhost:8080/",
          "height": 129
        },
        "outputId": "f02b54f3-105b-4e69-da5c-c2dbd1469374"
      },
      "source": [
        "flds = ['/content/gates/', '/content/jack/', '/content/modi/', '/content/trump/', '/content/musk/']\n",
        "print('Number of images per subject')\n",
        "print('Bill Gates',len(os.listdir(flds[0])))\n",
        "print('Jack Ma',len(os.listdir(flds[1])))\n",
        "print('Narendra Modi',len(os.listdir(flds[2])))\n",
        "print('Donald Trump',len(os.listdir(flds[3])))\n",
        "print('Elon Musk',len(os.listdir(flds[4])))"
      ],
      "execution_count": null,
      "outputs": [
        {
          "output_type": "stream",
          "text": [
            "Number of images per subject\n",
            "Bill Gates 150\n",
            "Jack Ma 150\n",
            "Narendra Modi 150\n",
            "Donald Trump 151\n",
            "Elon Musk 150\n"
          ],
          "name": "stdout"
        }
      ]
    },
    {
      "cell_type": "code",
      "metadata": {
        "id": "xB6cRrVP7JUK",
        "colab_type": "code",
        "colab": {
          "base_uri": "https://localhost:8080/",
          "height": 111
        },
        "outputId": "6edc9732-8310-4837-f576-e419f7cd7638"
      },
      "source": [
        "# create face embeddings\n",
        "\n",
        "embeddings = [] # store all embeddings\n",
        "cl_lm = [] # per class number dist\n",
        "pat = r'(\\w+)\\.jpg' # could've been easier with try catch\n",
        "\n",
        "for fld in flds:\n",
        "  for img in os.listdir(fld):\n",
        "    res = re.search(pat, img)\n",
        "    if res is not None:\n",
        "      try:\n",
        "        image = face_recognition.load_image_file(fld+img)\n",
        "        # it was giving an error becuase some images do have 2 faces in it. so we only pick one\n",
        "        face_encodings = face_recognition.face_encodings(image)[0] # to 128 encodings of single face\n",
        "      except:\n",
        "        continue\n",
        "      embeddings.append(face_encodings)\n",
        "  print(len(embeddings)) # count how many faces we added per class\n",
        "  cl_lm.append(len(embeddings)) # make not for making Y"
      ],
      "execution_count": null,
      "outputs": [
        {
          "output_type": "stream",
          "text": [
            "145\n",
            "279\n",
            "418\n",
            "562\n",
            "710\n"
          ],
          "name": "stdout"
        }
      ]
    },
    {
      "cell_type": "code",
      "metadata": {
        "id": "M7n_ten0lpsp",
        "colab_type": "code",
        "colab": {}
      },
      "source": [
        "# make y using cl_lm\n",
        "\n",
        "Y = np.zeros(len(embeddings))\n",
        "Y[:cl_lm[0]] = 1\n",
        "Y[cl_lm[0]:cl_lm[1]] = 2\n",
        "Y[cl_lm[1]:cl_lm[2]] = 3\n",
        "Y[cl_lm[2]:cl_lm[3]] = 4\n",
        "Y[cl_lm[3]:cl_lm[4]] = 5"
      ],
      "execution_count": null,
      "outputs": []
    },
    {
      "cell_type": "code",
      "metadata": {
        "id": "ps0AnrNa7JNu",
        "colab_type": "code",
        "colab": {
          "base_uri": "https://localhost:8080/",
          "height": 54
        },
        "outputId": "be08fbb3-4647-49e3-f646-ed9a482c7c3b"
      },
      "source": [
        "print(len(embeddings)) # for some reason, maybe its the output from face_encoding is causing problem\n",
        "# number of faces are more than 1 in some images so embedding are also more than one\n",
        "print(len(Y)) # this is correct"
      ],
      "execution_count": null,
      "outputs": [
        {
          "output_type": "stream",
          "text": [
            "757\n",
            "751\n"
          ],
          "name": "stdout"
        }
      ]
    },
    {
      "cell_type": "code",
      "metadata": {
        "id": "23bPxDFNd6Sx",
        "colab_type": "code",
        "colab": {
          "base_uri": "https://localhost:8080/",
          "height": 54
        },
        "outputId": "cca6d502-e12f-4c20-863e-2f184545faec"
      },
      "source": [
        "# new embeds\n",
        "\n",
        "print(len(embeddings))\n",
        "print(len(Y)) "
      ],
      "execution_count": null,
      "outputs": [
        {
          "output_type": "stream",
          "text": [
            "710\n",
            "710\n"
          ],
          "name": "stdout"
        }
      ]
    },
    {
      "cell_type": "code",
      "metadata": {
        "id": "pauf1RzESSF_",
        "colab_type": "code",
        "colab": {}
      },
      "source": [
        "X_train, X_test, Y_train, Y_test = train_test_split(embeddings, Y, test_size=0.2)"
      ],
      "execution_count": null,
      "outputs": []
    },
    {
      "cell_type": "markdown",
      "metadata": {
        "id": "VaXPjxKrQcQj",
        "colab_type": "text"
      },
      "source": [
        "Predict Result"
      ]
    },
    {
      "cell_type": "code",
      "metadata": {
        "id": "_-rs5hFZ7JKB",
        "colab_type": "code",
        "colab": {
          "base_uri": "https://localhost:8080/",
          "height": 54
        },
        "outputId": "e2cd1e48-1729-435f-d3ae-8792c750e5b6"
      },
      "source": [
        "# predict using all embeddings(710)\n",
        "\n",
        "yhats = []\n",
        "correct = 0\n",
        "yhat = 0\n",
        "\n",
        "def predict_results(result):\n",
        "  ids = [i for i, val in enumerate(result) if val] \n",
        "  values, counts = np.unique(Y[ids], return_counts=True)\n",
        "  yhat = values[np.argmax(counts)]\n",
        "  return yhat\n",
        "\n",
        "for test_embedding, y in zip(X_test, Y_test):\n",
        "\n",
        "  result = face_recognition.compare_faces(embeddings, test_embedding) # a big bool array of 710\n",
        "  yhat = predict_results(result)\n",
        "  yhats.append(yhat)\n",
        "  if yhat == y:\n",
        "    correct+=1\n",
        "print('Using all embeddings')\n",
        "print('{0} correct out of {1}'.format(correct, len(Y_test)))"
      ],
      "execution_count": null,
      "outputs": [
        {
          "output_type": "stream",
          "text": [
            "Using all embeddings\n",
            "139 correct out of 142\n"
          ],
          "name": "stdout"
        }
      ]
    },
    {
      "cell_type": "code",
      "metadata": {
        "id": "P5_lzGtuGur6",
        "colab_type": "code",
        "colab": {
          "base_uri": "https://localhost:8080/",
          "height": 36
        },
        "outputId": "589725dd-bf2f-4279-8e02-e56ba62e9c49"
      },
      "source": [
        "len(faces) # reminder"
      ],
      "execution_count": null,
      "outputs": [
        {
          "output_type": "execute_result",
          "data": {
            "text/plain": [
              "5"
            ]
          },
          "metadata": {
            "tags": []
          },
          "execution_count": 37
        }
      ]
    },
    {
      "cell_type": "code",
      "metadata": {
        "id": "wytTwtp0KJzD",
        "colab_type": "code",
        "colab": {
          "base_uri": "https://localhost:8080/",
          "height": 54
        },
        "outputId": "ffe02504-5838-421c-c8c9-0899b5338205"
      },
      "source": [
        "# predict with only 5 embeddings\n",
        "\n",
        "correct = 0\n",
        "yhat = 0\n",
        "\n",
        "for test_embedding, y in zip(X_test, Y_test):\n",
        "\n",
        "  result = face_recognition.compare_faces(faces, test_embedding)\n",
        "  yhat = [i for i,val in enumerate(result) if val]\n",
        "  if yhat:\n",
        "    if yhat == y:\n",
        "      correct+=1\n",
        "print('using 5 faces embedding')\n",
        "print('{0} correct out of {1}'.format(correct, len(Y_test)))"
      ],
      "execution_count": null,
      "outputs": [
        {
          "output_type": "stream",
          "text": [
            "using 5 faces embedding\n",
            "56 correct out of 142\n"
          ],
          "name": "stdout"
        }
      ]
    }
  ]
}