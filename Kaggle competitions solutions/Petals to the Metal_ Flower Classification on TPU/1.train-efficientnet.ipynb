{
 "cells": [
  {
   "cell_type": "markdown",
   "metadata": {
    "papermill": {
     "duration": 0.018682,
     "end_time": "2020-10-02T02:31:41.924392",
     "exception": false,
     "start_time": "2020-10-02T02:31:41.905710",
     "status": "completed"
    },
    "tags": []
   },
   "source": [
    "Training Efficient-net B5 model on 104-Flowers + Extra tf-flower-dataset [found here](https://www.kaggle.com/kirillblinov/tf-flower-photo-tfrec) on TPU with Tensorflow.\n",
    "\n",
    "**Common Settings**\n",
    "* Augumentations: Cutmix+Mixup, Rotation Auguments + Some Tf-image transformations.\n",
    "* 30 epochs, Batch_size 256, Image-size 512.\n",
    "* Lr-schedule: Cosine Annealing.\n",
    "\n",
    "**Previous Runs**\n",
    "\n",
    "* FirstRun For 10 Epochs, categorical_accuracy: 0.8287, loss: 0.9035, lb: 0.96407\n",
    "* SecondRun For 10 Epochs, categorical_accuracy: 0.8433, loss: 0.8195, lb: 0.96348\n",
    "* ThirdRun For 10 Epochs, Current....\n",
    "\n",
    "Many thanks to @cdeotte, @tuckerarrants and @atamazian for their valuable notebooks."
   ]
  },
  {
   "cell_type": "code",
   "execution_count": 1,
   "metadata": {
    "_cell_guid": "b1076dfc-b9ad-4769-8c92-a6c4dae69d19",
    "_uuid": "8f2839f25d086af736a60e9eeb907d3b93b6e0e5",
    "execution": {
     "iopub.execute_input": "2020-10-02T02:31:41.971178Z",
     "iopub.status.busy": "2020-10-02T02:31:41.970430Z",
     "iopub.status.idle": "2020-10-02T02:31:58.149558Z",
     "shell.execute_reply": "2020-10-02T02:31:58.148897Z"
    },
    "papermill": {
     "duration": 16.207632,
     "end_time": "2020-10-02T02:31:58.149711",
     "exception": false,
     "start_time": "2020-10-02T02:31:41.942079",
     "status": "completed"
    },
    "tags": []
   },
   "outputs": [
    {
     "name": "stdout",
     "output_type": "stream",
     "text": [
      "Collecting efficientnet\r\n",
      "  Downloading efficientnet-1.1.1-py3-none-any.whl (18 kB)\r\n",
      "Requirement already satisfied: scikit-image in /opt/conda/lib/python3.7/site-packages (from efficientnet) (0.16.2)\r\n",
      "Collecting keras-applications<=1.0.8,>=1.0.7\r\n",
      "  Downloading Keras_Applications-1.0.8-py3-none-any.whl (50 kB)\r\n",
      "\u001b[K     |████████████████████████████████| 50 kB 1.3 MB/s \r\n",
      "\u001b[?25hRequirement already satisfied: scipy>=0.19.0 in /opt/conda/lib/python3.7/site-packages (from scikit-image->efficientnet) (1.4.1)\r\n",
      "Requirement already satisfied: matplotlib!=3.0.0,>=2.0.0 in /opt/conda/lib/python3.7/site-packages (from scikit-image->efficientnet) (3.2.1)\r\n",
      "Requirement already satisfied: networkx>=2.0 in /opt/conda/lib/python3.7/site-packages (from scikit-image->efficientnet) (2.4)\r\n",
      "Requirement already satisfied: pillow>=4.3.0 in /opt/conda/lib/python3.7/site-packages (from scikit-image->efficientnet) (7.2.0)\r\n",
      "Requirement already satisfied: imageio>=2.3.0 in /opt/conda/lib/python3.7/site-packages (from scikit-image->efficientnet) (2.8.0)\r\n",
      "Requirement already satisfied: PyWavelets>=0.4.0 in /opt/conda/lib/python3.7/site-packages (from scikit-image->efficientnet) (1.1.1)\r\n",
      "Requirement already satisfied: numpy>=1.9.1 in /opt/conda/lib/python3.7/site-packages (from keras-applications<=1.0.8,>=1.0.7->efficientnet) (1.18.5)\r\n",
      "Requirement already satisfied: h5py in /opt/conda/lib/python3.7/site-packages (from keras-applications<=1.0.8,>=1.0.7->efficientnet) (2.10.0)\r\n",
      "Requirement already satisfied: cycler>=0.10 in /opt/conda/lib/python3.7/site-packages (from matplotlib!=3.0.0,>=2.0.0->scikit-image->efficientnet) (0.10.0)\r\n",
      "Requirement already satisfied: pyparsing!=2.0.4,!=2.1.2,!=2.1.6,>=2.0.1 in /opt/conda/lib/python3.7/site-packages (from matplotlib!=3.0.0,>=2.0.0->scikit-image->efficientnet) (2.4.7)\r\n",
      "Requirement already satisfied: kiwisolver>=1.0.1 in /opt/conda/lib/python3.7/site-packages (from matplotlib!=3.0.0,>=2.0.0->scikit-image->efficientnet) (1.2.0)\r\n",
      "Requirement already satisfied: python-dateutil>=2.1 in /opt/conda/lib/python3.7/site-packages (from matplotlib!=3.0.0,>=2.0.0->scikit-image->efficientnet) (2.8.1)\r\n",
      "Requirement already satisfied: decorator>=4.3.0 in /opt/conda/lib/python3.7/site-packages (from networkx>=2.0->scikit-image->efficientnet) (4.4.2)\r\n",
      "Requirement already satisfied: six in /opt/conda/lib/python3.7/site-packages (from h5py->keras-applications<=1.0.8,>=1.0.7->efficientnet) (1.14.0)\r\n",
      "Installing collected packages: keras-applications, efficientnet\r\n",
      "Successfully installed efficientnet-1.1.1 keras-applications-1.0.8\r\n",
      "\u001b[33mWARNING: You are using pip version 20.1.1; however, version 20.2.3 is available.\r\n",
      "You should consider upgrading via the '/opt/conda/bin/python3.7 -m pip install --upgrade pip' command.\u001b[0m\r\n",
      "Tensorflow version 2.2.0\n"
     ]
    }
   ],
   "source": [
    "!pip install  efficientnet\n",
    "\n",
    "import efficientnet.tfkeras as efn\n",
    "import re, os, math\n",
    "import numpy as np\n",
    "\n",
    "from kaggle_datasets import KaggleDatasets\n",
    "from matplotlib import pyplot as plt\n",
    "\n",
    "import tensorflow as tf\n",
    "from tensorflow import keras\n",
    "import tensorflow.keras.backend as K\n",
    "from tensorflow.keras.models import load_model\n",
    "from tensorflow.keras import layers\n",
    "from tensorflow.keras.callbacks import LearningRateScheduler\n",
    "print(\"Tensorflow version \" + tf.__version__)"
   ]
  },
  {
   "cell_type": "code",
   "execution_count": 2,
   "metadata": {
    "_cell_guid": "79c7e3d0-c299-4dcb-8224-4455121ee9b0",
    "_uuid": "d629ff2d2480ee46fbb7e2d37f6b5fab8052498a",
    "execution": {
     "iopub.execute_input": "2020-10-02T02:31:58.300975Z",
     "iopub.status.busy": "2020-10-02T02:31:58.209405Z",
     "iopub.status.idle": "2020-10-02T02:32:03.188470Z",
     "shell.execute_reply": "2020-10-02T02:32:03.187649Z"
    },
    "papermill": {
     "duration": 5.015665,
     "end_time": "2020-10-02T02:32:03.188608",
     "exception": false,
     "start_time": "2020-10-02T02:31:58.172943",
     "status": "completed"
    },
    "tags": []
   },
   "outputs": [],
   "source": [
    "# This is basically -1\n",
    "AUTO = tf.data.experimental.AUTOTUNE\n",
    "\n",
    "# Cluster Resolver for Google Cloud TPUs.\n",
    "tpu = tf.distribute.cluster_resolver.TPUClusterResolver()\n",
    "\n",
    "# Connects to the given cluster.\n",
    "tf.config.experimental_connect_to_cluster(tpu)\n",
    "\n",
    "# Initialize the TPU devices.\n",
    "tf.tpu.experimental.initialize_tpu_system(tpu)\n",
    "\n",
    "# TPU distribution strategy implementation.\n",
    "strategy = tf.distribute.experimental.TPUStrategy(tpu)"
   ]
  },
  {
   "cell_type": "code",
   "execution_count": 3,
   "metadata": {
    "execution": {
     "iopub.execute_input": "2020-10-02T02:32:03.240665Z",
     "iopub.status.busy": "2020-10-02T02:32:03.239718Z",
     "iopub.status.idle": "2020-10-02T02:32:03.243035Z",
     "shell.execute_reply": "2020-10-02T02:32:03.242485Z"
    },
    "papermill": {
     "duration": 0.030976,
     "end_time": "2020-10-02T02:32:03.243180",
     "exception": false,
     "start_time": "2020-10-02T02:32:03.212204",
     "status": "completed"
    },
    "tags": []
   },
   "outputs": [],
   "source": [
    "#set seed\n",
    "\n",
    "SEED = 42\n",
    "def seed_everything(seed):\n",
    "    os.environ['PYTHONHASHSEED'] = str(seed)\n",
    "    np.random.seed(seed)\n",
    "    tf.random.set_seed(seed)\n",
    "seed_everything(SEED)"
   ]
  },
  {
   "cell_type": "code",
   "execution_count": 4,
   "metadata": {
    "execution": {
     "iopub.execute_input": "2020-10-02T02:32:03.296469Z",
     "iopub.status.busy": "2020-10-02T02:32:03.295529Z",
     "iopub.status.idle": "2020-10-02T02:32:03.299532Z",
     "shell.execute_reply": "2020-10-02T02:32:03.300333Z"
    },
    "papermill": {
     "duration": 0.035222,
     "end_time": "2020-10-02T02:32:03.300512",
     "exception": false,
     "start_time": "2020-10-02T02:32:03.265290",
     "status": "completed"
    },
    "tags": []
   },
   "outputs": [
    {
     "name": "stdout",
     "output_type": "stream",
     "text": [
      "Batch size used:  256\n"
     ]
    }
   ],
   "source": [
    "# Configurations\n",
    "IMAGE_SIZE = [[512, 512]]\n",
    "EPOCHS = 30\n",
    "BATCH_SIZE = 32 * strategy.num_replicas_in_sync\n",
    "AUG_BATCH = BATCH_SIZE\n",
    "LEARNING_RATE = 1e-3\n",
    "TTA_NUM = 3\n",
    "RESUME_TRAINING = True\n",
    "print(\"Batch size used: \", BATCH_SIZE)"
   ]
  },
  {
   "cell_type": "code",
   "execution_count": 5,
   "metadata": {
    "execution": {
     "iopub.execute_input": "2020-10-02T02:32:03.365974Z",
     "iopub.status.busy": "2020-10-02T02:32:03.365232Z",
     "iopub.status.idle": "2020-10-02T02:32:04.131155Z",
     "shell.execute_reply": "2020-10-02T02:32:04.130376Z"
    },
    "papermill": {
     "duration": 0.806868,
     "end_time": "2020-10-02T02:32:04.131315",
     "exception": false,
     "start_time": "2020-10-02T02:32:03.324447",
     "status": "completed"
    },
    "tags": []
   },
   "outputs": [],
   "source": [
    "# As TPUs require access to the GCS path\n",
    "GCS_DS_PATH = KaggleDatasets().get_gcs_path('tpu-getting-started')\n",
    "MORE_IMAGES_GCS_DS_PATH = KaggleDatasets().get_gcs_path('tf-flower-photo-tfrec')\n",
    "\n",
    "GCS_PATH_SELECT = { 512: GCS_DS_PATH + '/tfrecords-jpeg-512x512' }\n",
    "MOREIMAGES_PATH_SELECT = { 512: '/tfrecords-jpeg-512x512' }\n"
   ]
  },
  {
   "cell_type": "code",
   "execution_count": 6,
   "metadata": {
    "execution": {
     "iopub.execute_input": "2020-10-02T02:32:04.221131Z",
     "iopub.status.busy": "2020-10-02T02:32:04.202707Z",
     "iopub.status.idle": "2020-10-02T02:32:04.223720Z",
     "shell.execute_reply": "2020-10-02T02:32:04.224353Z"
    },
    "papermill": {
     "duration": 0.069718,
     "end_time": "2020-10-02T02:32:04.224513",
     "exception": false,
     "start_time": "2020-10-02T02:32:04.154795",
     "status": "completed"
    },
    "tags": []
   },
   "outputs": [],
   "source": [
    "def decode_image(image_data, img_size):\n",
    "    image = tf.image.decode_jpeg(image_data, channels=3)\n",
    "    image = tf.cast(image, tf.float32) / 255.0  # convert image to floats in [0, 1] range\n",
    "    image = tf.reshape(image, [*img_size, 3]) # explicit size needed for TPU\n",
    "    return image\n",
    "\n",
    "def read_labeled_tfrecord(example, img_size):\n",
    "    LABELED_TFREC_FORMAT = {\n",
    "        \"image\": tf.io.FixedLenFeature([], tf.string), # tf.string means bytestring\n",
    "        \"class\": tf.io.FixedLenFeature([], tf.int64),  # shape [] means single element\n",
    "    }\n",
    "    example = tf.io.parse_single_example(example, LABELED_TFREC_FORMAT)\n",
    "    image = decode_image(example['image'], img_size)\n",
    "    label = tf.cast(example['class'], tf.int32)\n",
    "    return image, label # returns a dataset of (image, label) pairs\n",
    "\n",
    "def read_unlabeled_tfrecord(example, img_size):\n",
    "    UNLABELED_TFREC_FORMAT = {\n",
    "        \"image\": tf.io.FixedLenFeature([], tf.string), # tf.string means bytestring\n",
    "        \"id\": tf.io.FixedLenFeature([], tf.string),  # shape [] means single element\n",
    "        # class is missing, this competitions's challenge is to predict flower classes for the test dataset\n",
    "    }\n",
    "    example = tf.io.parse_single_example(example, UNLABELED_TFREC_FORMAT)\n",
    "    image = decode_image(example['image'], img_size)\n",
    "    idnum = example['id']\n",
    "    return image, idnum # returns a dataset of image(s)\n",
    "\n",
    "def data_augment(image, label, seed=SEED):\n",
    "    # data augmentation. Thanks to the dataset.prefetch(AUTO) statement in the next function (below),\n",
    "    # this happens essentially for free on TPU. Data pipeline code is executed on the \"CPU\" part\n",
    "    # of the TPU while the TPU itself is computing gradients.\n",
    "    image = tf.image.random_flip_left_right(image, seed=seed)\n",
    "    image = tf.image.random_brightness(image, 0.1, seed=seed)\n",
    "    image = tf.image.random_hue(image, 0.01)\n",
    "    image = tf.image.random_saturation(image, 0.7, 1.3)\n",
    "    image = tf.image.random_contrast(image, 0.8, 1.2)\n",
    "    image = tf.image.random_brightness(image, 0.1)\n",
    "    image = tf.image.random_saturation(image, 0, 2)\n",
    "    \n",
    "    return image, label   \n",
    "\n",
    "def get_training_dataset(IMG_SIZE=None, do_aug=True, cutmixup=True, mataug=False):\n",
    "    dataset = load_dataset(TRAINING_FILENAMES, labeled=True, IMG_SIZE= IMG_SIZE)\n",
    "    if do_aug:\n",
    "        dataset = dataset.map(data_augment, num_parallel_calls=AUTO)\n",
    "    if mataug:\n",
    "        dataset = dataset.map(transform2, num_parallel_calls=AUTO)\n",
    "    dataset = dataset.repeat() # the training dataset must repeat for several epochs\n",
    "    if cutmixup: \n",
    "        dataset = dataset.batch(AUG_BATCH)\n",
    "        dataset = dataset.map(lambda image, label: transform(image, label, DIM=IMG_SIZE[0]), num_parallel_calls=AUTO)\n",
    "        dataset = dataset.unbatch()\n",
    "        dataset = dataset.shuffle(2048)\n",
    "    dataset = dataset.batch(BATCH_SIZE)\n",
    "    dataset = dataset.prefetch(AUTO) # prefetch next batch while training (autotune prefetch buffer size)\n",
    "    return dataset\n",
    "\n",
    "def get_validation_dataset(ordered=False, IMG_SIZE=None):\n",
    "    dataset = load_dataset(VALIDATION_FILENAMES, labeled=True, ordered=ordered, IMG_SIZE=IMG_SIZE)\n",
    "    dataset = dataset.batch(BATCH_SIZE)\n",
    "    dataset = dataset.cache()\n",
    "    dataset = dataset.prefetch(AUTO) # prefetch next batch while training (autotune prefetch buffer size)\n",
    "    return dataset\n",
    "\n",
    "def get_train_valid_datasets(IMG_SIZE=None):\n",
    "    dataset = load_dataset(TRAINING_FILENAMES + VALIDATION_FILENAMES, labeled=True, IMG_SIZE=IMG_SIZE)\n",
    "    dataset = dataset.map(data_augment, num_parallel_calls=AUTO)\n",
    "    dataset = dataset.repeat() # the training dataset must repeat for several epochs\n",
    "    dataset = dataset.shuffle(2048)\n",
    "    dataset = dataset.batch(BATCH_SIZE)\n",
    "    dataset = dataset.prefetch(AUTO) # prefetch next batch while training (autotune prefetch buffer size)\n",
    "    return dataset\n",
    "\n",
    "def get_test_dataset(ordered=False, IMG_SIZE=None):\n",
    "    dataset = load_dataset(TEST_FILENAMES, labeled=False, ordered=ordered, IMG_SIZE=IMG_SIZE)\n",
    "    dataset = dataset.batch(BATCH_SIZE)\n",
    "    dataset = dataset.prefetch(AUTO) # prefetch next batch while training (autotune prefetch buffer size)\n",
    "    return dataset\n",
    "\n",
    "def count_data_items(filenames):\n",
    "    # the number of data items is written in the name of the .tfrec files, i.e. flowers00-230.tfrec = 230 data items\n",
    "    n = [int(re.compile(r\"-([0-9]*)\\.\").search(filename).group(1)) for filename in filenames]\n",
    "    return np.sum(n)\n",
    "\n",
    "def load_dataset(filenames, labeled=True, ordered=False, IMG_SIZE=None):\n",
    "    # Read from TFRecords. For optimal performance, reading from multiple files at once and\n",
    "    # disregarding data order. Order does not matter since we will be shuffling the data anyway.\n",
    "\n",
    "    ignore_order = tf.data.Options()\n",
    "    if not ordered:\n",
    "        ignore_order.experimental_deterministic = False # disable order, increase speed\n",
    "\n",
    "    dataset = tf.data.TFRecordDataset(filenames, num_parallel_reads=AUTO) # automatically interleaves reads from multiple files\n",
    "    dataset = dataset.with_options(ignore_order) # uses data as soon as it streams in, rather than in its original order\n",
    "    dataset = dataset.map(lambda example: read_labeled_tfrecord(example, IMG_SIZE) if labeled else \n",
    "                          read_unlabeled_tfrecord(example, IMG_SIZE), num_parallel_calls=AUTO)\n",
    "    # returns a dataset of (image, label) pairs if labeled=True or (image, id) pairs if labeled=False\n",
    "    return dataset\n",
    "\n",
    "def plot_training(H):\n",
    "\t# construct a plot that plots and saves the training history\n",
    "\twith plt.xkcd():\n",
    "\t\tplt.figure()\n",
    "\t\tplt.plot(H.history[\"loss\"], label=\"train_loss\")\n",
    "\t\tplt.title(\"Training Loss\")\n",
    "\t\tplt.xlabel(\"Epoch #\")\n",
    "\t\tplt.ylabel(\"Loss\")\n",
    "\t\tplt.legend(loc=\"lower left\")\n",
    "\t\tplt.show()"
   ]
  },
  {
   "cell_type": "code",
   "execution_count": 7,
   "metadata": {
    "execution": {
     "iopub.execute_input": "2020-10-02T02:32:04.873407Z",
     "iopub.status.busy": "2020-10-02T02:32:04.626490Z",
     "iopub.status.idle": "2020-10-02T02:32:04.952692Z",
     "shell.execute_reply": "2020-10-02T02:32:04.953456Z"
    },
    "papermill": {
     "duration": 0.705471,
     "end_time": "2020-10-02T02:32:04.953654",
     "exception": false,
     "start_time": "2020-10-02T02:32:04.248183",
     "status": "completed"
    },
    "tags": []
   },
   "outputs": [
    {
     "name": "stdout",
     "output_type": "stream",
     "text": [
      "Dataset: 70638 training images, 7382 unlabeled test images\n"
     ]
    }
   ],
   "source": [
    "# function to get train,val,test filenames according to img_size from gcs path\n",
    "\n",
    "GCS_PATH = GCS_PATH_SELECT[IMAGE_SIZE[0][0]]\n",
    "TRAINING_FILENAMES = tf.io.gfile.glob(GCS_PATH + '/train/*.tfrec')\n",
    "VALIDATION_FILENAMES = tf.io.gfile.glob(GCS_PATH + '/val/*.tfrec')\n",
    "TEST_FILENAMES = tf.io.gfile.glob(GCS_PATH + '/test/*.tfrec') # predictions on this dataset should be submitted for the competition\n",
    "\n",
    "MOREIMAGES_PATH = MOREIMAGES_PATH_SELECT[IMAGE_SIZE[0][0]]\n",
    "IMAGENET_FILES = tf.io.gfile.glob(MORE_IMAGES_GCS_DS_PATH + '/imagenet' + MOREIMAGES_PATH + '/*.tfrec')\n",
    "INATURELIST_FILES = tf.io.gfile.glob(MORE_IMAGES_GCS_DS_PATH + '/inaturalist' + MOREIMAGES_PATH + '/*.tfrec')\n",
    "OPENIMAGE_FILES = tf.io.gfile.glob(MORE_IMAGES_GCS_DS_PATH + '/openimage' + MOREIMAGES_PATH + '/*.tfrec')\n",
    "\n",
    "SKIP_VALIDATION = True\n",
    "\n",
    "if SKIP_VALIDATION:\n",
    "    TRAINING_FILENAMES = TRAINING_FILENAMES + VALIDATION_FILENAMES + IMAGENET_FILES + INATURELIST_FILES + OPENIMAGE_FILES\n",
    "\n",
    "# No of images in dataset\n",
    "NUM_TRAINING_IMAGES = count_data_items(TRAINING_FILENAMES)\n",
    "NUM_VALIDATION_IMAGES = count_data_items(VALIDATION_FILENAMES)\n",
    "NUM_TEST_IMAGES = count_data_items(TEST_FILENAMES)\n",
    "STEPS_PER_EPOCH = (NUM_TRAINING_IMAGES + NUM_VALIDATION_IMAGES) // BATCH_SIZE\n",
    "print('Dataset: {} training images, {} unlabeled test images'.format(NUM_TRAINING_IMAGES+NUM_VALIDATION_IMAGES, NUM_TEST_IMAGES))  "
   ]
  },
  {
   "cell_type": "markdown",
   "metadata": {
    "papermill": {
     "duration": 0.031088,
     "end_time": "2020-10-02T02:32:05.016027",
     "exception": false,
     "start_time": "2020-10-02T02:32:04.984939",
     "status": "completed"
    },
    "tags": []
   },
   "source": [
    "Augumentations"
   ]
  },
  {
   "cell_type": "markdown",
   "metadata": {
    "papermill": {
     "duration": 0.024711,
     "end_time": "2020-10-02T02:32:05.070982",
     "exception": false,
     "start_time": "2020-10-02T02:32:05.046271",
     "status": "completed"
    },
    "tags": []
   },
   "source": [
    "Rotation, Shift, Zoom, Shear"
   ]
  },
  {
   "cell_type": "code",
   "execution_count": 8,
   "metadata": {
    "execution": {
     "iopub.execute_input": "2020-10-02T02:32:05.150726Z",
     "iopub.status.busy": "2020-10-02T02:32:05.138788Z",
     "iopub.status.idle": "2020-10-02T02:32:05.153569Z",
     "shell.execute_reply": "2020-10-02T02:32:05.152952Z"
    },
    "papermill": {
     "duration": 0.058054,
     "end_time": "2020-10-02T02:32:05.153688",
     "exception": false,
     "start_time": "2020-10-02T02:32:05.095634",
     "status": "completed"
    },
    "tags": []
   },
   "outputs": [],
   "source": [
    "# taken from https://www.kaggle.com/cdeotte/rotation-augmentation-gpu-tpu-0-96\n",
    "\n",
    "def get_mat(rotation, shear, height_zoom, width_zoom, height_shift, width_shift):\n",
    "    # returns 3x3 transformmatrix which transforms indicies\n",
    "        \n",
    "    # CONVERT DEGREES TO RADIANS\n",
    "    rotation = math.pi * rotation / 180.\n",
    "    shear = math.pi * shear / 180.\n",
    "    \n",
    "    # ROTATION MATRIX\n",
    "    c1 = tf.math.cos(rotation)\n",
    "    s1 = tf.math.sin(rotation)\n",
    "    one = tf.constant([1],dtype='float32')\n",
    "    zero = tf.constant([0],dtype='float32')\n",
    "    rotation_matrix = tf.reshape( tf.concat([c1,s1,zero, -s1,c1,zero, zero,zero,one],axis=0),[3,3] )\n",
    "        \n",
    "    # SHEAR MATRIX\n",
    "    c2 = tf.math.cos(shear)\n",
    "    s2 = tf.math.sin(shear)\n",
    "    shear_matrix = tf.reshape( tf.concat([one,s2,zero, zero,c2,zero, zero,zero,one],axis=0),[3,3] )    \n",
    "    \n",
    "    # ZOOM MATRIX\n",
    "    zoom_matrix = tf.reshape( tf.concat([one/height_zoom,zero,zero, zero,one/width_zoom,zero, zero,zero,one],axis=0),[3,3] )\n",
    "    \n",
    "    # SHIFT MATRIX\n",
    "    shift_matrix = tf.reshape( tf.concat([one,zero,height_shift, zero,one,width_shift, zero,zero,one],axis=0),[3,3] )\n",
    "    \n",
    "    return K.dot(K.dot(rotation_matrix, shear_matrix), K.dot(zoom_matrix, shift_matrix))\n",
    "\n",
    "def transform2(image, label, DIM = IMAGE_SIZE[0][0]):\n",
    "    # input image - is one image of size [dim,dim,3] not a batch of [b,dim,dim,3]\n",
    "    # output - image randomly rotated, sheared, zoomed, and shifted\n",
    "\n",
    "    XDIM = DIM % 2\n",
    "    \n",
    "    rot = 15. * tf.random.normal([1],dtype='float32')\n",
    "    shr = 5. * tf.random.normal([1],dtype='float32') \n",
    "    h_zoom = 1.0 + tf.random.normal([1],dtype='float32')/10.\n",
    "    w_zoom = 1.0 + tf.random.normal([1],dtype='float32')/10.\n",
    "    h_shift = 16. * tf.random.normal([1],dtype='float32') \n",
    "    w_shift = 16. * tf.random.normal([1],dtype='float32') \n",
    "  \n",
    "    # GET TRANSFORMATION MATRIX\n",
    "    m = get_mat(rot,shr,h_zoom,w_zoom,h_shift,w_shift) \n",
    "\n",
    "    # LIST DESTINATION PIXEL INDICES\n",
    "    x = tf.repeat( tf.range(DIM//2,-DIM//2,-1), DIM )\n",
    "    y = tf.tile( tf.range(-DIM//2,DIM//2),[DIM] )\n",
    "    z = tf.ones([DIM*DIM],dtype='int32')\n",
    "    idx = tf.stack( [x,y,z] )\n",
    "    \n",
    "    # ROTATE DESTINATION PIXELS ONTO ORIGIN PIXELS\n",
    "    idx2 = K.dot(m,tf.cast(idx,dtype='float32'))\n",
    "    idx2 = K.cast(idx2,dtype='int32')\n",
    "    idx2 = K.clip(idx2,-DIM//2+XDIM+1,DIM//2)\n",
    "    \n",
    "    # FIND ORIGIN PIXEL VALUES           \n",
    "    idx3 = tf.stack( [DIM//2-idx2[0,], DIM//2-1+idx2[1,]] )\n",
    "    d = tf.gather_nd(image,tf.transpose(idx3))\n",
    "        \n",
    "    return tf.reshape(d,[DIM,DIM,3]),label"
   ]
  },
  {
   "cell_type": "markdown",
   "metadata": {
    "papermill": {
     "duration": 0.025782,
     "end_time": "2020-10-02T02:32:05.204221",
     "exception": false,
     "start_time": "2020-10-02T02:32:05.178439",
     "status": "completed"
    },
    "tags": []
   },
   "source": [
    "Cutmix+Mixup"
   ]
  },
  {
   "cell_type": "code",
   "execution_count": 9,
   "metadata": {
    "execution": {
     "iopub.execute_input": "2020-10-02T02:32:05.276645Z",
     "iopub.status.busy": "2020-10-02T02:32:05.266556Z",
     "iopub.status.idle": "2020-10-02T02:32:05.279646Z",
     "shell.execute_reply": "2020-10-02T02:32:05.280187Z"
    },
    "papermill": {
     "duration": 0.051982,
     "end_time": "2020-10-02T02:32:05.280357",
     "exception": false,
     "start_time": "2020-10-02T02:32:05.228375",
     "status": "completed"
    },
    "tags": []
   },
   "outputs": [],
   "source": [
    "# taken from https://www.kaggle.com/tuckerarrants/kfold-efficientnet-augmentations-s\n",
    "\n",
    "def cutmix(image, label, PROBABILITY = 1.0, DIM = None):\n",
    "    # input image - is a batch of images of size [n,dim,dim,3] not a single image of [dim,dim,3]\n",
    "    # output - a batch of images with cutmix applied\n",
    "    CLASSES = 104\n",
    "    \n",
    "    imgs = []; labs = []\n",
    "    for j in range(AUG_BATCH):\n",
    "        # DO CUTMIX WITH PROBABILITY DEFINED ABOVE\n",
    "        P = tf.cast( tf.random.uniform([],0,1)<=PROBABILITY, tf.int32)\n",
    "        # CHOOSE RANDOM IMAGE TO CUTMIX WITH\n",
    "        k = tf.cast( tf.random.uniform([],0,AUG_BATCH),tf.int32)\n",
    "        # CHOOSE RANDOM LOCATION\n",
    "        x = tf.cast( tf.random.uniform([],0,DIM),tf.int32)\n",
    "        y = tf.cast( tf.random.uniform([],0,DIM),tf.int32)\n",
    "        b = tf.random.uniform([],0,1) # this is beta dist with alpha=1.0\n",
    "        WIDTH = tf.cast( DIM * tf.math.sqrt(1-b),tf.int32) * P\n",
    "        ya = tf.math.maximum(0,y-WIDTH//2)\n",
    "        yb = tf.math.minimum(DIM,y+WIDTH//2)\n",
    "        xa = tf.math.maximum(0,x-WIDTH//2)\n",
    "        xb = tf.math.minimum(DIM,x+WIDTH//2)\n",
    "        # MAKE CUTMIX IMAGE\n",
    "        one = image[j,ya:yb,0:xa,:]\n",
    "        two = image[k,ya:yb,xa:xb,:]\n",
    "        three = image[j,ya:yb,xb:DIM,:]\n",
    "        middle = tf.concat([one,two,three],axis=1)\n",
    "        img = tf.concat([image[j,0:ya,:,:],middle,image[j,yb:DIM,:,:]],axis=0)\n",
    "        imgs.append(img)\n",
    "        # MAKE CUTMIX LABEL\n",
    "        a = tf.cast(WIDTH*WIDTH/DIM/DIM,tf.float32)\n",
    "        if len(label.shape)==1:\n",
    "            lab1 = tf.one_hot(label[j],CLASSES)\n",
    "            lab2 = tf.one_hot(label[k],CLASSES)\n",
    "        else:\n",
    "            lab1 = label[j,]\n",
    "            lab2 = label[k,]\n",
    "        labs.append((1-a)*lab1 + a*lab2)\n",
    "            \n",
    "    # RESHAPE HACK SO TPU COMPILER KNOWS SHAPE OF OUTPUT TENSOR (maybe use Python typing instead?)\n",
    "    image2 = tf.reshape(tf.stack(imgs),(AUG_BATCH,DIM,DIM,3))\n",
    "    label2 = tf.reshape(tf.stack(labs),(AUG_BATCH,CLASSES))\n",
    "    return image2,label2"
   ]
  },
  {
   "cell_type": "code",
   "execution_count": 10,
   "metadata": {
    "execution": {
     "iopub.execute_input": "2020-10-02T02:32:05.345517Z",
     "iopub.status.busy": "2020-10-02T02:32:05.344782Z",
     "iopub.status.idle": "2020-10-02T02:32:05.348145Z",
     "shell.execute_reply": "2020-10-02T02:32:05.347591Z"
    },
    "papermill": {
     "duration": 0.043101,
     "end_time": "2020-10-02T02:32:05.348282",
     "exception": false,
     "start_time": "2020-10-02T02:32:05.305181",
     "status": "completed"
    },
    "tags": []
   },
   "outputs": [],
   "source": [
    "def mixup(image, label, PROBABILITY = 1.0, DIM=None):\n",
    "    # input image - is a batch of images of size [n,dim,dim,3] not a single image of [dim,dim,3]\n",
    "    # output - a batch of images with mixup applied\n",
    "    CLASSES = 104\n",
    "    \n",
    "    imgs = []; labs = []\n",
    "    for j in range(AUG_BATCH):\n",
    "        # DO MIXUP WITH PROBABILITY DEFINED ABOVE\n",
    "        P = tf.cast( tf.random.uniform([],0,1)<=PROBABILITY, tf.float32)\n",
    "        # CHOOSE RANDOM\n",
    "        k = tf.cast( tf.random.uniform([],0,AUG_BATCH),tf.int32)\n",
    "        a = tf.random.uniform([],0,1)*P # this is beta dist with alpha=1.0\n",
    "        # MAKE MIXUP IMAGE\n",
    "        img1 = image[j,]\n",
    "        img2 = image[k,]\n",
    "        imgs.append((1-a)*img1 + a*img2)\n",
    "        # MAKE CUTMIX LABEL\n",
    "        if len(label.shape)==1:\n",
    "            lab1 = tf.one_hot(label[j],CLASSES)\n",
    "            lab2 = tf.one_hot(label[k],CLASSES)\n",
    "        else:\n",
    "            lab1 = label[j,]\n",
    "            lab2 = label[k,]\n",
    "        labs.append((1-a)*lab1 + a*lab2)\n",
    "            \n",
    "    # RESHAPE HACK SO TPU COMPILER KNOWS SHAPE OF OUTPUT TENSOR (maybe use Python typing instead?)\n",
    "    image2 = tf.reshape(tf.stack(imgs),(AUG_BATCH,DIM,DIM,3))\n",
    "    label2 = tf.reshape(tf.stack(labs),(AUG_BATCH,CLASSES))\n",
    "    return image2,label2"
   ]
  },
  {
   "cell_type": "code",
   "execution_count": 11,
   "metadata": {
    "execution": {
     "iopub.execute_input": "2020-10-02T02:32:05.410321Z",
     "iopub.status.busy": "2020-10-02T02:32:05.409584Z",
     "iopub.status.idle": "2020-10-02T02:32:05.412062Z",
     "shell.execute_reply": "2020-10-02T02:32:05.412618Z"
    },
    "papermill": {
     "duration": 0.039384,
     "end_time": "2020-10-02T02:32:05.412761",
     "exception": false,
     "start_time": "2020-10-02T02:32:05.373377",
     "status": "completed"
    },
    "tags": []
   },
   "outputs": [],
   "source": [
    "def transform(image,label, DIM=None):\n",
    "    # THIS FUNCTION APPLIES BOTH CUTMIX AND MIXUP\n",
    "    # DIM is image size eg 224\n",
    "    CLASSES = 104\n",
    "    SWITCH = 0.5\n",
    "    CUTMIX_PROB = 0.666\n",
    "    MIXUP_PROB = 0.666\n",
    "    # FOR SWITCH PERCENT OF TIME WE DO CUTMIX AND (1-SWITCH) WE DO MIXUP\n",
    "    image2, label2 = cutmix(image, label, CUTMIX_PROB, DIM)\n",
    "    image3, label3 = mixup(image, label, MIXUP_PROB, DIM)\n",
    "    imgs = []; labs = []\n",
    "    for j in range(AUG_BATCH):\n",
    "        P = tf.cast( tf.random.uniform([],0,1)<=SWITCH, tf.float32)\n",
    "        imgs.append(P*image2[j,]+(1-P)*image3[j,])\n",
    "        labs.append(P*label2[j,]+(1-P)*label3[j,])\n",
    "    # RESHAPE HACK SO TPU COMPILER KNOWS SHAPE OF OUTPUT TENSOR (maybe use Python typing instead?)\n",
    "    image4 = tf.reshape(tf.stack(imgs),(AUG_BATCH,DIM,DIM,3))\n",
    "    label4 = tf.reshape(tf.stack(labs),(AUG_BATCH,CLASSES))\n",
    "    return image4,label4"
   ]
  },
  {
   "cell_type": "markdown",
   "metadata": {
    "papermill": {
     "duration": 0.024091,
     "end_time": "2020-10-02T02:32:05.461398",
     "exception": false,
     "start_time": "2020-10-02T02:32:05.437307",
     "status": "completed"
    },
    "tags": []
   },
   "source": [
    "LR-Schedule"
   ]
  },
  {
   "cell_type": "code",
   "execution_count": 12,
   "metadata": {
    "execution": {
     "iopub.execute_input": "2020-10-02T02:32:05.522412Z",
     "iopub.status.busy": "2020-10-02T02:32:05.521649Z",
     "iopub.status.idle": "2020-10-02T02:32:05.730994Z",
     "shell.execute_reply": "2020-10-02T02:32:05.730213Z"
    },
    "papermill": {
     "duration": 0.245217,
     "end_time": "2020-10-02T02:32:05.731124",
     "exception": false,
     "start_time": "2020-10-02T02:32:05.485907",
     "status": "completed"
    },
    "tags": []
   },
   "outputs": [
    {
     "name": "stdout",
     "output_type": "stream",
     "text": [
      "Learning rate schedule: 1e-05 to 0.0004 to 1.01e-05\n"
     ]
    },
    {
     "data": {
      "image/png": "[encoded data removed]",
      "text/plain": [
       "<Figure size 432x288 with 1 Axes>"
      ]
     },
     "metadata": {
      "needs_background": "light"
     },
     "output_type": "display_data"
    }
   ],
   "source": [
    "# Using an LR ramp up because fine-tuning a pre-trained model.\n",
    "# Starting with a high LR would break the pre-trained weights.\n",
    "\n",
    "LR_START = 0.00001\n",
    "LR_MAX = 0.00005 * strategy.num_replicas_in_sync\n",
    "LR_MIN = 0.00001\n",
    "LR_RAMPUP_EPOCHS = 5\n",
    "LR_SUSTAIN_EPOCHS = 0\n",
    "LR_EXP_DECAY = .7\n",
    "\n",
    "def lrfn(epoch):\n",
    "    if epoch < LR_RAMPUP_EPOCHS:\n",
    "        lr = (LR_MAX - LR_START) / LR_RAMPUP_EPOCHS * epoch + LR_START\n",
    "    elif epoch < LR_RAMPUP_EPOCHS + LR_SUSTAIN_EPOCHS:\n",
    "        lr = LR_MAX\n",
    "    else:\n",
    "        lr = (LR_MAX - LR_MIN) * LR_EXP_DECAY**(epoch - LR_RAMPUP_EPOCHS - LR_SUSTAIN_EPOCHS) + LR_MIN\n",
    "    return lr\n",
    "    \n",
    "lr_callback = tf.keras.callbacks.LearningRateScheduler(lrfn, verbose=True)\n",
    "\n",
    "rng = [i for i in range(EPOCHS)]\n",
    "y = [lrfn(x) for x in rng]\n",
    "plt.plot(rng, y)\n",
    "print(\"Learning rate schedule: {:.3g} to {:.3g} to {:.3g}\".format(y[0], max(y), y[-1]))"
   ]
  },
  {
   "cell_type": "code",
   "execution_count": 13,
   "metadata": {
    "execution": {
     "iopub.execute_input": "2020-10-02T02:32:05.801451Z",
     "iopub.status.busy": "2020-10-02T02:32:05.800568Z",
     "iopub.status.idle": "2020-10-02T02:32:05.803126Z",
     "shell.execute_reply": "2020-10-02T02:32:05.803664Z"
    },
    "papermill": {
     "duration": 0.042444,
     "end_time": "2020-10-02T02:32:05.803837",
     "exception": false,
     "start_time": "2020-10-02T02:32:05.761393",
     "status": "completed"
    },
    "tags": []
   },
   "outputs": [],
   "source": [
    "def get_efficientnet():\n",
    "    with strategy.scope():\n",
    "        efficient = efn.EfficientNetB5(\n",
    "            input_shape = (IMAGE_SIZE[0][0], IMAGE_SIZE[0][1], 3),\n",
    "            weights = 'noisy-student', #or imagenet\n",
    "            include_top = False\n",
    "        )\n",
    "        #make trainable so we can fine-tune\n",
    "        efficient.trainable = True\n",
    "        model = tf.keras.Sequential([\n",
    "            efficient,\n",
    "            tf.keras.layers.GlobalAveragePooling2D(),\n",
    "            #tf.keras.layers.Dropout(0.2),\n",
    "            tf.keras.layers.Dense(104, activation = 'softmax',dtype = 'float32')\n",
    "        ])\n",
    "        model.compile(optimizer='adam', loss = 'categorical_crossentropy', metrics=['categorical_accuracy'])\n",
    "    return model"
   ]
  },
  {
   "cell_type": "code",
   "execution_count": 14,
   "metadata": {
    "execution": {
     "iopub.execute_input": "2020-10-02T02:32:05.864660Z",
     "iopub.status.busy": "2020-10-02T02:32:05.863905Z",
     "iopub.status.idle": "2020-10-02T03:50:05.811696Z",
     "shell.execute_reply": "2020-10-02T03:50:05.812376Z"
    },
    "papermill": {
     "duration": 4679.982194,
     "end_time": "2020-10-02T03:50:05.812597",
     "exception": false,
     "start_time": "2020-10-02T02:32:05.830403",
     "status": "completed"
    },
    "tags": []
   },
   "outputs": [
    {
     "name": "stdout",
     "output_type": "stream",
     "text": [
      "\n",
      "Epoch 00021: LearningRateScheduler reducing learning rate to 1.1851548988877769e-05.\n",
      "Epoch 21/30\n",
      "275/275 [==============================] - ETA: 0s - categorical_accuracy: 0.8449 - loss: 0.8104\n",
      "Epoch 00021: saving model to Effnet_30ep.h5\n",
      "275/275 [==============================] - 427s 2s/step - categorical_accuracy: 0.8449 - loss: 0.8104 - lr: 1.1852e-05\n",
      "\n",
      "Epoch 00022: LearningRateScheduler reducing learning rate to 1.1296084292214439e-05.\n",
      "Epoch 22/30\n",
      "275/275 [==============================] - ETA: 0s - categorical_accuracy: 0.8440 - loss: 0.8079\n",
      "Epoch 00022: saving model to Effnet_30ep.h5\n",
      "275/275 [==============================] - 420s 2s/step - categorical_accuracy: 0.8440 - loss: 0.8079 - lr: 1.1296e-05\n",
      "\n",
      "Epoch 00023: LearningRateScheduler reducing learning rate to 1.0907259004550108e-05.\n",
      "Epoch 23/30\n",
      "275/275 [==============================] - ETA: 0s - categorical_accuracy: 0.8453 - loss: 0.8126\n",
      "Epoch 00023: saving model to Effnet_30ep.h5\n",
      "275/275 [==============================] - 421s 2s/step - categorical_accuracy: 0.8453 - loss: 0.8126 - lr: 1.0907e-05\n",
      "\n",
      "Epoch 00024: LearningRateScheduler reducing learning rate to 1.0635081303185075e-05.\n",
      "Epoch 24/30\n",
      "275/275 [==============================] - ETA: 0s - categorical_accuracy: 0.8460 - loss: 0.8055\n",
      "Epoch 00024: saving model to Effnet_30ep.h5\n",
      "275/275 [==============================] - 426s 2s/step - categorical_accuracy: 0.8460 - loss: 0.8055 - lr: 1.0635e-05\n",
      "\n",
      "Epoch 00025: LearningRateScheduler reducing learning rate to 1.0444556912229552e-05.\n",
      "Epoch 25/30\n",
      "275/275 [==============================] - ETA: 0s - categorical_accuracy: 0.8470 - loss: 0.8060\n",
      "Epoch 00025: saving model to Effnet_30ep.h5\n",
      "275/275 [==============================] - 430s 2s/step - categorical_accuracy: 0.8470 - loss: 0.8060 - lr: 1.0445e-05\n",
      "\n",
      "Epoch 00026: LearningRateScheduler reducing learning rate to 1.0311189838560687e-05.\n",
      "Epoch 26/30\n",
      "275/275 [==============================] - ETA: 0s - categorical_accuracy: 0.8467 - loss: 0.7999\n",
      "Epoch 00026: saving model to Effnet_30ep.h5\n",
      "275/275 [==============================] - 430s 2s/step - categorical_accuracy: 0.8467 - loss: 0.7999 - lr: 1.0311e-05\n",
      "\n",
      "Epoch 00027: LearningRateScheduler reducing learning rate to 1.0217832886992482e-05.\n",
      "Epoch 27/30\n",
      "275/275 [==============================] - ETA: 0s - categorical_accuracy: 0.8489 - loss: 0.8032\n",
      "Epoch 00027: saving model to Effnet_30ep.h5\n",
      "275/275 [==============================] - 439s 2s/step - categorical_accuracy: 0.8489 - loss: 0.8032 - lr: 1.0218e-05\n",
      "\n",
      "Epoch 00028: LearningRateScheduler reducing learning rate to 1.0152483020894737e-05.\n",
      "Epoch 28/30\n",
      "275/275 [==============================] - ETA: 0s - categorical_accuracy: 0.8457 - loss: 0.7990\n",
      "Epoch 00028: saving model to Effnet_30ep.h5\n",
      "275/275 [==============================] - 430s 2s/step - categorical_accuracy: 0.8457 - loss: 0.7990 - lr: 1.0152e-05\n",
      "\n",
      "Epoch 00029: LearningRateScheduler reducing learning rate to 1.0106738114626316e-05.\n",
      "Epoch 29/30\n",
      "275/275 [==============================] - ETA: 0s - categorical_accuracy: 0.8486 - loss: 0.7956\n",
      "Epoch 00029: saving model to Effnet_30ep.h5\n",
      "275/275 [==============================] - 425s 2s/step - categorical_accuracy: 0.8486 - loss: 0.7956 - lr: 1.0107e-05\n",
      "\n",
      "Epoch 00030: LearningRateScheduler reducing learning rate to 1.0074716680238422e-05.\n",
      "Epoch 30/30\n",
      "275/275 [==============================] - ETA: 0s - categorical_accuracy: 0.8463 - loss: 0.7993\n",
      "Epoch 00030: saving model to Effnet_30ep.h5\n",
      "275/275 [==============================] - 428s 2s/step - categorical_accuracy: 0.8463 - loss: 0.7993 - lr: 1.0075e-05\n",
      "CPU times: user 5min 33s, sys: 42.9 s, total: 6min 16s\n",
      "Wall time: 1h 17min 59s\n"
     ]
    }
   ],
   "source": [
    "%%time\n",
    "# loading previously trained model to resume training(for 10+ epoch)\n",
    "\n",
    "if RESUME_TRAINING:\n",
    "    with strategy.scope():\n",
    "        model1 = load_model('../input/train-efficientnet/Effnet_save.h5') \n",
    "else:\n",
    "    model1 = get_efficientnet()\n",
    "    \n",
    "Checkpoint=tf.keras.callbacks.ModelCheckpoint(f\"Effnet_30ep.h5\", verbose=1, mode='max')\n",
    "\n",
    "train_history0 = model1.fit(\n",
    "    get_training_dataset(IMAGE_SIZE[0], mataug=True, cutmixup=True, do_aug=True), \n",
    "    steps_per_epoch=STEPS_PER_EPOCH,\n",
    "    epochs=EPOCHS,\n",
    "    initial_epoch=20,\n",
    "    callbacks=[lr_callback, Checkpoint],\n",
    ")"
   ]
  },
  {
   "cell_type": "code",
   "execution_count": 15,
   "metadata": {
    "execution": {
     "iopub.execute_input": "2020-10-02T03:50:08.108140Z",
     "iopub.status.busy": "2020-10-02T03:50:08.107392Z",
     "iopub.status.idle": "2020-10-02T03:50:08.440968Z",
     "shell.execute_reply": "2020-10-02T03:50:08.441545Z"
    },
    "papermill": {
     "duration": 1.484912,
     "end_time": "2020-10-02T03:50:08.441713",
     "exception": false,
     "start_time": "2020-10-02T03:50:06.956801",
     "status": "completed"
    },
    "tags": []
   },
   "outputs": [
    {
     "data": {
      "image/png": "[encoded data removed]",
      "text/plain": [
       "<Figure size 432x288 with 1 Axes>"
      ]
     },
     "metadata": {},
     "output_type": "display_data"
    }
   ],
   "source": [
    "plot_training(train_history0)"
   ]
  },
  {
   "cell_type": "markdown",
   "metadata": {
    "papermill": {
     "duration": 1.140887,
     "end_time": "2020-10-02T03:50:10.753098",
     "exception": false,
     "start_time": "2020-10-02T03:50:09.612211",
     "status": "completed"
    },
    "tags": []
   },
   "source": [
    "Submission"
   ]
  },
  {
   "cell_type": "code",
   "execution_count": 16,
   "metadata": {
    "execution": {
     "iopub.execute_input": "2020-10-02T03:50:13.058461Z",
     "iopub.status.busy": "2020-10-02T03:50:13.057609Z",
     "iopub.status.idle": "2020-10-02T03:50:13.061433Z",
     "shell.execute_reply": "2020-10-02T03:50:13.060667Z"
    },
    "papermill": {
     "duration": 1.165712,
     "end_time": "2020-10-02T03:50:13.061557",
     "exception": false,
     "start_time": "2020-10-02T03:50:11.895845",
     "status": "completed"
    },
    "tags": []
   },
   "outputs": [],
   "source": [
    "def predict(model, img_size, n_iter):\n",
    "    probs  = []\n",
    "    data = get_test_dataset(ordered=True, IMG_SIZE=img_size)\n",
    "    for i in range(n_iter):\n",
    "        # Add TTA\n",
    "        test_images_ds = data.map(lambda image, idnum: image)\n",
    "        probs.append(model.predict(test_images_ds,verbose=0))\n",
    "    return probs"
   ]
  },
  {
   "cell_type": "code",
   "execution_count": 17,
   "metadata": {
    "execution": {
     "iopub.execute_input": "2020-10-02T03:50:15.475735Z",
     "iopub.status.busy": "2020-10-02T03:50:15.474807Z",
     "iopub.status.idle": "2020-10-02T03:51:15.242111Z",
     "shell.execute_reply": "2020-10-02T03:51:15.242950Z"
    },
    "papermill": {
     "duration": 60.934879,
     "end_time": "2020-10-02T03:51:15.243130",
     "exception": false,
     "start_time": "2020-10-02T03:50:14.308251",
     "status": "completed"
    },
    "tags": []
   },
   "outputs": [
    {
     "name": "stdout",
     "output_type": "stream",
     "text": [
      "Calculating predictions...\n",
      "Generating submission file...\n"
     ]
    }
   ],
   "source": [
    "print('Calculating predictions...')\n",
    "probs1 = np.mean(predict(model1, IMAGE_SIZE[0], TTA_NUM), axis=0)\n",
    "predictions = np.argmax(probs1, axis=-1)\n",
    "\n",
    "print('Generating submission file...')\n",
    "test_ds = get_test_dataset(ordered=True, IMG_SIZE=IMAGE_SIZE[0])\n",
    "test_ids_ds = test_ds.map(lambda image, idnum: idnum).unbatch()\n",
    "test_ids = next(iter(test_ids_ds.batch(NUM_TEST_IMAGES))).numpy().astype('U') # all in one batch\n",
    "np.savetxt('submission.csv', np.rec.fromarrays([test_ids, predictions]), fmt=['%s', '%d'], delimiter=',', header='id,label', comments='')\n"
   ]
  }
 ],
 "metadata": {
  "kernelspec": {
   "display_name": "Python 3",
   "language": "python",
   "name": "python3"
  },
  "language_info": {
   "codemirror_mode": {
    "name": "ipython",
    "version": 3
   },
   "file_extension": ".py",
   "mimetype": "text/x-python",
   "name": "python",
   "nbconvert_exporter": "python",
   "pygments_lexer": "ipython3",
   "version": "3.7.6"
  },
  "papermill": {
   "duration": 4779.539383,
   "end_time": "2020-10-02T03:51:16.593690",
   "environment_variables": {},
   "exception": null,
   "input_path": "__notebook__.ipynb",
   "output_path": "__notebook__.ipynb",
   "parameters": {},
   "start_time": "2020-10-02T02:31:37.054307",
   "version": "2.1.0"
  }
 },
 "nbformat": 4,
 "nbformat_minor": 4
}
