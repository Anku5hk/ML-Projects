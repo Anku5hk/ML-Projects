{
 "cells": [
  {
   "cell_type": "code",
   "execution_count": 1,
   "metadata": {
    "execution": {
     "iopub.execute_input": "2020-10-02T04:34:11.947437Z",
     "iopub.status.busy": "2020-10-02T04:34:11.946596Z",
     "iopub.status.idle": "2020-10-02T04:34:36.761791Z",
     "shell.execute_reply": "2020-10-02T04:34:36.762383Z"
    },
    "papermill": {
     "duration": 24.837744,
     "end_time": "2020-10-02T04:34:36.762604",
     "exception": false,
     "start_time": "2020-10-02T04:34:11.924860",
     "status": "completed"
    },
    "tags": []
   },
   "outputs": [
    {
     "name": "stdout",
     "output_type": "stream",
     "text": [
      "Collecting efficientnet\r\n",
      "  Downloading efficientnet-1.1.1-py3-none-any.whl (18 kB)\r\n",
      "Collecting keras-applications<=1.0.8,>=1.0.7\r\n",
      "  Downloading Keras_Applications-1.0.8-py3-none-any.whl (50 kB)\r\n",
      "\u001b[K     |████████████████████████████████| 50 kB 434 kB/s \r\n",
      "\u001b[?25hRequirement already satisfied: scikit-image in /opt/conda/lib/python3.7/site-packages (from efficientnet) (0.16.2)\r\n",
      "Requirement already satisfied: h5py in /opt/conda/lib/python3.7/site-packages (from keras-applications<=1.0.8,>=1.0.7->efficientnet) (2.10.0)\r\n",
      "Requirement already satisfied: numpy>=1.9.1 in /opt/conda/lib/python3.7/site-packages (from keras-applications<=1.0.8,>=1.0.7->efficientnet) (1.18.5)\r\n",
      "Requirement already satisfied: scipy>=0.19.0 in /opt/conda/lib/python3.7/site-packages (from scikit-image->efficientnet) (1.4.1)\r\n",
      "Requirement already satisfied: matplotlib!=3.0.0,>=2.0.0 in /opt/conda/lib/python3.7/site-packages (from scikit-image->efficientnet) (3.2.1)\r\n",
      "Requirement already satisfied: networkx>=2.0 in /opt/conda/lib/python3.7/site-packages (from scikit-image->efficientnet) (2.4)\r\n",
      "Requirement already satisfied: pillow>=4.3.0 in /opt/conda/lib/python3.7/site-packages (from scikit-image->efficientnet) (7.2.0)\r\n",
      "Requirement already satisfied: imageio>=2.3.0 in /opt/conda/lib/python3.7/site-packages (from scikit-image->efficientnet) (2.8.0)\r\n",
      "Requirement already satisfied: PyWavelets>=0.4.0 in /opt/conda/lib/python3.7/site-packages (from scikit-image->efficientnet) (1.1.1)\r\n",
      "Requirement already satisfied: six in /opt/conda/lib/python3.7/site-packages (from h5py->keras-applications<=1.0.8,>=1.0.7->efficientnet) (1.14.0)\r\n",
      "Requirement already satisfied: cycler>=0.10 in /opt/conda/lib/python3.7/site-packages (from matplotlib!=3.0.0,>=2.0.0->scikit-image->efficientnet) (0.10.0)\r\n",
      "Requirement already satisfied: python-dateutil>=2.1 in /opt/conda/lib/python3.7/site-packages (from matplotlib!=3.0.0,>=2.0.0->scikit-image->efficientnet) (2.8.1)\r\n",
      "Requirement already satisfied: kiwisolver>=1.0.1 in /opt/conda/lib/python3.7/site-packages (from matplotlib!=3.0.0,>=2.0.0->scikit-image->efficientnet) (1.2.0)\r\n",
      "Requirement already satisfied: pyparsing!=2.0.4,!=2.1.2,!=2.1.6,>=2.0.1 in /opt/conda/lib/python3.7/site-packages (from matplotlib!=3.0.0,>=2.0.0->scikit-image->efficientnet) (2.4.7)\r\n",
      "Requirement already satisfied: decorator>=4.3.0 in /opt/conda/lib/python3.7/site-packages (from networkx>=2.0->scikit-image->efficientnet) (4.4.2)\r\n",
      "Installing collected packages: keras-applications, efficientnet\r\n",
      "Successfully installed efficientnet-1.1.1 keras-applications-1.0.8\r\n",
      "\u001b[33mWARNING: You are using pip version 20.1.1; however, version 20.2.3 is available.\r\n",
      "You should consider upgrading via the '/opt/conda/bin/python3.7 -m pip install --upgrade pip' command.\u001b[0m\r\n"
     ]
    }
   ],
   "source": [
    "!pip install efficientnet\n",
    "\n",
    "import efficientnet.tfkeras as efn\n",
    "import tensorflow as tf\n",
    "from tensorflow.keras.models import load_model\n",
    "import re\n",
    "import numpy as np\n",
    "from kaggle_datasets import KaggleDatasets\n",
    "\n",
    "model1_path = '../input/train-efficientnet/Effnet_30ep.h5'\n",
    "model2_path = '../input/train-densenet-xception/Xception_save.h5'\n",
    "model3_path = '../input/train-densenet-xception/Densenet_save.h5'\n",
    "\n",
    "AUTO = tf.data.experimental.AUTOTUNE\n",
    "tpu = tf.distribute.cluster_resolver.TPUClusterResolver()\n",
    "tf.config.experimental_connect_to_cluster(tpu)\n",
    "tf.tpu.experimental.initialize_tpu_system(tpu)\n",
    "strategy = tf.distribute.experimental.TPUStrategy(tpu)\n",
    "\n",
    "BATCH_SIZE = 32 * strategy.num_replicas_in_sync\n",
    "IMAGE_SIZE = [[512, 512] ,[331, 331], [224, 224]]\n",
    "TEST_FILENAMES = None"
   ]
  },
  {
   "cell_type": "code",
   "execution_count": 2,
   "metadata": {
    "_cell_guid": "b1076dfc-b9ad-4769-8c92-a6c4dae69d19",
    "_uuid": "8f2839f25d086af736a60e9eeb907d3b93b6e0e5",
    "execution": {
     "iopub.execute_input": "2020-10-02T04:34:36.812603Z",
     "iopub.status.busy": "2020-10-02T04:34:36.804664Z",
     "iopub.status.idle": "2020-10-02T04:34:36.815750Z",
     "shell.execute_reply": "2020-10-02T04:34:36.816322Z"
    },
    "papermill": {
     "duration": 0.042341,
     "end_time": "2020-10-02T04:34:36.816513",
     "exception": false,
     "start_time": "2020-10-02T04:34:36.774172",
     "status": "completed"
    },
    "tags": []
   },
   "outputs": [],
   "source": [
    "def decode_image(image_data, img_size):\n",
    "    image = tf.image.decode_jpeg(image_data, channels=3)\n",
    "    image = tf.cast(image, tf.float32) / 255.0  # convert image to floats in [0, 1] range\n",
    "    image = tf.reshape(image, [*img_size, 3]) # explicit size needed for TPU\n",
    "    return image\n",
    "\n",
    "def load_dataset(filenames, labeled=True, ordered=False, IMG_SIZE=None):\n",
    "    # Read from TFRecords. For optimal performance, reading from multiple files at once and\n",
    "    # disregarding data order. Order does not matter since we will be shuffling the data anyway.\n",
    "\n",
    "    ignore_order = tf.data.Options()\n",
    "    if not ordered:\n",
    "        ignore_order.experimental_deterministic = False # disable order, increase speed\n",
    "\n",
    "    dataset = tf.data.TFRecordDataset(filenames, num_parallel_reads=AUTO) # automatically interleaves reads from multiple files\n",
    "    dataset = dataset.with_options(ignore_order) # uses data as soon as it streams in, rather than in its original order\n",
    "    dataset = dataset.map(lambda example: read_labeled_tfrecord(example, IMG_SIZE) if labeled else \n",
    "                          read_unlabeled_tfrecord(example, IMG_SIZE), num_parallel_calls=AUTO)\n",
    "    # returns a dataset of (image, label) pairs if labeled=True or (image, id) pairs if labeled=False\n",
    "    return dataset\n",
    "\n",
    "def read_unlabeled_tfrecord(example, img_size):\n",
    "    UNLABELED_TFREC_FORMAT = {\n",
    "        \"image\": tf.io.FixedLenFeature([], tf.string), # tf.string means bytestring\n",
    "        \"id\": tf.io.FixedLenFeature([], tf.string),  # shape [] means single element\n",
    "        # class is missing, this competitions's challenge is to predict flower classes for the test dataset\n",
    "    }\n",
    "    example = tf.io.parse_single_example(example, UNLABELED_TFREC_FORMAT)\n",
    "    image = decode_image(example['image'], img_size)\n",
    "    idnum = example['id']\n",
    "    return image, idnum # returns a dataset of image(s)\n",
    "\n",
    "def get_test_dataset(ordered=False, IMG_SIZE=None):\n",
    "    dataset = load_dataset(TEST_FILENAMES, labeled=False, ordered=ordered, IMG_SIZE=IMG_SIZE)\n",
    "    dataset = dataset.batch(BATCH_SIZE)\n",
    "    dataset = dataset.prefetch(AUTO) # prefetch next batch while training (autotune prefetch buffer size)\n",
    "    return dataset\n",
    "\n",
    "def predict(model, img_size, n_iter):\n",
    "    probs  = []\n",
    "    data = get_test_dataset(ordered=True, IMG_SIZE=img_size)\n",
    "    for i in range(n_iter):\n",
    "        # Add TTA\n",
    "        test_images_ds = data.map(lambda image, idnum: image)\n",
    "\n",
    "        probs.append(model.predict(test_images_ds,verbose=0))\n",
    "    return probs\n",
    "\n",
    "def count_data_items(filenames):\n",
    "    # the number of data items is written in the name of the .tfrec files, i.e. flowers00-230.tfrec = 230 data items\n",
    "    n = [int(re.compile(r\"-([0-9]*)\\.\").search(filename).group(1)) for filename in filenames]\n",
    "    return np.sum(n)\n",
    "\n",
    "def get_testfiles_path(img_size=IMAGE_SIZE[0][0]):\n",
    "    global TEST_FILENAMES\n",
    "    GCS_DS_PATH = KaggleDatasets().get_gcs_path('tpu-getting-started')\n",
    "    GCS_PATH_SELECT = { 192: GCS_DS_PATH + '/tfrecords-jpeg-192x192',\n",
    "                        224: GCS_DS_PATH + '/tfrecords-jpeg-224x224',\n",
    "                        331: GCS_DS_PATH + '/tfrecords-jpeg-331x331',\n",
    "                        512: GCS_DS_PATH + '/tfrecords-jpeg-512x512' }\n",
    "    GCS_PATH = GCS_PATH_SELECT[img_size]\n",
    "    TEST_FILENAMES = tf.io.gfile.glob(GCS_PATH + '/test/*.tfrec') # predictions on this dataset should be submitted for the competition"
   ]
  },
  {
   "cell_type": "code",
   "execution_count": 3,
   "metadata": {
    "execution": {
     "iopub.execute_input": "2020-10-02T04:34:36.844897Z",
     "iopub.status.busy": "2020-10-02T04:34:36.844043Z",
     "iopub.status.idle": "2020-10-02T04:35:30.607210Z",
     "shell.execute_reply": "2020-10-02T04:35:30.606182Z"
    },
    "papermill": {
     "duration": 53.779904,
     "end_time": "2020-10-02T04:35:30.607394",
     "exception": false,
     "start_time": "2020-10-02T04:34:36.827490",
     "status": "completed"
    },
    "tags": []
   },
   "outputs": [],
   "source": [
    "model1 = load_model(model1_path)\n",
    "model2 = load_model(model2_path)\n",
    "model3 = load_model(model3_path)\n",
    "\n",
    "get_testfiles_path(IMAGE_SIZE[0][0])\n",
    "NUM_TEST_IMAGES = count_data_items(TEST_FILENAMES)"
   ]
  },
  {
   "cell_type": "code",
   "execution_count": 4,
   "metadata": {
    "_cell_guid": "79c7e3d0-c299-4dcb-8224-4455121ee9b0",
    "_uuid": "d629ff2d2480ee46fbb7e2d37f6b5fab8052498a",
    "execution": {
     "iopub.execute_input": "2020-10-02T04:35:30.655309Z",
     "iopub.status.busy": "2020-10-02T04:35:30.651144Z",
     "iopub.status.idle": "2020-10-02T05:13:59.559853Z",
     "shell.execute_reply": "2020-10-02T05:13:59.559074Z"
    },
    "papermill": {
     "duration": 2308.940226,
     "end_time": "2020-10-02T05:13:59.559981",
     "exception": false,
     "start_time": "2020-10-02T04:35:30.619755",
     "status": "completed"
    },
    "tags": []
   },
   "outputs": [
    {
     "name": "stdout",
     "output_type": "stream",
     "text": [
      "Calculating predictions...\n",
      "Generating submission file...\n"
     ]
    }
   ],
   "source": [
    "print('Calculating predictions...')\n",
    "probs1 = np.mean(predict(model1, IMAGE_SIZE[0], 3), axis=0)\n",
    "\n",
    "get_testfiles_path(IMAGE_SIZE[1][0])\n",
    "probs2 = np.mean(predict(model2, IMAGE_SIZE[1], 3), axis=0)\n",
    "\n",
    "get_testfiles_path(IMAGE_SIZE[2][0])\n",
    "probs3 = np.mean(predict(model3, IMAGE_SIZE[2], 3), axis=0)\n",
    "\n",
    "probabilities = probs1 + probs2 + probs3\n",
    "predictions = np.argmax(probabilities, axis=-1)\n",
    "\n",
    "print('Generating submission file...')\n",
    "test_ds = get_test_dataset(ordered=True, IMG_SIZE=IMAGE_SIZE[2])\n",
    "test_ids_ds = test_ds.map(lambda image, idnum: idnum).unbatch()\n",
    "test_ids = next(iter(test_ids_ds.batch(NUM_TEST_IMAGES))).numpy().astype('U') # all in one batch\n",
    "np.savetxt('submission.csv', np.rec.fromarrays([test_ids, predictions]), fmt=['%s', '%d'], delimiter=',', header='id,label', comments='')\n"
   ]
  }
 ],
 "metadata": {
  "kernelspec": {
   "display_name": "Python 3",
   "language": "python",
   "name": "python3"
  },
  "language_info": {
   "codemirror_mode": {
    "name": "ipython",
    "version": 3
   },
   "file_extension": ".py",
   "mimetype": "text/x-python",
   "name": "python",
   "nbconvert_exporter": "python",
   "pygments_lexer": "ipython3",
   "version": "3.7.6"
  },
  "papermill": {
   "duration": 2393.823011,
   "end_time": "2020-10-02T05:13:59.680276",
   "environment_variables": {},
   "exception": null,
   "input_path": "__notebook__.ipynb",
   "output_path": "__notebook__.ipynb",
   "parameters": {},
   "start_time": "2020-10-02T04:34:05.857265",
   "version": "2.1.0"
  }
 },
 "nbformat": 4,
 "nbformat_minor": 4
}
