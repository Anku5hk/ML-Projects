{
 "cells": [
  {
   "cell_type": "markdown",
   "metadata": {
    "papermill": {
     "duration": 0.023892,
     "end_time": "2020-10-01T11:55:22.403055",
     "exception": false,
     "start_time": "2020-10-01T11:55:22.379163",
     "status": "completed"
    },
    "tags": []
   },
   "source": [
    "The goal is to train 3 Models(Effnet-b5, DenseNet169, Xception) with 3 Different ImageSizes(512, 331, 224) and perform ensemble of them. Due to training time limitations in kaggle Effnet-b5 is trained on another notebook.\n",
    "\n",
    "Settings:\n",
    "* Extra training data [found here](https://www.kaggle.com/kirillblinov/tf-flower-photo-tfrec).\n",
    "* AUGs [Cutmix+Mixup+Some_tf_transforms].\n",
    "* Batch_size 256, Epochs 30, trian with all data no validationset.\n",
    "* Models: DenseNet169 is trianed with 224 and Xception is trianed with 331 imagesizes. More models details can be [found_here](https://keras.io/api/applications/#available-models).\n",
    "\n",
    "Huge thanks to @cdeotte, @tuckerarrants and @atamazian for thier notebooks."
   ]
  },
  {
   "cell_type": "code",
   "execution_count": 1,
   "metadata": {
    "_cell_guid": "b1076dfc-b9ad-4769-8c92-a6c4dae69d19",
    "_uuid": "8f2839f25d086af736a60e9eeb907d3b93b6e0e5",
    "execution": {
     "iopub.execute_input": "2020-10-01T11:55:22.452938Z",
     "iopub.status.busy": "2020-10-01T11:55:22.452137Z",
     "iopub.status.idle": "2020-10-01T11:55:28.353648Z",
     "shell.execute_reply": "2020-10-01T11:55:28.354212Z"
    },
    "papermill": {
     "duration": 5.929133,
     "end_time": "2020-10-01T11:55:28.354432",
     "exception": false,
     "start_time": "2020-10-01T11:55:22.425299",
     "status": "completed"
    },
    "tags": []
   },
   "outputs": [
    {
     "name": "stdout",
     "output_type": "stream",
     "text": [
      "Tensorflow version 2.2.0\n"
     ]
    }
   ],
   "source": [
    "import re, os\n",
    "import math\n",
    "import numpy as np\n",
    "\n",
    "from kaggle_datasets import KaggleDatasets\n",
    "from tensorflow.keras.applications import Xception, DenseNet169\n",
    "from matplotlib import pyplot as plt\n",
    "\n",
    "import tensorflow as tf\n",
    "from tensorflow.keras.callbacks import LearningRateScheduler\n",
    "print(\"Tensorflow version \" + tf.__version__)"
   ]
  },
  {
   "cell_type": "code",
   "execution_count": 2,
   "metadata": {
    "_cell_guid": "79c7e3d0-c299-4dcb-8224-4455121ee9b0",
    "_uuid": "d629ff2d2480ee46fbb7e2d37f6b5fab8052498a",
    "collapsed": true,
    "execution": {
     "iopub.execute_input": "2020-10-01T11:55:28.488918Z",
     "iopub.status.busy": "2020-10-01T11:55:28.407988Z",
     "iopub.status.idle": "2020-10-01T11:55:33.258783Z",
     "shell.execute_reply": "2020-10-01T11:55:33.258159Z"
    },
    "papermill": {
     "duration": 4.883368,
     "end_time": "2020-10-01T11:55:33.258904",
     "exception": false,
     "start_time": "2020-10-01T11:55:28.375536",
     "status": "completed"
    },
    "tags": []
   },
   "outputs": [],
   "source": [
    "# This is basically -1\n",
    "AUTO = tf.data.experimental.AUTOTUNE\n",
    "\n",
    "# Cluster Resolver for Google Cloud TPUs.\n",
    "tpu = tf.distribute.cluster_resolver.TPUClusterResolver()\n",
    "\n",
    "# Connects to the given cluster.\n",
    "tf.config.experimental_connect_to_cluster(tpu)\n",
    "\n",
    "# Initialize the TPU devices.\n",
    "tf.tpu.experimental.initialize_tpu_system(tpu)\n",
    "\n",
    "# TPU distribution strategy implementation.\n",
    "strategy = tf.distribute.experimental.TPUStrategy(tpu)"
   ]
  },
  {
   "cell_type": "code",
   "execution_count": 3,
   "metadata": {
    "execution": {
     "iopub.execute_input": "2020-10-01T11:55:33.306576Z",
     "iopub.status.busy": "2020-10-01T11:55:33.305525Z",
     "iopub.status.idle": "2020-10-01T11:55:33.309371Z",
     "shell.execute_reply": "2020-10-01T11:55:33.308615Z"
    },
    "papermill": {
     "duration": 0.030324,
     "end_time": "2020-10-01T11:55:33.309496",
     "exception": false,
     "start_time": "2020-10-01T11:55:33.279172",
     "status": "completed"
    },
    "tags": []
   },
   "outputs": [],
   "source": [
    "#set seed\n",
    "\n",
    "SEED = 42\n",
    "def seed_everything(seed):\n",
    "    os.environ['PYTHONHASHSEED'] = str(seed)\n",
    "    np.random.seed(seed)\n",
    "    tf.random.set_seed(seed)\n",
    "seed_everything(SEED)"
   ]
  },
  {
   "cell_type": "code",
   "execution_count": 4,
   "metadata": {
    "execution": {
     "iopub.execute_input": "2020-10-01T11:55:33.364600Z",
     "iopub.status.busy": "2020-10-01T11:55:33.363425Z",
     "iopub.status.idle": "2020-10-01T11:55:33.367569Z",
     "shell.execute_reply": "2020-10-01T11:55:33.368437Z"
    },
    "papermill": {
     "duration": 0.034741,
     "end_time": "2020-10-01T11:55:33.368666",
     "exception": false,
     "start_time": "2020-10-01T11:55:33.333925",
     "status": "completed"
    },
    "tags": []
   },
   "outputs": [
    {
     "name": "stdout",
     "output_type": "stream",
     "text": [
      "Batch size used:  256\n"
     ]
    }
   ],
   "source": [
    "# Configurations\n",
    "IMAGE_SIZE = [[331, 331], [224, 224]]\n",
    "EPOCHS = 30\n",
    "BATCH_SIZE = 32 * strategy.num_replicas_in_sync\n",
    "AUG_BATCH = BATCH_SIZE\n",
    "LEARNING_RATE = 1e-3\n",
    "print(\"Batch size used: \", BATCH_SIZE)"
   ]
  },
  {
   "cell_type": "code",
   "execution_count": 5,
   "metadata": {
    "execution": {
     "iopub.execute_input": "2020-10-01T11:55:33.433276Z",
     "iopub.status.busy": "2020-10-01T11:55:33.432604Z",
     "iopub.status.idle": "2020-10-01T11:55:34.896605Z",
     "shell.execute_reply": "2020-10-01T11:55:34.895849Z"
    },
    "papermill": {
     "duration": 1.505018,
     "end_time": "2020-10-01T11:55:34.896748",
     "exception": false,
     "start_time": "2020-10-01T11:55:33.391730",
     "status": "completed"
    },
    "tags": []
   },
   "outputs": [],
   "source": [
    "# As TPUs require access to the GCS path\n",
    "GCS_DS_PATH = KaggleDatasets().get_gcs_path('tpu-getting-started')\n",
    "MORE_IMAGES_GCS_DS_PATH = KaggleDatasets().get_gcs_path('tf-flower-photo-tfrec')"
   ]
  },
  {
   "cell_type": "code",
   "execution_count": 6,
   "metadata": {
    "execution": {
     "iopub.execute_input": "2020-10-01T11:55:34.954536Z",
     "iopub.status.busy": "2020-10-01T11:55:34.953485Z",
     "iopub.status.idle": "2020-10-01T11:55:34.956551Z",
     "shell.execute_reply": "2020-10-01T11:55:34.956003Z"
    },
    "papermill": {
     "duration": 0.038028,
     "end_time": "2020-10-01T11:55:34.956680",
     "exception": false,
     "start_time": "2020-10-01T11:55:34.918652",
     "status": "completed"
    },
    "tags": []
   },
   "outputs": [],
   "source": [
    "GCS_PATH_SELECT = { # available image sizes\n",
    "    192: GCS_DS_PATH + '/tfrecords-jpeg-192x192',\n",
    "    224: GCS_DS_PATH + '/tfrecords-jpeg-224x224',\n",
    "    331: GCS_DS_PATH + '/tfrecords-jpeg-331x331',\n",
    "    512: GCS_DS_PATH + '/tfrecords-jpeg-512x512'\n",
    "}\n",
    "MOREIMAGES_PATH_SELECT = {\n",
    "    192: '/tfrecords-jpeg-192x192',\n",
    "    224: '/tfrecords-jpeg-224x224',\n",
    "    331: '/tfrecords-jpeg-331x331',\n",
    "    512: '/tfrecords-jpeg-512x512'\n",
    "}"
   ]
  },
  {
   "cell_type": "code",
   "execution_count": 7,
   "metadata": {
    "execution": {
     "iopub.execute_input": "2020-10-01T11:55:35.021448Z",
     "iopub.status.busy": "2020-10-01T11:55:35.020468Z",
     "iopub.status.idle": "2020-10-01T11:55:35.023874Z",
     "shell.execute_reply": "2020-10-01T11:55:35.023232Z"
    },
    "papermill": {
     "duration": 0.042696,
     "end_time": "2020-10-01T11:55:35.023989",
     "exception": false,
     "start_time": "2020-10-01T11:55:34.981293",
     "status": "completed"
    },
    "tags": []
   },
   "outputs": [],
   "source": [
    "# function to get train,val,test filenames according to img_size from gcs path\n",
    "\n",
    "TRAINING_FILENAMES = None\n",
    "VALIDATION_FILENAMES = None\n",
    "TEST_FILENAMES = None\n",
    "STEPS_PER_EPOCH = None\n",
    "\n",
    "def get_filenames(img_size,batch_size,print_size=False):\n",
    "    global TRAINING_FILENAMES, VALIDATION_FILENAMES, TEST_FILENAMES, STEPS_PER_EPOCH\n",
    "    \n",
    "    GCS_PATH = GCS_PATH_SELECT[img_size]\n",
    "    TRAINING_FILENAMES = tf.io.gfile.glob(GCS_PATH + '/train/*.tfrec')\n",
    "    VALIDATION_FILENAMES = tf.io.gfile.glob(GCS_PATH + '/val/*.tfrec')\n",
    "    TEST_FILENAMES = tf.io.gfile.glob(GCS_PATH + '/test/*.tfrec') # predictions on this dataset should be submitted for the competition\n",
    "\n",
    "    MOREIMAGES_PATH = MOREIMAGES_PATH_SELECT[img_size]\n",
    "    IMAGENET_FILES = tf.io.gfile.glob(MORE_IMAGES_GCS_DS_PATH + '/imagenet' + MOREIMAGES_PATH + '/*.tfrec')\n",
    "    INATURELIST_FILES = tf.io.gfile.glob(MORE_IMAGES_GCS_DS_PATH + '/inaturalist' + MOREIMAGES_PATH + '/*.tfrec')\n",
    "    OPENIMAGE_FILES = tf.io.gfile.glob(MORE_IMAGES_GCS_DS_PATH + '/openimage' + MOREIMAGES_PATH + '/*.tfrec')\n",
    "\n",
    "    SKIP_VALIDATION = True\n",
    "\n",
    "    if SKIP_VALIDATION:\n",
    "        TRAINING_FILENAMES = TRAINING_FILENAMES + VALIDATION_FILENAMES + IMAGENET_FILES + INATURELIST_FILES + OPENIMAGE_FILES\n",
    "\n",
    "    # No of images in dataset\n",
    "    NUM_TRAINING_IMAGES = count_data_items(TRAINING_FILENAMES)\n",
    "    NUM_VALIDATION_IMAGES = count_data_items(VALIDATION_FILENAMES)\n",
    "    NUM_TEST_IMAGES = count_data_items(TEST_FILENAMES)\n",
    "    STEPS_PER_EPOCH = (NUM_TRAINING_IMAGES + NUM_VALIDATION_IMAGES) // batch_size\n",
    "    if print_size:\n",
    "        print('Dataset: {} training images, {} unlabeled test images'.format(NUM_TRAINING_IMAGES+NUM_VALIDATION_IMAGES, NUM_TEST_IMAGES))  "
   ]
  },
  {
   "cell_type": "code",
   "execution_count": 8,
   "metadata": {
    "execution": {
     "iopub.execute_input": "2020-10-01T11:55:35.086696Z",
     "iopub.status.busy": "2020-10-01T11:55:35.085794Z",
     "iopub.status.idle": "2020-10-01T11:55:35.089232Z",
     "shell.execute_reply": "2020-10-01T11:55:35.089743Z"
    },
    "papermill": {
     "duration": 0.044638,
     "end_time": "2020-10-01T11:55:35.089897",
     "exception": false,
     "start_time": "2020-10-01T11:55:35.045259",
     "status": "completed"
    },
    "tags": []
   },
   "outputs": [
    {
     "name": "stdout",
     "output_type": "stream",
     "text": [
      "No of Flower classes in dataset: 104\n"
     ]
    }
   ],
   "source": [
    "CLASSES = ['pink primrose',    'hard-leaved pocket orchid', 'canterbury bells', 'sweet pea',     'wild geranium',     'tiger lily',           'moon orchid',              'bird of paradise', 'monkshood',        'globe thistle',         # 00 - 09\n",
    "           'snapdragon',       \"colt's foot\",               'king protea',      'spear thistle', 'yellow iris',       'globe-flower',         'purple coneflower',        'peruvian lily',    'balloon flower',   'giant white arum lily', # 10 - 19\n",
    "           'fire lily',        'pincushion flower',         'fritillary',       'red ginger',    'grape hyacinth',    'corn poppy',           'prince of wales feathers', 'stemless gentian', 'artichoke',        'sweet william',         # 20 - 29\n",
    "           'carnation',        'garden phlox',              'love in the mist', 'cosmos',        'alpine sea holly',  'ruby-lipped cattleya', 'cape flower',              'great masterwort', 'siam tulip',       'lenten rose',           # 30 - 39\n",
    "           'barberton daisy',  'daffodil',                  'sword lily',       'poinsettia',    'bolero deep blue',  'wallflower',           'marigold',                 'buttercup',        'daisy',            'common dandelion',      # 40 - 49\n",
    "           'petunia',          'wild pansy',                'primula',          'sunflower',     'lilac hibiscus',    'bishop of llandaff',   'gaura',                    'geranium',         'orange dahlia',    'pink-yellow dahlia',    # 50 - 59\n",
    "           'cautleya spicata', 'japanese anemone',          'black-eyed susan', 'silverbush',    'californian poppy', 'osteospermum',         'spring crocus',            'iris',             'windflower',       'tree poppy',            # 60 - 69\n",
    "           'gazania',          'azalea',                    'water lily',       'rose',          'thorn apple',       'morning glory',        'passion flower',           'lotus',            'toad lily',        'anthurium',             # 70 - 79\n",
    "           'frangipani',       'clematis',                  'hibiscus',         'columbine',     'desert-rose',       'tree mallow',          'magnolia',                 'cyclamen ',        'watercress',       'canna lily',            # 80 - 89\n",
    "           'hippeastrum ',     'bee balm',                  'pink quill',       'foxglove',      'bougainvillea',     'camellia',             'mallow',                   'mexican petunia',  'bromelia',         'blanket flower',        # 90 - 99\n",
    "           'trumpet creeper',  'blackberry lily',           'common tulip',     'wild rose']               \n",
    "print(f\"No of Flower classes in dataset: {len(CLASSES)}\")"
   ]
  },
  {
   "cell_type": "markdown",
   "metadata": {
    "papermill": {
     "duration": 0.021638,
     "end_time": "2020-10-01T11:55:35.135271",
     "exception": false,
     "start_time": "2020-10-01T11:55:35.113633",
     "status": "completed"
    },
    "tags": []
   },
   "source": [
    "# Helper functions"
   ]
  },
  {
   "cell_type": "markdown",
   "metadata": {
    "papermill": {
     "duration": 0.024527,
     "end_time": "2020-10-01T11:55:35.181995",
     "exception": false,
     "start_time": "2020-10-01T11:55:35.157468",
     "status": "completed"
    },
    "tags": []
   },
   "source": [
    "### Dataset functions"
   ]
  },
  {
   "cell_type": "code",
   "execution_count": 9,
   "metadata": {
    "execution": {
     "iopub.execute_input": "2020-10-01T11:55:35.240705Z",
     "iopub.status.busy": "2020-10-01T11:55:35.235347Z",
     "iopub.status.idle": "2020-10-01T11:55:35.263999Z",
     "shell.execute_reply": "2020-10-01T11:55:35.263285Z"
    },
    "papermill": {
     "duration": 0.059915,
     "end_time": "2020-10-01T11:55:35.264110",
     "exception": false,
     "start_time": "2020-10-01T11:55:35.204195",
     "status": "completed"
    },
    "tags": []
   },
   "outputs": [],
   "source": [
    "def decode_image(image_data, img_size):\n",
    "    image = tf.image.decode_jpeg(image_data, channels=3)\n",
    "    image = tf.cast(image, tf.float32) / 255.0  # convert image to floats in [0, 1] range\n",
    "    image = tf.reshape(image, [*img_size, 3]) # explicit size needed for TPU\n",
    "    return image\n",
    "\n",
    "def read_labeled_tfrecord(example, img_size):\n",
    "    LABELED_TFREC_FORMAT = {\n",
    "        \"image\": tf.io.FixedLenFeature([], tf.string), # tf.string means bytestring\n",
    "        \"class\": tf.io.FixedLenFeature([], tf.int64),  # shape [] means single element\n",
    "    }\n",
    "    example = tf.io.parse_single_example(example, LABELED_TFREC_FORMAT)\n",
    "    image = decode_image(example['image'], img_size)\n",
    "    label = tf.cast(example['class'], tf.int32)\n",
    "    return image, label # returns a dataset of (image, label) pairs\n",
    "\n",
    "def read_unlabeled_tfrecord(example, img_size):\n",
    "    UNLABELED_TFREC_FORMAT = {\n",
    "        \"image\": tf.io.FixedLenFeature([], tf.string), # tf.string means bytestring\n",
    "        \"id\": tf.io.FixedLenFeature([], tf.string),  # shape [] means single element\n",
    "        # class is missing, this competitions's challenge is to predict flower classes for the test dataset\n",
    "    }\n",
    "    example = tf.io.parse_single_example(example, UNLABELED_TFREC_FORMAT)\n",
    "    image = decode_image(example['image'], img_size)\n",
    "    idnum = example['id']\n",
    "    return image, idnum # returns a dataset of image(s)\n",
    "\n",
    "def get_training_dataset(IMG_SIZE=None, cutmixup=True):\n",
    "    dataset = load_dataset(TRAINING_FILENAMES, labeled=True, IMG_SIZE= IMG_SIZE)\n",
    "    dataset = dataset.map(data_augment, num_parallel_calls=AUTO)\n",
    "    dataset = dataset.repeat() # the training dataset must repeat for several epochs)\n",
    "    if cutmixup: \n",
    "        dataset = dataset.batch(AUG_BATCH)\n",
    "        dataset = dataset.map(lambda image, label: transform(image, label, DIM=IMG_SIZE[0]), num_parallel_calls=AUTO)\n",
    "        dataset = dataset.unbatch()\n",
    "        dataset = dataset.shuffle(2048)\n",
    "    dataset = dataset.batch(BATCH_SIZE)\n",
    "    dataset = dataset.prefetch(AUTO) # prefetch next batch while training (autotune prefetch buffer size)\n",
    "    return dataset\n",
    "\n",
    "def get_validation_dataset(ordered=False, IMG_SIZE=None):\n",
    "    dataset = load_dataset(VALIDATION_FILENAMES, labeled=True, ordered=ordered, IMG_SIZE=IMG_SIZE)\n",
    "    dataset = dataset.batch(BATCH_SIZE)\n",
    "    dataset = dataset.cache()\n",
    "    dataset = dataset.prefetch(AUTO) # prefetch next batch while training (autotune prefetch buffer size)\n",
    "    return dataset\n",
    "\n",
    "def get_train_valid_datasets(IMG_SIZE=None):\n",
    "    dataset = load_dataset(TRAINING_FILENAMES + VALIDATION_FILENAMES, labeled=True, IMG_SIZE=IMG_SIZE)\n",
    "    dataset = dataset.map(data_augment, num_parallel_calls=AUTO)\n",
    "    dataset = dataset.repeat() # the training dataset must repeat for several epochs\n",
    "    dataset = dataset.shuffle(2048)\n",
    "    dataset = dataset.batch(BATCH_SIZE)\n",
    "    dataset = dataset.prefetch(AUTO) # prefetch next batch while training (autotune prefetch buffer size)\n",
    "    return dataset\n",
    "\n",
    "def get_test_dataset(ordered=False, IMG_SIZE=None):\n",
    "    dataset = load_dataset(TEST_FILENAMES, labeled=False, ordered=ordered, IMG_SIZE=IMG_SIZE)\n",
    "    dataset = dataset.batch(BATCH_SIZE)\n",
    "    dataset = dataset.prefetch(AUTO) # prefetch next batch while training (autotune prefetch buffer size)\n",
    "    return dataset\n",
    "\n",
    "def count_data_items(filenames):\n",
    "    # the number of data items is written in the name of the .tfrec files, i.e. flowers00-230.tfrec = 230 data items\n",
    "    n = [int(re.compile(r\"-([0-9]*)\\.\").search(filename).group(1)) for filename in filenames]\n",
    "    return np.sum(n)\n",
    "\n",
    "def load_dataset(filenames, labeled=True, ordered=False, IMG_SIZE=None):\n",
    "    # Read from TFRecords. For optimal performance, reading from multiple files at once and\n",
    "    # disregarding data order. Order does not matter since we will be shuffling the data anyway.\n",
    "\n",
    "    ignore_order = tf.data.Options()\n",
    "    if not ordered:\n",
    "        ignore_order.experimental_deterministic = False # disable order, increase speed\n",
    "\n",
    "    dataset = tf.data.TFRecordDataset(filenames, num_parallel_reads=AUTO) # automatically interleaves reads from multiple files\n",
    "    dataset = dataset.with_options(ignore_order) # uses data as soon as it streams in, rather than in its original order\n",
    "    dataset = dataset.map(lambda example: read_labeled_tfrecord(example, IMG_SIZE) if labeled else \n",
    "                          read_unlabeled_tfrecord(example, IMG_SIZE), num_parallel_calls=AUTO)\n",
    "    # returns a dataset of (image, label) pairs if labeled=True or (image, id) pairs if labeled=False\n",
    "    return dataset\n",
    "\n",
    "def plot_training(H):\n",
    "\t# construct a plot that plots and saves the training history\n",
    "\twith plt.xkcd():\n",
    "\t\tplt.figure()\n",
    "\t\tplt.plot(H.history[\"loss\"], label=\"train_loss\")\n",
    "\t\tplt.title(\"Training Loss\")\n",
    "\t\tplt.xlabel(\"Epoch #\")\n",
    "\t\tplt.ylabel(\"Loss\")\n",
    "\t\tplt.legend(loc=\"lower left\")\n",
    "\t\tplt.show()"
   ]
  },
  {
   "cell_type": "markdown",
   "metadata": {
    "papermill": {
     "duration": 0.022028,
     "end_time": "2020-10-01T11:55:35.308933",
     "exception": false,
     "start_time": "2020-10-01T11:55:35.286905",
     "status": "completed"
    },
    "tags": []
   },
   "source": [
    "## Augumentations"
   ]
  },
  {
   "cell_type": "markdown",
   "metadata": {
    "papermill": {
     "duration": 0.022033,
     "end_time": "2020-10-01T11:55:35.353266",
     "exception": false,
     "start_time": "2020-10-01T11:55:35.331233",
     "status": "completed"
    },
    "tags": []
   },
   "source": [
    "Basic Transforms"
   ]
  },
  {
   "cell_type": "code",
   "execution_count": 10,
   "metadata": {
    "execution": {
     "iopub.execute_input": "2020-10-01T11:55:35.406949Z",
     "iopub.status.busy": "2020-10-01T11:55:35.405844Z",
     "iopub.status.idle": "2020-10-01T11:55:35.409353Z",
     "shell.execute_reply": "2020-10-01T11:55:35.408650Z"
    },
    "papermill": {
     "duration": 0.034069,
     "end_time": "2020-10-01T11:55:35.409464",
     "exception": false,
     "start_time": "2020-10-01T11:55:35.375395",
     "status": "completed"
    },
    "tags": []
   },
   "outputs": [],
   "source": [
    "def data_augment(image, label, seed=SEED):\n",
    "    # data augmentation. Thanks to the dataset.prefetch(AUTO) statement in the next function (below),\n",
    "    # this happens essentially for free on TPU. Data pipeline code is executed on the \"CPU\" part\n",
    "    # of the TPU while the TPU itself is computing gradients.\n",
    "    image = tf.image.random_flip_left_right(image, seed=seed)\n",
    "    image = tf.image.random_brightness(image, 0.1, seed=seed)\n",
    "    image = tf.image.random_hue(image, 0.01)\n",
    "    image = tf.image.random_saturation(image, 0.7, 1.3)\n",
    "    image = tf.image.random_contrast(image, 0.8, 1.2)\n",
    "    image = tf.image.random_brightness(image, 0.1)\n",
    "    image = tf.image.random_saturation(image, 0, 2)\n",
    "    \n",
    "    return image, label   "
   ]
  },
  {
   "cell_type": "markdown",
   "metadata": {
    "papermill": {
     "duration": 0.021906,
     "end_time": "2020-10-01T11:55:35.453991",
     "exception": false,
     "start_time": "2020-10-01T11:55:35.432085",
     "status": "completed"
    },
    "tags": []
   },
   "source": [
    "Cutmix+Mixup"
   ]
  },
  {
   "cell_type": "code",
   "execution_count": 11,
   "metadata": {
    "execution": {
     "iopub.execute_input": "2020-10-01T11:55:35.521806Z",
     "iopub.status.busy": "2020-10-01T11:55:35.520792Z",
     "iopub.status.idle": "2020-10-01T11:55:35.524165Z",
     "shell.execute_reply": "2020-10-01T11:55:35.523547Z"
    },
    "papermill": {
     "duration": 0.047878,
     "end_time": "2020-10-01T11:55:35.524359",
     "exception": false,
     "start_time": "2020-10-01T11:55:35.476481",
     "status": "completed"
    },
    "tags": []
   },
   "outputs": [],
   "source": [
    "def cutmix(image, label, PROBABILITY = 1.0, DIM = None):\n",
    "    # input image - is a batch of images of size [n,dim,dim,3] not a single image of [dim,dim,3]\n",
    "    # output - a batch of images with cutmix applied\n",
    "    CLASSES = 104\n",
    "    \n",
    "    imgs = []; labs = []\n",
    "    for j in range(AUG_BATCH):\n",
    "        # DO CUTMIX WITH PROBABILITY DEFINED ABOVE\n",
    "        P = tf.cast( tf.random.uniform([],0,1)<=PROBABILITY, tf.int32)\n",
    "        # CHOOSE RANDOM IMAGE TO CUTMIX WITH\n",
    "        k = tf.cast( tf.random.uniform([],0,AUG_BATCH),tf.int32)\n",
    "        # CHOOSE RANDOM LOCATION\n",
    "        x = tf.cast( tf.random.uniform([],0,DIM),tf.int32)\n",
    "        y = tf.cast( tf.random.uniform([],0,DIM),tf.int32)\n",
    "        b = tf.random.uniform([],0,1) # this is beta dist with alpha=1.0\n",
    "        WIDTH = tf.cast( DIM * tf.math.sqrt(1-b),tf.int32) * P\n",
    "        ya = tf.math.maximum(0,y-WIDTH//2)\n",
    "        yb = tf.math.minimum(DIM,y+WIDTH//2)\n",
    "        xa = tf.math.maximum(0,x-WIDTH//2)\n",
    "        xb = tf.math.minimum(DIM,x+WIDTH//2)\n",
    "        # MAKE CUTMIX IMAGE\n",
    "        one = image[j,ya:yb,0:xa,:]\n",
    "        two = image[k,ya:yb,xa:xb,:]\n",
    "        three = image[j,ya:yb,xb:DIM,:]\n",
    "        middle = tf.concat([one,two,three],axis=1)\n",
    "        img = tf.concat([image[j,0:ya,:,:],middle,image[j,yb:DIM,:,:]],axis=0)\n",
    "        imgs.append(img)\n",
    "        # MAKE CUTMIX LABEL\n",
    "        a = tf.cast(WIDTH*WIDTH/DIM/DIM,tf.float32)\n",
    "        if len(label.shape)==1:\n",
    "            lab1 = tf.one_hot(label[j],CLASSES)\n",
    "            lab2 = tf.one_hot(label[k],CLASSES)\n",
    "        else:\n",
    "            lab1 = label[j,]\n",
    "            lab2 = label[k,]\n",
    "        labs.append((1-a)*lab1 + a*lab2)\n",
    "            \n",
    "    # RESHAPE HACK SO TPU COMPILER KNOWS SHAPE OF OUTPUT TENSOR (maybe use Python typing instead?)\n",
    "    image2 = tf.reshape(tf.stack(imgs),(AUG_BATCH,DIM,DIM,3))\n",
    "    label2 = tf.reshape(tf.stack(labs),(AUG_BATCH,CLASSES))\n",
    "    return image2,label2"
   ]
  },
  {
   "cell_type": "code",
   "execution_count": 12,
   "metadata": {
    "execution": {
     "iopub.execute_input": "2020-10-01T11:55:35.585141Z",
     "iopub.status.busy": "2020-10-01T11:55:35.584109Z",
     "iopub.status.idle": "2020-10-01T11:55:35.587612Z",
     "shell.execute_reply": "2020-10-01T11:55:35.586942Z"
    },
    "papermill": {
     "duration": 0.040669,
     "end_time": "2020-10-01T11:55:35.587725",
     "exception": false,
     "start_time": "2020-10-01T11:55:35.547056",
     "status": "completed"
    },
    "tags": []
   },
   "outputs": [],
   "source": [
    "def mixup(image, label, PROBABILITY = 1.0, DIM=None):\n",
    "    # input image - is a batch of images of size [n,dim,dim,3] not a single image of [dim,dim,3]\n",
    "    # output - a batch of images with mixup applied\n",
    "    CLASSES = 104\n",
    "    \n",
    "    imgs = []; labs = []\n",
    "    for j in range(AUG_BATCH):\n",
    "        # DO MIXUP WITH PROBABILITY DEFINED ABOVE\n",
    "        P = tf.cast( tf.random.uniform([],0,1)<=PROBABILITY, tf.float32)\n",
    "        # CHOOSE RANDOM\n",
    "        k = tf.cast( tf.random.uniform([],0,AUG_BATCH),tf.int32)\n",
    "        a = tf.random.uniform([],0,1)*P # this is beta dist with alpha=1.0\n",
    "        # MAKE MIXUP IMAGE\n",
    "        img1 = image[j,]\n",
    "        img2 = image[k,]\n",
    "        imgs.append((1-a)*img1 + a*img2)\n",
    "        # MAKE CUTMIX LABEL\n",
    "        if len(label.shape)==1:\n",
    "            lab1 = tf.one_hot(label[j],CLASSES)\n",
    "            lab2 = tf.one_hot(label[k],CLASSES)\n",
    "        else:\n",
    "            lab1 = label[j,]\n",
    "            lab2 = label[k,]\n",
    "        labs.append((1-a)*lab1 + a*lab2)\n",
    "            \n",
    "    # RESHAPE HACK SO TPU COMPILER KNOWS SHAPE OF OUTPUT TENSOR (maybe use Python typing instead?)\n",
    "    image2 = tf.reshape(tf.stack(imgs),(AUG_BATCH,DIM,DIM,3))\n",
    "    label2 = tf.reshape(tf.stack(labs),(AUG_BATCH,CLASSES))\n",
    "    return image2,label2"
   ]
  },
  {
   "cell_type": "code",
   "execution_count": 13,
   "metadata": {
    "execution": {
     "iopub.execute_input": "2020-10-01T11:55:35.650349Z",
     "iopub.status.busy": "2020-10-01T11:55:35.649643Z",
     "iopub.status.idle": "2020-10-01T11:55:35.653289Z",
     "shell.execute_reply": "2020-10-01T11:55:35.652586Z"
    },
    "papermill": {
     "duration": 0.042437,
     "end_time": "2020-10-01T11:55:35.653426",
     "exception": false,
     "start_time": "2020-10-01T11:55:35.610989",
     "status": "completed"
    },
    "tags": []
   },
   "outputs": [],
   "source": [
    "def transform(image,label, DIM=None):\n",
    "    # THIS FUNCTION APPLIES BOTH CUTMIX AND MIXUP\n",
    "    # DIM is image size eg 224\n",
    "    CLASSES = 104\n",
    "    SWITCH = 0.5\n",
    "    CUTMIX_PROB = 0.666\n",
    "    MIXUP_PROB = 0.666\n",
    "    # FOR SWITCH PERCENT OF TIME WE DO CUTMIX AND (1-SWITCH) WE DO MIXUP\n",
    "    image2, label2 = cutmix(image, label, CUTMIX_PROB, DIM)\n",
    "    image3, label3 = mixup(image, label, MIXUP_PROB, DIM)\n",
    "    imgs = []; labs = []\n",
    "    for j in range(AUG_BATCH):\n",
    "        P = tf.cast( tf.random.uniform([],0,1)<=SWITCH, tf.float32)\n",
    "        imgs.append(P*image2[j,]+(1-P)*image3[j,])\n",
    "        labs.append(P*label2[j,]+(1-P)*label3[j,])\n",
    "    # RESHAPE HACK SO TPU COMPILER KNOWS SHAPE OF OUTPUT TENSOR (maybe use Python typing instead?)\n",
    "    image4 = tf.reshape(tf.stack(imgs),(AUG_BATCH,DIM,DIM,3))\n",
    "    label4 = tf.reshape(tf.stack(labs),(AUG_BATCH,CLASSES))\n",
    "    return image4,label4"
   ]
  },
  {
   "cell_type": "markdown",
   "metadata": {
    "papermill": {
     "duration": 0.022608,
     "end_time": "2020-10-01T11:55:35.698788",
     "exception": false,
     "start_time": "2020-10-01T11:55:35.676180",
     "status": "completed"
    },
    "tags": []
   },
   "source": [
    "## Models"
   ]
  },
  {
   "cell_type": "code",
   "execution_count": 14,
   "metadata": {
    "execution": {
     "iopub.execute_input": "2020-10-01T11:55:35.753943Z",
     "iopub.status.busy": "2020-10-01T11:55:35.752933Z",
     "iopub.status.idle": "2020-10-01T11:55:35.756156Z",
     "shell.execute_reply": "2020-10-01T11:55:35.755562Z"
    },
    "papermill": {
     "duration": 0.034634,
     "end_time": "2020-10-01T11:55:35.756259",
     "exception": false,
     "start_time": "2020-10-01T11:55:35.721625",
     "status": "completed"
    },
    "tags": []
   },
   "outputs": [],
   "source": [
    "def get_xception():\n",
    "    with strategy.scope():\n",
    "        xception = Xception(weights='imagenet', input_shape=(IMAGE_SIZE[0][0], IMAGE_SIZE[0][1], 3), \n",
    "                            include_top = False)\n",
    "        xception.trainable = True\n",
    "        model = tf.keras.Sequential([\n",
    "                    xception,\n",
    "                    tf.keras.layers.GlobalAveragePooling2D(),\n",
    "                    #tf.keras.layers.Dropout(0.2),\n",
    "                    tf.keras.layers.Dense(104, activation = 'softmax',dtype = 'float32')\n",
    "                ])\n",
    "        model.compile(optimizer='adam', loss = 'categorical_crossentropy', metrics=['categorical_accuracy'])\n",
    "    return model"
   ]
  },
  {
   "cell_type": "code",
   "execution_count": 15,
   "metadata": {
    "execution": {
     "iopub.execute_input": "2020-10-01T11:55:35.811732Z",
     "iopub.status.busy": "2020-10-01T11:55:35.810852Z",
     "iopub.status.idle": "2020-10-01T11:55:35.814175Z",
     "shell.execute_reply": "2020-10-01T11:55:35.813535Z"
    },
    "papermill": {
     "duration": 0.035211,
     "end_time": "2020-10-01T11:55:35.814306",
     "exception": false,
     "start_time": "2020-10-01T11:55:35.779095",
     "status": "completed"
    },
    "tags": []
   },
   "outputs": [],
   "source": [
    "def get_densenet():\n",
    "    with strategy.scope():\n",
    "        densenet = DenseNet169(weights='imagenet', input_shape=(IMAGE_SIZE[1][0], IMAGE_SIZE[1][1], 3), \n",
    "                               include_top = False)\n",
    "        densenet.trainable = True\n",
    "        DenseNet = tf.keras.Sequential([\n",
    "                    densenet,\n",
    "                    tf.keras.layers.GlobalAveragePooling2D(),\n",
    "                    #tf.keras.layers.Dropout(0.2),\n",
    "                    tf.keras.layers.Dense(104, activation = 'softmax',dtype = 'float32')\n",
    "                ])\n",
    "        DenseNet.compile(optimizer='adam', loss = 'categorical_crossentropy', metrics=['categorical_accuracy'])\n",
    "    return DenseNet"
   ]
  },
  {
   "cell_type": "markdown",
   "metadata": {
    "papermill": {
     "duration": 0.023034,
     "end_time": "2020-10-01T11:55:35.860508",
     "exception": false,
     "start_time": "2020-10-01T11:55:35.837474",
     "status": "completed"
    },
    "tags": []
   },
   "source": [
    "lr-scheduler"
   ]
  },
  {
   "cell_type": "code",
   "execution_count": 16,
   "metadata": {
    "execution": {
     "iopub.execute_input": "2020-10-01T11:55:35.918529Z",
     "iopub.status.busy": "2020-10-01T11:55:35.917854Z",
     "iopub.status.idle": "2020-10-01T11:55:36.151057Z",
     "shell.execute_reply": "2020-10-01T11:55:36.151663Z"
    },
    "papermill": {
     "duration": 0.267999,
     "end_time": "2020-10-01T11:55:36.151814",
     "exception": false,
     "start_time": "2020-10-01T11:55:35.883815",
     "status": "completed"
    },
    "tags": []
   },
   "outputs": [
    {
     "name": "stdout",
     "output_type": "stream",
     "text": [
      "Learning rate schedule: 1e-05 to 0.0004 to 1.01e-05\n"
     ]
    },
    {
     "data": {
      "image/png": "[encoded data removed]",
      "text/plain": [
       "<Figure size 432x288 with 1 Axes>"
      ]
     },
     "metadata": {
      "needs_background": "light"
     },
     "output_type": "display_data"
    }
   ],
   "source": [
    "# Using an LR ramp up because fine-tuning a pre-trained model.\n",
    "# Starting with a high LR would break the pre-trained weights.\n",
    "\n",
    "LR_START = 0.00001\n",
    "LR_MAX = 0.00005 * strategy.num_replicas_in_sync\n",
    "LR_MIN = 0.00001\n",
    "LR_RAMPUP_EPOCHS = 5\n",
    "LR_SUSTAIN_EPOCHS = 0\n",
    "LR_EXP_DECAY = .7\n",
    "\n",
    "def lrfn(epoch):\n",
    "    if epoch < LR_RAMPUP_EPOCHS:\n",
    "        lr = (LR_MAX - LR_START) / LR_RAMPUP_EPOCHS * epoch + LR_START\n",
    "    elif epoch < LR_RAMPUP_EPOCHS + LR_SUSTAIN_EPOCHS:\n",
    "        lr = LR_MAX\n",
    "    else:\n",
    "        lr = (LR_MAX - LR_MIN) * LR_EXP_DECAY**(epoch - LR_RAMPUP_EPOCHS - LR_SUSTAIN_EPOCHS) + LR_MIN\n",
    "    return lr\n",
    "    \n",
    "lr_callback = tf.keras.callbacks.LearningRateScheduler(lrfn, verbose=True)\n",
    "\n",
    "rng = [i for i in range(EPOCHS)]\n",
    "y = [lrfn(x) for x in rng]\n",
    "plt.plot(rng, y)\n",
    "print(\"Learning rate schedule: {:.3g} to {:.3g} to {:.3g}\".format(y[0], max(y), y[-1]))"
   ]
  },
  {
   "cell_type": "markdown",
   "metadata": {
    "papermill": {
     "duration": 0.024262,
     "end_time": "2020-10-01T11:55:36.204205",
     "exception": false,
     "start_time": "2020-10-01T11:55:36.179943",
     "status": "completed"
    },
    "tags": []
   },
   "source": [
    "## TRAIN-1 \n",
    "Xception-331"
   ]
  },
  {
   "cell_type": "code",
   "execution_count": 17,
   "metadata": {
    "execution": {
     "iopub.execute_input": "2020-10-01T11:55:37.134012Z",
     "iopub.status.busy": "2020-10-01T11:55:36.557889Z",
     "iopub.status.idle": "2020-10-01T11:55:37.137886Z",
     "shell.execute_reply": "2020-10-01T11:55:37.137337Z"
    },
    "papermill": {
     "duration": 0.908387,
     "end_time": "2020-10-01T11:55:37.137994",
     "exception": false,
     "start_time": "2020-10-01T11:55:36.229607",
     "status": "completed"
    },
    "tags": []
   },
   "outputs": [
    {
     "name": "stdout",
     "output_type": "stream",
     "text": [
      "Dataset: 70638 training images, 7382 unlabeled test images\n"
     ]
    }
   ],
   "source": [
    "get_filenames(IMAGE_SIZE[0][0], BATCH_SIZE, print_size=True)"
   ]
  },
  {
   "cell_type": "code",
   "execution_count": 18,
   "metadata": {
    "execution": {
     "iopub.execute_input": "2020-10-01T11:55:37.195529Z",
     "iopub.status.busy": "2020-10-01T11:55:37.194803Z",
     "iopub.status.idle": "2020-10-01T13:18:16.056168Z",
     "shell.execute_reply": "2020-10-01T13:18:16.055645Z"
    },
    "papermill": {
     "duration": 4958.893021,
     "end_time": "2020-10-01T13:18:16.056309",
     "exception": false,
     "start_time": "2020-10-01T11:55:37.163288",
     "status": "completed"
    },
    "tags": []
   },
   "outputs": [
    {
     "name": "stdout",
     "output_type": "stream",
     "text": [
      "Downloading data from https://storage.googleapis.com/tensorflow/keras-applications/xception/xception_weights_tf_dim_ordering_tf_kernels_notop.h5\n",
      "83689472/83683744 [==============================] - 1s 0us/step\n",
      "\n",
      "Epoch 00001: LearningRateScheduler reducing learning rate to 1e-05.\n",
      "Epoch 1/30\n",
      "275/275 [==============================] - ETA: 0s - loss: 4.0811 - categorical_accuracy: 0.1828\n",
      "Epoch 00001: saving model to Xception_save.h5\n",
      "275/275 [==============================] - 158s 576ms/step - loss: 4.0811 - categorical_accuracy: 0.1828 - lr: 1.0000e-05\n",
      "\n",
      "Epoch 00002: LearningRateScheduler reducing learning rate to 8.8e-05.\n",
      "Epoch 2/30\n",
      "275/275 [==============================] - ETA: 0s - loss: 2.1280 - categorical_accuracy: 0.5888\n",
      "Epoch 00002: saving model to Xception_save.h5\n",
      "275/275 [==============================] - 160s 582ms/step - loss: 2.1280 - categorical_accuracy: 0.5888 - lr: 8.8000e-05\n",
      "\n",
      "Epoch 00003: LearningRateScheduler reducing learning rate to 0.000166.\n",
      "Epoch 3/30\n",
      "275/275 [==============================] - ETA: 0s - loss: 1.4910 - categorical_accuracy: 0.7274\n",
      "Epoch 00003: saving model to Xception_save.h5\n",
      "275/275 [==============================] - 161s 584ms/step - loss: 1.4910 - categorical_accuracy: 0.7274 - lr: 1.6600e-04\n",
      "\n",
      "Epoch 00004: LearningRateScheduler reducing learning rate to 0.000244.\n",
      "Epoch 4/30\n",
      "275/275 [==============================] - ETA: 0s - loss: 1.2699 - categorical_accuracy: 0.7707\n",
      "Epoch 00004: saving model to Xception_save.h5\n",
      "275/275 [==============================] - 161s 586ms/step - loss: 1.2699 - categorical_accuracy: 0.7707 - lr: 2.4400e-04\n",
      "\n",
      "Epoch 00005: LearningRateScheduler reducing learning rate to 0.000322.\n",
      "Epoch 5/30\n",
      "275/275 [==============================] - ETA: 0s - loss: 1.1731 - categorical_accuracy: 0.7916\n",
      "Epoch 00005: saving model to Xception_save.h5\n",
      "275/275 [==============================] - 161s 585ms/step - loss: 1.1731 - categorical_accuracy: 0.7916 - lr: 3.2200e-04\n",
      "\n",
      "Epoch 00006: LearningRateScheduler reducing learning rate to 0.0004.\n",
      "Epoch 6/30\n",
      "275/275 [==============================] - ETA: 0s - loss: 1.1128 - categorical_accuracy: 0.8056\n",
      "Epoch 00006: saving model to Xception_save.h5\n",
      "275/275 [==============================] - 161s 586ms/step - loss: 1.1128 - categorical_accuracy: 0.8056 - lr: 4.0000e-04\n",
      "\n",
      "Epoch 00007: LearningRateScheduler reducing learning rate to 0.000283.\n",
      "Epoch 7/30\n",
      "275/275 [==============================] - ETA: 0s - loss: 1.0291 - categorical_accuracy: 0.8239\n",
      "Epoch 00007: saving model to Xception_save.h5\n",
      "275/275 [==============================] - 161s 585ms/step - loss: 1.0291 - categorical_accuracy: 0.8239 - lr: 2.8300e-04\n",
      "\n",
      "Epoch 00008: LearningRateScheduler reducing learning rate to 0.00020109999999999998.\n",
      "Epoch 8/30\n",
      "275/275 [==============================] - ETA: 0s - loss: 0.9721 - categorical_accuracy: 0.8352\n",
      "Epoch 00008: saving model to Xception_save.h5\n",
      "275/275 [==============================] - 161s 585ms/step - loss: 0.9721 - categorical_accuracy: 0.8352 - lr: 2.0110e-04\n",
      "\n",
      "Epoch 00009: LearningRateScheduler reducing learning rate to 0.00014376999999999996.\n",
      "Epoch 9/30\n",
      "275/275 [==============================] - ETA: 0s - loss: 0.9294 - categorical_accuracy: 0.8460\n",
      "Epoch 00009: saving model to Xception_save.h5\n",
      "275/275 [==============================] - 161s 584ms/step - loss: 0.9294 - categorical_accuracy: 0.8460 - lr: 1.4377e-04\n",
      "\n",
      "Epoch 00010: LearningRateScheduler reducing learning rate to 0.00010363899999999997.\n",
      "Epoch 10/30\n",
      "275/275 [==============================] - ETA: 0s - loss: 0.9105 - categorical_accuracy: 0.8468\n",
      "Epoch 00010: saving model to Xception_save.h5\n",
      "275/275 [==============================] - 161s 586ms/step - loss: 0.9105 - categorical_accuracy: 0.8468 - lr: 1.0364e-04\n",
      "\n",
      "Epoch 00011: LearningRateScheduler reducing learning rate to 7.554729999999998e-05.\n",
      "Epoch 11/30\n",
      "275/275 [==============================] - ETA: 0s - loss: 0.8940 - categorical_accuracy: 0.8545\n",
      "Epoch 00011: saving model to Xception_save.h5\n",
      "275/275 [==============================] - 161s 586ms/step - loss: 0.8940 - categorical_accuracy: 0.8545 - lr: 7.5547e-05\n",
      "\n",
      "Epoch 00012: LearningRateScheduler reducing learning rate to 5.588310999999998e-05.\n",
      "Epoch 12/30\n",
      "275/275 [==============================] - ETA: 0s - loss: 0.8697 - categorical_accuracy: 0.8584\n",
      "Epoch 00012: saving model to Xception_save.h5\n",
      "275/275 [==============================] - 160s 584ms/step - loss: 0.8697 - categorical_accuracy: 0.8584 - lr: 5.5883e-05\n",
      "\n",
      "Epoch 00013: LearningRateScheduler reducing learning rate to 4.211817699999998e-05.\n",
      "Epoch 13/30\n",
      "275/275 [==============================] - ETA: 0s - loss: 0.8663 - categorical_accuracy: 0.8585\n",
      "Epoch 00013: saving model to Xception_save.h5\n",
      "275/275 [==============================] - 160s 583ms/step - loss: 0.8663 - categorical_accuracy: 0.8585 - lr: 4.2118e-05\n",
      "\n",
      "Epoch 00014: LearningRateScheduler reducing learning rate to 3.248272389999999e-05.\n",
      "Epoch 14/30\n",
      "275/275 [==============================] - ETA: 0s - loss: 0.8599 - categorical_accuracy: 0.8598\n",
      "Epoch 00014: saving model to Xception_save.h5\n",
      "275/275 [==============================] - 160s 583ms/step - loss: 0.8599 - categorical_accuracy: 0.8598 - lr: 3.2483e-05\n",
      "\n",
      "Epoch 00015: LearningRateScheduler reducing learning rate to 2.573790672999999e-05.\n",
      "Epoch 15/30\n",
      "275/275 [==============================] - ETA: 0s - loss: 0.8432 - categorical_accuracy: 0.8618\n",
      "Epoch 00015: saving model to Xception_save.h5\n",
      "275/275 [==============================] - 161s 586ms/step - loss: 0.8432 - categorical_accuracy: 0.8618 - lr: 2.5738e-05\n",
      "\n",
      "Epoch 00016: LearningRateScheduler reducing learning rate to 2.1016534710999995e-05.\n",
      "Epoch 16/30\n",
      "275/275 [==============================] - ETA: 0s - loss: 0.8411 - categorical_accuracy: 0.8627\n",
      "Epoch 00016: saving model to Xception_save.h5\n",
      "275/275 [==============================] - 161s 585ms/step - loss: 0.8411 - categorical_accuracy: 0.8627 - lr: 2.1017e-05\n",
      "\n",
      "Epoch 00017: LearningRateScheduler reducing learning rate to 1.7711574297699996e-05.\n",
      "Epoch 17/30\n",
      "275/275 [==============================] - ETA: 0s - loss: 0.8439 - categorical_accuracy: 0.8641\n",
      "Epoch 00017: saving model to Xception_save.h5\n",
      "275/275 [==============================] - 161s 585ms/step - loss: 0.8439 - categorical_accuracy: 0.8641 - lr: 1.7712e-05\n",
      "\n",
      "Epoch 00018: LearningRateScheduler reducing learning rate to 1.5398102008389997e-05.\n",
      "Epoch 18/30\n",
      "275/275 [==============================] - ETA: 0s - loss: 0.8374 - categorical_accuracy: 0.8665\n",
      "Epoch 00018: saving model to Xception_save.h5\n",
      "275/275 [==============================] - 161s 586ms/step - loss: 0.8374 - categorical_accuracy: 0.8665 - lr: 1.5398e-05\n",
      "\n",
      "Epoch 00019: LearningRateScheduler reducing learning rate to 1.3778671405872997e-05.\n",
      "Epoch 19/30\n",
      "275/275 [==============================] - ETA: 0s - loss: 0.8334 - categorical_accuracy: 0.8657\n",
      "Epoch 00019: saving model to Xception_save.h5\n",
      "275/275 [==============================] - 161s 586ms/step - loss: 0.8334 - categorical_accuracy: 0.8657 - lr: 1.3779e-05\n",
      "\n",
      "Epoch 00020: LearningRateScheduler reducing learning rate to 1.2645069984111098e-05.\n",
      "Epoch 20/30\n",
      "275/275 [==============================] - ETA: 0s - loss: 0.8351 - categorical_accuracy: 0.8645\n",
      "Epoch 00020: saving model to Xception_save.h5\n",
      "275/275 [==============================] - 161s 587ms/step - loss: 0.8351 - categorical_accuracy: 0.8645 - lr: 1.2645e-05\n",
      "\n",
      "Epoch 00021: LearningRateScheduler reducing learning rate to 1.1851548988877769e-05.\n",
      "Epoch 21/30\n",
      "275/275 [==============================] - ETA: 0s - loss: 0.8340 - categorical_accuracy: 0.8668\n",
      "Epoch 00021: saving model to Xception_save.h5\n",
      "275/275 [==============================] - 161s 585ms/step - loss: 0.8340 - categorical_accuracy: 0.8668 - lr: 1.1852e-05\n",
      "\n",
      "Epoch 00022: LearningRateScheduler reducing learning rate to 1.1296084292214439e-05.\n",
      "Epoch 22/30\n",
      "275/275 [==============================] - ETA: 0s - loss: 0.8286 - categorical_accuracy: 0.8644\n",
      "Epoch 00022: saving model to Xception_save.h5\n",
      "275/275 [==============================] - 161s 585ms/step - loss: 0.8286 - categorical_accuracy: 0.8644 - lr: 1.1296e-05\n",
      "\n",
      "Epoch 00023: LearningRateScheduler reducing learning rate to 1.0907259004550108e-05.\n",
      "Epoch 23/30\n",
      "275/275 [==============================] - ETA: 0s - loss: 0.8252 - categorical_accuracy: 0.8672\n",
      "Epoch 00023: saving model to Xception_save.h5\n",
      "275/275 [==============================] - 161s 586ms/step - loss: 0.8252 - categorical_accuracy: 0.8672 - lr: 1.0907e-05\n",
      "\n",
      "Epoch 00024: LearningRateScheduler reducing learning rate to 1.0635081303185075e-05.\n",
      "Epoch 24/30\n",
      "275/275 [==============================] - ETA: 0s - loss: 0.8243 - categorical_accuracy: 0.8676\n",
      "Epoch 00024: saving model to Xception_save.h5\n",
      "275/275 [==============================] - 161s 587ms/step - loss: 0.8243 - categorical_accuracy: 0.8676 - lr: 1.0635e-05\n",
      "\n",
      "Epoch 00025: LearningRateScheduler reducing learning rate to 1.0444556912229552e-05.\n",
      "Epoch 25/30\n",
      "275/275 [==============================] - ETA: 0s - loss: 0.8222 - categorical_accuracy: 0.8678\n",
      "Epoch 00025: saving model to Xception_save.h5\n",
      "275/275 [==============================] - 161s 584ms/step - loss: 0.8222 - categorical_accuracy: 0.8678 - lr: 1.0445e-05\n",
      "\n",
      "Epoch 00026: LearningRateScheduler reducing learning rate to 1.0311189838560687e-05.\n",
      "Epoch 26/30\n",
      "275/275 [==============================] - ETA: 0s - loss: 0.8175 - categorical_accuracy: 0.8690\n",
      "Epoch 00026: saving model to Xception_save.h5\n",
      "275/275 [==============================] - 161s 585ms/step - loss: 0.8175 - categorical_accuracy: 0.8690 - lr: 1.0311e-05\n",
      "\n",
      "Epoch 00027: LearningRateScheduler reducing learning rate to 1.0217832886992482e-05.\n",
      "Epoch 27/30\n",
      "275/275 [==============================] - ETA: 0s - loss: 0.8170 - categorical_accuracy: 0.8678\n",
      "Epoch 00027: saving model to Xception_save.h5\n",
      "275/275 [==============================] - 161s 585ms/step - loss: 0.8170 - categorical_accuracy: 0.8678 - lr: 1.0218e-05\n",
      "\n",
      "Epoch 00028: LearningRateScheduler reducing learning rate to 1.0152483020894737e-05.\n",
      "Epoch 28/30\n",
      "275/275 [==============================] - ETA: 0s - loss: 0.8217 - categorical_accuracy: 0.8681\n",
      "Epoch 00028: saving model to Xception_save.h5\n",
      "275/275 [==============================] - 161s 585ms/step - loss: 0.8217 - categorical_accuracy: 0.8681 - lr: 1.0152e-05\n",
      "\n",
      "Epoch 00029: LearningRateScheduler reducing learning rate to 1.0106738114626316e-05.\n",
      "Epoch 29/30\n",
      "275/275 [==============================] - ETA: 0s - loss: 0.8151 - categorical_accuracy: 0.8695\n",
      "Epoch 00029: saving model to Xception_save.h5\n",
      "275/275 [==============================] - 161s 585ms/step - loss: 0.8151 - categorical_accuracy: 0.8695 - lr: 1.0107e-05\n",
      "\n",
      "Epoch 00030: LearningRateScheduler reducing learning rate to 1.0074716680238422e-05.\n",
      "Epoch 30/30\n",
      "275/275 [==============================] - ETA: 0s - loss: 0.8208 - categorical_accuracy: 0.8685\n",
      "Epoch 00030: saving model to Xception_save.h5\n",
      "275/275 [==============================] - 161s 585ms/step - loss: 0.8208 - categorical_accuracy: 0.8685 - lr: 1.0075e-05\n",
      "CPU times: user 3min 57s, sys: 46.5 s, total: 4min 44s\n",
      "Wall time: 1h 22min 38s\n"
     ]
    }
   ],
   "source": [
    "%%time\n",
    "model1 = get_xception()\n",
    "Checkpoint=tf.keras.callbacks.ModelCheckpoint(f\"Xception_save.h5\", verbose=1, mode='max')\n",
    "\n",
    "train_history1 = model1.fit(\n",
    "    get_training_dataset(IMAGE_SIZE[0], cutmixup=True), \n",
    "    steps_per_epoch=STEPS_PER_EPOCH,\n",
    "    epochs=EPOCHS,\n",
    "    callbacks=[lr_callback, Checkpoint])"
   ]
  },
  {
   "cell_type": "code",
   "execution_count": 19,
   "metadata": {
    "execution": {
     "iopub.execute_input": "2020-10-01T13:18:21.753127Z",
     "iopub.status.busy": "2020-10-01T13:18:21.752454Z",
     "iopub.status.idle": "2020-10-01T13:18:21.972427Z",
     "shell.execute_reply": "2020-10-01T13:18:21.971751Z"
    },
    "papermill": {
     "duration": 3.097891,
     "end_time": "2020-10-01T13:18:21.972555",
     "exception": false,
     "start_time": "2020-10-01T13:18:18.874664",
     "status": "completed"
    },
    "tags": []
   },
   "outputs": [
    {
     "data": {
      "image/png": "[encoded data removed]",
      "text/plain": [
       "<Figure size 432x288 with 1 Axes>"
      ]
     },
     "metadata": {},
     "output_type": "display_data"
    }
   ],
   "source": [
    "plot_training(train_history1)"
   ]
  },
  {
   "cell_type": "markdown",
   "metadata": {
    "papermill": {
     "duration": 2.843249,
     "end_time": "2020-10-01T13:18:27.630157",
     "exception": false,
     "start_time": "2020-10-01T13:18:24.786908",
     "status": "completed"
    },
    "tags": []
   },
   "source": [
    "## TRAIN-2\n",
    "Densenet-224"
   ]
  },
  {
   "cell_type": "code",
   "execution_count": 20,
   "metadata": {
    "execution": {
     "iopub.execute_input": "2020-10-01T13:18:34.151067Z",
     "iopub.status.busy": "2020-10-01T13:18:33.886900Z",
     "iopub.status.idle": "2020-10-01T13:18:34.155815Z",
     "shell.execute_reply": "2020-10-01T13:18:34.155109Z"
    },
    "papermill": {
     "duration": 3.591798,
     "end_time": "2020-10-01T13:18:34.155933",
     "exception": false,
     "start_time": "2020-10-01T13:18:30.564135",
     "status": "completed"
    },
    "tags": []
   },
   "outputs": [
    {
     "name": "stdout",
     "output_type": "stream",
     "text": [
      "Dataset: 70638 training images, 7382 unlabeled test images\n"
     ]
    }
   ],
   "source": [
    "get_filenames(IMAGE_SIZE[1][0], BATCH_SIZE, print_size=True)"
   ]
  },
  {
   "cell_type": "code",
   "execution_count": 21,
   "metadata": {
    "execution": {
     "iopub.execute_input": "2020-10-01T13:18:40.017044Z",
     "iopub.status.busy": "2020-10-01T13:18:40.016390Z",
     "iopub.status.idle": "2020-10-01T14:04:06.859154Z",
     "shell.execute_reply": "2020-10-01T14:04:06.859765Z"
    },
    "papermill": {
     "duration": 2729.829874,
     "end_time": "2020-10-01T14:04:06.859923",
     "exception": false,
     "start_time": "2020-10-01T13:18:37.030049",
     "status": "completed"
    },
    "tags": []
   },
   "outputs": [
    {
     "name": "stdout",
     "output_type": "stream",
     "text": [
      "Downloading data from https://storage.googleapis.com/tensorflow/keras-applications/densenet/densenet169_weights_tf_dim_ordering_tf_kernels_notop.h5\n",
      "51879936/51877672 [==============================] - 2s 0us/step\n",
      "\n",
      "Epoch 00001: LearningRateScheduler reducing learning rate to 1e-05.\n",
      "Epoch 1/30\n",
      "275/275 [==============================] - ETA: 0s - loss: 3.6578 - categorical_accuracy: 0.2492\n",
      "Epoch 00001: saving model to Densenet_save.h5\n",
      "275/275 [==============================] - 82s 300ms/step - loss: 3.6578 - categorical_accuracy: 0.2492 - lr: 1.0000e-05\n",
      "\n",
      "Epoch 00002: LearningRateScheduler reducing learning rate to 8.8e-05.\n",
      "Epoch 2/30\n",
      "275/275 [==============================] - ETA: 0s - loss: 1.9304 - categorical_accuracy: 0.6237\n",
      "Epoch 00002: saving model to Densenet_save.h5\n",
      "275/275 [==============================] - 82s 298ms/step - loss: 1.9304 - categorical_accuracy: 0.6237 - lr: 8.8000e-05\n",
      "\n",
      "Epoch 00003: LearningRateScheduler reducing learning rate to 0.000166.\n",
      "Epoch 3/30\n",
      "275/275 [==============================] - ETA: 0s - loss: 1.5024 - categorical_accuracy: 0.7165\n",
      "Epoch 00003: saving model to Densenet_save.h5\n",
      "275/275 [==============================] - 82s 297ms/step - loss: 1.5024 - categorical_accuracy: 0.7165 - lr: 1.6600e-04\n",
      "\n",
      "Epoch 00004: LearningRateScheduler reducing learning rate to 0.000244.\n",
      "Epoch 4/30\n",
      "275/275 [==============================] - ETA: 0s - loss: 1.3570 - categorical_accuracy: 0.7438\n",
      "Epoch 00004: saving model to Densenet_save.h5\n",
      "275/275 [==============================] - 82s 298ms/step - loss: 1.3570 - categorical_accuracy: 0.7438 - lr: 2.4400e-04\n",
      "\n",
      "Epoch 00005: LearningRateScheduler reducing learning rate to 0.000322.\n",
      "Epoch 5/30\n",
      "275/275 [==============================] - ETA: 0s - loss: 1.2939 - categorical_accuracy: 0.7594\n",
      "Epoch 00005: saving model to Densenet_save.h5\n",
      "275/275 [==============================] - 81s 296ms/step - loss: 1.2939 - categorical_accuracy: 0.7594 - lr: 3.2200e-04\n",
      "\n",
      "Epoch 00006: LearningRateScheduler reducing learning rate to 0.0004.\n",
      "Epoch 6/30\n",
      "275/275 [==============================] - ETA: 0s - loss: 1.2391 - categorical_accuracy: 0.7734\n",
      "Epoch 00006: saving model to Densenet_save.h5\n",
      "275/275 [==============================] - 81s 296ms/step - loss: 1.2391 - categorical_accuracy: 0.7734 - lr: 4.0000e-04\n",
      "\n",
      "Epoch 00007: LearningRateScheduler reducing learning rate to 0.000283.\n",
      "Epoch 7/30\n",
      "275/275 [==============================] - ETA: 0s - loss: 1.1499 - categorical_accuracy: 0.7982\n",
      "Epoch 00007: saving model to Densenet_save.h5\n",
      "275/275 [==============================] - 80s 292ms/step - loss: 1.1499 - categorical_accuracy: 0.7982 - lr: 2.8300e-04\n",
      "\n",
      "Epoch 00008: LearningRateScheduler reducing learning rate to 0.00020109999999999998.\n",
      "Epoch 8/30\n",
      "275/275 [==============================] - ETA: 0s - loss: 1.0689 - categorical_accuracy: 0.8169\n",
      "Epoch 00008: saving model to Densenet_save.h5\n",
      "275/275 [==============================] - 80s 291ms/step - loss: 1.0689 - categorical_accuracy: 0.8169 - lr: 2.0110e-04\n",
      "\n",
      "Epoch 00009: LearningRateScheduler reducing learning rate to 0.00014376999999999996.\n",
      "Epoch 9/30\n",
      "275/275 [==============================] - ETA: 0s - loss: 1.0131 - categorical_accuracy: 0.8307\n",
      "Epoch 00009: saving model to Densenet_save.h5\n",
      "275/275 [==============================] - 79s 288ms/step - loss: 1.0131 - categorical_accuracy: 0.8307 - lr: 1.4377e-04\n",
      "\n",
      "Epoch 00010: LearningRateScheduler reducing learning rate to 0.00010363899999999997.\n",
      "Epoch 10/30\n",
      "275/275 [==============================] - ETA: 0s - loss: 0.9894 - categorical_accuracy: 0.8354\n",
      "Epoch 00010: saving model to Densenet_save.h5\n",
      "275/275 [==============================] - 80s 290ms/step - loss: 0.9894 - categorical_accuracy: 0.8354 - lr: 1.0364e-04\n",
      "\n",
      "Epoch 00011: LearningRateScheduler reducing learning rate to 7.554729999999998e-05.\n",
      "Epoch 11/30\n",
      "275/275 [==============================] - ETA: 0s - loss: 0.9663 - categorical_accuracy: 0.8416\n",
      "Epoch 00011: saving model to Densenet_save.h5\n",
      "275/275 [==============================] - 79s 286ms/step - loss: 0.9663 - categorical_accuracy: 0.8416 - lr: 7.5547e-05\n",
      "\n",
      "Epoch 00012: LearningRateScheduler reducing learning rate to 5.588310999999998e-05.\n",
      "Epoch 12/30\n",
      "275/275 [==============================] - ETA: 0s - loss: 0.9396 - categorical_accuracy: 0.8467\n",
      "Epoch 00012: saving model to Densenet_save.h5\n",
      "275/275 [==============================] - 79s 286ms/step - loss: 0.9396 - categorical_accuracy: 0.8467 - lr: 5.5883e-05\n",
      "\n",
      "Epoch 00013: LearningRateScheduler reducing learning rate to 4.211817699999998e-05.\n",
      "Epoch 13/30\n",
      "275/275 [==============================] - ETA: 0s - loss: 0.9263 - categorical_accuracy: 0.8490\n",
      "Epoch 00013: saving model to Densenet_save.h5\n",
      "275/275 [==============================] - 78s 283ms/step - loss: 0.9263 - categorical_accuracy: 0.8490 - lr: 4.2118e-05\n",
      "\n",
      "Epoch 00014: LearningRateScheduler reducing learning rate to 3.248272389999999e-05.\n",
      "Epoch 14/30\n",
      "275/275 [==============================] - ETA: 0s - loss: 0.9213 - categorical_accuracy: 0.8515\n",
      "Epoch 00014: saving model to Densenet_save.h5\n",
      "275/275 [==============================] - 78s 283ms/step - loss: 0.9213 - categorical_accuracy: 0.8515 - lr: 3.2483e-05\n",
      "\n",
      "Epoch 00015: LearningRateScheduler reducing learning rate to 2.573790672999999e-05.\n",
      "Epoch 15/30\n",
      "275/275 [==============================] - ETA: 0s - loss: 0.9012 - categorical_accuracy: 0.8555\n",
      "Epoch 00015: saving model to Densenet_save.h5\n",
      "275/275 [==============================] - 77s 281ms/step - loss: 0.9012 - categorical_accuracy: 0.8555 - lr: 2.5738e-05\n",
      "\n",
      "Epoch 00016: LearningRateScheduler reducing learning rate to 2.1016534710999995e-05.\n",
      "Epoch 16/30\n",
      "275/275 [==============================] - ETA: 0s - loss: 0.8993 - categorical_accuracy: 0.8558\n",
      "Epoch 00016: saving model to Densenet_save.h5\n",
      "275/275 [==============================] - 86s 313ms/step - loss: 0.8993 - categorical_accuracy: 0.8558 - lr: 2.1017e-05\n",
      "\n",
      "Epoch 00017: LearningRateScheduler reducing learning rate to 1.7711574297699996e-05.\n",
      "Epoch 17/30\n",
      "275/275 [==============================] - ETA: 0s - loss: 0.8942 - categorical_accuracy: 0.8572\n",
      "Epoch 00017: saving model to Densenet_save.h5\n",
      "275/275 [==============================] - 86s 311ms/step - loss: 0.8942 - categorical_accuracy: 0.8572 - lr: 1.7712e-05\n",
      "\n",
      "Epoch 00018: LearningRateScheduler reducing learning rate to 1.5398102008389997e-05.\n",
      "Epoch 18/30\n",
      "275/275 [==============================] - ETA: 0s - loss: 0.8899 - categorical_accuracy: 0.8584\n",
      "Epoch 00018: saving model to Densenet_save.h5\n",
      "275/275 [==============================] - 85s 309ms/step - loss: 0.8899 - categorical_accuracy: 0.8584 - lr: 1.5398e-05\n",
      "\n",
      "Epoch 00019: LearningRateScheduler reducing learning rate to 1.3778671405872997e-05.\n",
      "Epoch 19/30\n",
      "275/275 [==============================] - ETA: 0s - loss: 0.8869 - categorical_accuracy: 0.8583\n",
      "Epoch 00019: saving model to Densenet_save.h5\n",
      "275/275 [==============================] - 84s 307ms/step - loss: 0.8869 - categorical_accuracy: 0.8583 - lr: 1.3779e-05\n",
      "\n",
      "Epoch 00020: LearningRateScheduler reducing learning rate to 1.2645069984111098e-05.\n",
      "Epoch 20/30\n",
      "275/275 [==============================] - ETA: 0s - loss: 0.8843 - categorical_accuracy: 0.8599\n",
      "Epoch 00020: saving model to Densenet_save.h5\n",
      "275/275 [==============================] - 85s 308ms/step - loss: 0.8843 - categorical_accuracy: 0.8599 - lr: 1.2645e-05\n",
      "\n",
      "Epoch 00021: LearningRateScheduler reducing learning rate to 1.1851548988877769e-05.\n",
      "Epoch 21/30\n",
      "275/275 [==============================] - ETA: 0s - loss: 0.8895 - categorical_accuracy: 0.8609\n",
      "Epoch 00021: saving model to Densenet_save.h5\n",
      "275/275 [==============================] - 84s 304ms/step - loss: 0.8895 - categorical_accuracy: 0.8609 - lr: 1.1852e-05\n",
      "\n",
      "Epoch 00022: LearningRateScheduler reducing learning rate to 1.1296084292214439e-05.\n",
      "Epoch 22/30\n",
      "275/275 [==============================] - ETA: 0s - loss: 0.8832 - categorical_accuracy: 0.8615\n",
      "Epoch 00022: saving model to Densenet_save.h5\n",
      "275/275 [==============================] - 83s 303ms/step - loss: 0.8832 - categorical_accuracy: 0.8615 - lr: 1.1296e-05\n",
      "\n",
      "Epoch 00023: LearningRateScheduler reducing learning rate to 1.0907259004550108e-05.\n",
      "Epoch 23/30\n",
      "275/275 [==============================] - ETA: 0s - loss: 0.8744 - categorical_accuracy: 0.8617\n",
      "Epoch 00023: saving model to Densenet_save.h5\n",
      "275/275 [==============================] - 83s 303ms/step - loss: 0.8744 - categorical_accuracy: 0.8617 - lr: 1.0907e-05\n",
      "\n",
      "Epoch 00024: LearningRateScheduler reducing learning rate to 1.0635081303185075e-05.\n",
      "Epoch 24/30\n",
      "275/275 [==============================] - ETA: 0s - loss: 0.8723 - categorical_accuracy: 0.8629\n",
      "Epoch 00024: saving model to Densenet_save.h5\n",
      "275/275 [==============================] - 82s 300ms/step - loss: 0.8723 - categorical_accuracy: 0.8629 - lr: 1.0635e-05\n",
      "\n",
      "Epoch 00025: LearningRateScheduler reducing learning rate to 1.0444556912229552e-05.\n",
      "Epoch 25/30\n",
      "275/275 [==============================] - ETA: 0s - loss: 0.8707 - categorical_accuracy: 0.8656\n",
      "Epoch 00025: saving model to Densenet_save.h5\n",
      "275/275 [==============================] - 82s 300ms/step - loss: 0.8707 - categorical_accuracy: 0.8656 - lr: 1.0445e-05\n",
      "\n",
      "Epoch 00026: LearningRateScheduler reducing learning rate to 1.0311189838560687e-05.\n",
      "Epoch 26/30\n",
      "275/275 [==============================] - ETA: 0s - loss: 0.8689 - categorical_accuracy: 0.8650\n",
      "Epoch 00026: saving model to Densenet_save.h5\n",
      "275/275 [==============================] - 82s 300ms/step - loss: 0.8689 - categorical_accuracy: 0.8650 - lr: 1.0311e-05\n",
      "\n",
      "Epoch 00027: LearningRateScheduler reducing learning rate to 1.0217832886992482e-05.\n",
      "Epoch 27/30\n",
      "275/275 [==============================] - ETA: 0s - loss: 0.8615 - categorical_accuracy: 0.8649\n",
      "Epoch 00027: saving model to Densenet_save.h5\n",
      "275/275 [==============================] - 81s 296ms/step - loss: 0.8615 - categorical_accuracy: 0.8649 - lr: 1.0218e-05\n",
      "\n",
      "Epoch 00028: LearningRateScheduler reducing learning rate to 1.0152483020894737e-05.\n",
      "Epoch 28/30\n",
      "275/275 [==============================] - ETA: 0s - loss: 0.8675 - categorical_accuracy: 0.8661\n",
      "Epoch 00028: saving model to Densenet_save.h5\n",
      "275/275 [==============================] - 81s 295ms/step - loss: 0.8675 - categorical_accuracy: 0.8661 - lr: 1.0152e-05\n",
      "\n",
      "Epoch 00029: LearningRateScheduler reducing learning rate to 1.0106738114626316e-05.\n",
      "Epoch 29/30\n",
      "275/275 [==============================] - ETA: 0s - loss: 0.8654 - categorical_accuracy: 0.8642\n",
      "Epoch 00029: saving model to Densenet_save.h5\n",
      "275/275 [==============================] - 81s 295ms/step - loss: 0.8654 - categorical_accuracy: 0.8642 - lr: 1.0107e-05\n",
      "\n",
      "Epoch 00030: LearningRateScheduler reducing learning rate to 1.0074716680238422e-05.\n",
      "Epoch 30/30\n",
      "275/275 [==============================] - ETA: 0s - loss: 0.8723 - categorical_accuracy: 0.8633\n",
      "Epoch 00030: saving model to Densenet_save.h5\n",
      "275/275 [==============================] - 80s 293ms/step - loss: 0.8723 - categorical_accuracy: 0.8633 - lr: 1.0075e-05\n",
      "CPU times: user 10min 55s, sys: 1min 22s, total: 12min 17s\n",
      "Wall time: 45min 26s\n"
     ]
    }
   ],
   "source": [
    "%%time\n",
    "model2 = get_densenet()\n",
    "\n",
    "Checkpoint=tf.keras.callbacks.ModelCheckpoint(f\"Densenet_save.h5\", verbose=1, mode='max')\n",
    "\n",
    "train_history2 = model2.fit(\n",
    "    get_training_dataset(IMAGE_SIZE[1], cutmixup=True), \n",
    "    steps_per_epoch=STEPS_PER_EPOCH,\n",
    "    epochs=EPOCHS,\n",
    "    callbacks=[lr_callback, Checkpoint],\n",
    ")"
   ]
  },
  {
   "cell_type": "code",
   "execution_count": 22,
   "metadata": {
    "execution": {
     "iopub.execute_input": "2020-10-01T14:04:18.219148Z",
     "iopub.status.busy": "2020-10-01T14:04:18.218389Z",
     "iopub.status.idle": "2020-10-01T14:04:18.429691Z",
     "shell.execute_reply": "2020-10-01T14:04:18.429010Z"
    },
    "papermill": {
     "duration": 5.875013,
     "end_time": "2020-10-01T14:04:18.429813",
     "exception": false,
     "start_time": "2020-10-01T14:04:12.554800",
     "status": "completed"
    },
    "tags": []
   },
   "outputs": [
    {
     "data": {
      "image/png": "[encoded data removed]",
      "text/plain": [
       "<Figure size 432x288 with 1 Axes>"
      ]
     },
     "metadata": {},
     "output_type": "display_data"
    }
   ],
   "source": [
    "plot_training(train_history2)"
   ]
  }
 ],
 "metadata": {
  "kernelspec": {
   "display_name": "Python 3",
   "language": "python",
   "name": "python3"
  },
  "language_info": {
   "codemirror_mode": {
    "name": "ipython",
    "version": 3
   },
   "file_extension": ".py",
   "mimetype": "text/x-python",
   "name": "python",
   "nbconvert_exporter": "python",
   "pygments_lexer": "ipython3",
   "version": "3.7.6"
  },
  "papermill": {
   "duration": 7746.930895,
   "end_time": "2020-10-01T14:04:24.525747",
   "environment_variables": {},
   "exception": null,
   "input_path": "__notebook__.ipynb",
   "output_path": "__notebook__.ipynb",
   "parameters": {},
   "start_time": "2020-10-01T11:55:17.594852",
   "version": "2.1.0"
  }
 },
 "nbformat": 4,
 "nbformat_minor": 4
}
