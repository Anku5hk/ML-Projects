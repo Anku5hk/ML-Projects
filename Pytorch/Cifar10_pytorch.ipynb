{
  "nbformat": 4,
  "nbformat_minor": 0,
  "metadata": {
    "colab": {
      "name": "Cifar10_pytorch.ipynb",
      "provenance": [],
      "collapsed_sections": [
        "Pz9Ngi44oKBq"
      ],
      "toc_visible": true
    },
    "kernelspec": {
      "name": "python3",
      "display_name": "Python 3"
    },
    "accelerator": "GPU"
  },
  "cells": [
    {
      "cell_type": "code",
      "metadata": {
        "id": "fe1-85z-n-Fs",
        "colab_type": "code",
        "colab": {}
      },
      "source": [
        "import torch\n",
        "from torch import nn\n",
        "import torchvision\n",
        "import numpy as np\n",
        "import cv2\n",
        "from PIL import Image\n",
        "import matplotlib.pyplot as plt\n",
        "import torchvision.transforms as transforms\n",
        "from torchvision.datasets import CIFAR10"
      ],
      "execution_count": 0,
      "outputs": []
    },
    {
      "cell_type": "markdown",
      "metadata": {
        "id": "Pz9Ngi44oKBq",
        "colab_type": "text"
      },
      "source": [
        "#### MAke data"
      ]
    },
    {
      "cell_type": "code",
      "metadata": {
        "id": "gAsyzjKioFWz",
        "colab_type": "code",
        "outputId": "cc1da081-c935-45c6-c027-8d94a8d6c25e",
        "colab": {
          "base_uri": "https://localhost:8080/",
          "height": 34
        }
      },
      "source": [
        "class MakeDataset(torch.utils.data.Dataset):\n",
        "    def __init__(self, train = True, transform=None, show_data=False):\n",
        "        (self.x_train, self.y_train), (self.x_test, self.y_test) = cifar10.load_data()\n",
        "        self.transform  = transform\n",
        "        if train:\n",
        "            self.x_data, self.y_data = self.x_train, self.y_train\n",
        "            self.len = self.x_train.shape[0]\n",
        "        else:\n",
        "            self.x_data, self.y_data = self.x_test, self.y_test\n",
        "            self.len = self.x_test.shape[0]\n",
        "\n",
        "        if show_data:\n",
        "          self.x_data = self.x_test[0:500]\n",
        "\n",
        "    def __len__(self):\n",
        "        return self.len\n",
        "\n",
        "    def __getitem__(self, idx):\n",
        "        image = self.x_data[idx]\n",
        "        y = self.y_data[idx]\n",
        "        if self.transform:\n",
        "            image = self.transform(image)\n",
        "\n",
        "        return image, y\n",
        "\n",
        "print(\"Done\")          "
      ],
      "execution_count": 0,
      "outputs": [
        {
          "output_type": "stream",
          "text": [
            "Done\n"
          ],
          "name": "stdout"
        }
      ]
    },
    {
      "cell_type": "code",
      "metadata": {
        "id": "-Kc9QHWcrJGO",
        "colab_type": "code",
        "colab": {}
      },
      "source": [
        "mean = [0.485, 0.456, 0.406]\n",
        "std = [0.229, 0.224, 0.225]\n",
        "transform = transforms.Compose([ transforms.ToTensor(), transforms.Normalize(mean, std)])\n",
        "\n",
        "# train_data = MakeDataset(transform=transform)\n",
        "# valid_data = MakeDataset(train=False, transform=transform)"
      ],
      "execution_count": 0,
      "outputs": []
    },
    {
      "cell_type": "code",
      "metadata": {
        "id": "7v49Eim3n6u2",
        "colab_type": "code",
        "outputId": "1962ad54-a694-47f2-cd57-21a66e7b97c1",
        "colab": {
          "base_uri": "https://localhost:8080/",
          "height": 34
        }
      },
      "source": [
        "valid_data[0][0].shape"
      ],
      "execution_count": 0,
      "outputs": [
        {
          "output_type": "execute_result",
          "data": {
            "text/plain": [
              "torch.Size([3, 32, 32])"
            ]
          },
          "metadata": {
            "tags": []
          },
          "execution_count": 10
        }
      ]
    },
    {
      "cell_type": "code",
      "metadata": {
        "id": "159de1ikrJSj",
        "colab_type": "code",
        "outputId": "927638aa-04b9-4476-a53a-0c81e84b8263",
        "colab": {
          "base_uri": "https://localhost:8080/",
          "height": 283
        }
      },
      "source": [
        "for i,f in enumerate(train_data):\n",
        "  if i ==90:\n",
        "    f = f[0]\n",
        "    f = f.detach().numpy()\n",
        "    f = np.reshape(f, (32,32,3))\n",
        "    plt.imshow(f)\n",
        "    plt.show()\n",
        "    break\n",
        "# this is because the values are normalized     "
      ],
      "execution_count": 0,
      "outputs": [
        {
          "output_type": "stream",
          "text": [
            "Clipping input data to the valid range for imshow with RGB data ([0..1] for floats or [0..255] for integers).\n"
          ],
          "name": "stderr"
        },
        {
          "output_type": "display_data",
          "data": {
            "image/png": "[encoded data removed]",
            "text/plain": [
              "<Figure size 432x288 with 1 Axes>"
            ]
          },
          "metadata": {
            "tags": [],
            "needs_background": "light"
          }
        }
      ]
    },
    {
      "cell_type": "markdown",
      "metadata": {
        "id": "MhDv1AiZgUrd",
        "colab_type": "text"
      },
      "source": [
        "#### Trainloader"
      ]
    },
    {
      "cell_type": "code",
      "metadata": {
        "id": "uUVmeZsLo5hQ",
        "colab_type": "code",
        "outputId": "258df94b-c911-4a82-9a04-953b8299bfc0",
        "colab": {
          "base_uri": "https://localhost:8080/",
          "height": 50
        }
      },
      "source": [
        "BS = 128\n",
        "transform_train = transforms.Compose([\n",
        "    transforms.RandomCrop(32, padding=4),\n",
        "    transforms.RandomHorizontalFlip(),\n",
        "    transforms.ToTensor(),\n",
        "    transforms.Normalize((0.4914, 0.4822, 0.4465), (0.2023, 0.1994, 0.2010)),\n",
        "])\n",
        "\n",
        "transform_test = transforms.Compose([\n",
        "    transforms.ToTensor(),\n",
        "    transforms.Normalize((0.4914, 0.4822, 0.4465), (0.2023, 0.1994, 0.2010)),\n",
        "])\n",
        "\n",
        "trainset = torchvision.datasets.CIFAR10(\n",
        "    root='./data', train=True, download=True, transform=transform_train)\n",
        "train_loader = torch.utils.data.DataLoader(\n",
        "    trainset, batch_size=BS, shuffle=True)\n",
        "\n",
        "testset = torchvision.datasets.CIFAR10(\n",
        "    root='./data', train=False, download=True, transform=transform_test)\n",
        "valid_loader = torch.utils.data.DataLoader(\n",
        "    testset, batch_size=BS, shuffle=False)"
      ],
      "execution_count": 0,
      "outputs": [
        {
          "output_type": "stream",
          "text": [
            "Files already downloaded and verified\n",
            "Files already downloaded and verified\n"
          ],
          "name": "stdout"
        }
      ]
    },
    {
      "cell_type": "code",
      "metadata": {
        "id": "N3Z1LsC4zhMY",
        "colab_type": "code",
        "outputId": "342f2994-ce0b-4dea-cd29-b2476cd60e8c",
        "colab": {
          "base_uri": "https://localhost:8080/",
          "height": 34
        }
      },
      "source": [
        "# test the conv layers and track the output for linear input\n",
        "\n",
        "model = torch.nn.Sequential(\n",
        "           nn.Conv2d(3, 64, 3),\n",
        "           nn.MaxPool2d((2,2)),\n",
        "           nn.BatchNorm2d(64),\n",
        "\n",
        "           nn.Conv2d(64, 128, 5),\n",
        "           nn.BatchNorm2d(128),\n",
        "\n",
        "          nn.Conv2d(128, 256, 3, padding=1),\n",
        "          nn.BatchNorm2d(256),\n",
        "          nn.MaxPool2d((2,2)),\n",
        "\n",
        "           nn.Conv2d(256, 512, 3),\n",
        "           nn.BatchNorm2d(512),\n",
        "           nn.MaxPool2d((2,2)),\n",
        "           nn.Flatten()\n",
        ")\n",
        "\n",
        "x = trainset[0][0]\n",
        "x = x.view(-1, 3, 32, 32)\n",
        "t = model(x)\n",
        "t.shape"
      ],
      "execution_count": 0,
      "outputs": [
        {
          "output_type": "execute_result",
          "data": {
            "text/plain": [
              "torch.Size([1, 512])"
            ]
          },
          "metadata": {
            "tags": []
          },
          "execution_count": 3
        }
      ]
    },
    {
      "cell_type": "markdown",
      "metadata": {
        "id": "Hker_HxyBsq-",
        "colab_type": "text"
      },
      "source": [
        "Here 4608 is input for linear(Dense) layer"
      ]
    },
    {
      "cell_type": "markdown",
      "metadata": {
        "id": "m0nXTB9cg0cC",
        "colab_type": "text"
      },
      "source": [
        "#### Model"
      ]
    },
    {
      "cell_type": "code",
      "metadata": {
        "id": "xluj4bzgrJVj",
        "colab_type": "code",
        "outputId": "d0eb3ec6-79ea-4ed2-9214-106c7c605b66",
        "colab": {
          "base_uri": "https://localhost:8080/",
          "height": 34
        }
      },
      "source": [
        "class MakeModel(nn.Module):\n",
        "\n",
        "  def __init__(self, in_features, out_features):\n",
        "\n",
        "      super(MakeModel, self).__init__()\n",
        "\n",
        "      self.layer1 = nn.Conv2d(3, 64, 3)\n",
        "      torch.nn.init.kaiming_uniform_(self.layer1.weight)\n",
        "      self.normalize1 = nn.BatchNorm2d(64)\n",
        "\n",
        "      self.layer2 = nn.Conv2d(64, 128, 5)\n",
        "      torch.nn.init.kaiming_uniform_(self.layer2.weight)\n",
        "      self.normalize2 = nn.BatchNorm2d(128)\n",
        "\n",
        "      self.layer3 = nn.Conv2d(128, 256, 3, padding=1)\n",
        "      torch.nn.init.kaiming_uniform_(self.layer3.weight)\n",
        "      self.normalize22 = nn.BatchNorm2d(256)\n",
        "\n",
        "      self.layer4 = nn.Conv2d(256, 512, 3)\n",
        "      torch.nn.init.kaiming_uniform_(self.layer4.weight)\n",
        "      self.normalize3 = nn.BatchNorm2d(512)\n",
        "      self.maxpool = nn.MaxPool2d((2,2))\n",
        "\n",
        "      self.flatten = nn.Flatten()\n",
        "      self.linear1 = nn.Linear(512, 256) # make sure it is less so image size is also less\n",
        "      torch.nn.init.kaiming_uniform_(self.linear1.weight)\n",
        "\n",
        "      self.dropout = nn.Dropout(p=0.2)\n",
        "      self.linear2 = nn.Linear(256, 64)\n",
        "      torch.nn.init.kaiming_uniform_(self.linear2.weight)\n",
        "\n",
        "      self.linear3 = nn.Linear(64, out_features)\n",
        "      self.softmax = nn.Softmax(dim=1)\n",
        "\n",
        "  def forward(self, x):\n",
        "\n",
        "      x = x.view(-1, 3, 32, 32)\n",
        "      x = self.layer1(x)\n",
        "      x = nn.functional.leaky_relu(x, negative_slope=0.01)\n",
        "      x = self.maxpool(x)\n",
        "      x = self.normalize1(x)\n",
        "      # x = self.dropout(x)\n",
        "      \n",
        "      x = self.layer2(x)\n",
        "      x = nn.functional.leaky_relu(x, negative_slope=0.01)\n",
        "      x = self.normalize2(x)\n",
        "      # x = self.dropout(x)\n",
        "\n",
        "      x = self.layer3(x)\n",
        "      x = nn.functional.leaky_relu(x, negative_slope=0.01)\n",
        "      x = self.normalize22(x)\n",
        "      x = self.maxpool(x)\n",
        "      # x = self.dropout(x)\n",
        "\n",
        "      x = self.layer4(x)\n",
        "      x = nn.functional.leaky_relu(x, negative_slope=0.01)\n",
        "      x = self.normalize3(x)\n",
        "      x = self.maxpool(x)\n",
        "\n",
        "      x = self.flatten(x)\n",
        "      x = self.linear1(x)\n",
        "      x = nn.functional.leaky_relu(x, negative_slope=0.01)\n",
        "      # x = self.dropout(x)\n",
        "\n",
        "      x = self.linear2(x)\n",
        "      x = nn.functional.leaky_relu(x, negative_slope=0.01)\n",
        "      # x = self.dropout(x)\n",
        "      \n",
        "      x = self.linear3(x)\n",
        "      x = self.softmax(x)\n",
        "\n",
        "      return x\n",
        "print(\"Okay\")     "
      ],
      "execution_count": 0,
      "outputs": [
        {
          "output_type": "stream",
          "text": [
            "Okay\n"
          ],
          "name": "stdout"
        }
      ]
    },
    {
      "cell_type": "code",
      "metadata": {
        "id": "5olJeAcKrJYf",
        "colab_type": "code",
        "outputId": "282f0d7f-396d-46ad-e4d7-a5cea1fae0a5",
        "colab": {
          "base_uri": "https://localhost:8080/",
          "height": 34
        }
      },
      "source": [
        "model = MakeModel(32,10).cuda(0)\n",
        "pytorch_total_params = sum(p.numel() for p in model.parameters() if p.requires_grad)\n",
        "print(\"Total Trainable Parameters:\", pytorch_total_params)"
      ],
      "execution_count": 0,
      "outputs": [
        {
          "output_type": "stream",
          "text": [
            "Total Trainable Parameters: 1832394\n"
          ],
          "name": "stdout"
        }
      ]
    },
    {
      "cell_type": "code",
      "metadata": {
        "id": "tfFiUnpboFZ-",
        "colab_type": "code",
        "colab": {}
      },
      "source": [
        "LR = 0.001\n",
        "optimizer = torch.optim.Adam(model.parameters(), lr=LR)\n",
        "cost_function = torch.nn.CrossEntropyLoss()\n",
        "TRAIN_STEP = len(trainset)/BS\n",
        "VALID_STEP = len(testset)/BS\n",
        "\n",
        "EPOCHS = 25 "
      ],
      "execution_count": 0,
      "outputs": []
    },
    {
      "cell_type": "code",
      "metadata": {
        "id": "oFME-qHrCGyf",
        "colab_type": "code",
        "outputId": "65a804d6-a20b-4d0a-832a-4f411542401f",
        "colab": {
          "base_uri": "https://localhost:8080/",
          "height": 1000
        }
      },
      "source": [
        "# training\n",
        "\n",
        "TRAIN_LOSS = []\n",
        "VAL_LOSS = []\n",
        "VAL_ACC = []\n",
        "\n",
        "for epoch in range(EPOCHS):\n",
        "  running_loss = 0.0\n",
        "\n",
        "  for (x, y) in train_loader:\n",
        "    model.train()\n",
        "    optimizer.zero_grad()\n",
        "    x, y = x.cuda(0), y.cuda(0)\n",
        "    z = model(x)\n",
        "    loss = cost_function(z, y)\n",
        "    loss.backward()\n",
        "    optimizer.step()\n",
        "    running_loss+=loss.item()\n",
        "\n",
        "  train_l = running_loss/TRAIN_STEP\n",
        "  TRAIN_LOSS.append(train_l)\n",
        "  total = 0\n",
        "  correct = 0 \n",
        "  print(\"Epoch\", epoch+1)\n",
        "  print(\"Training loss:\", train_l) # current step size 390\n",
        "  running_loss = 0.0\n",
        "\n",
        "  for (x,y) in valid_loader:\n",
        "    model.eval()\n",
        "    x, y = x.cuda(0), y.cuda(0)\n",
        "    z = model(x)\n",
        "    loss = cost_function(z, y)\n",
        "    running_loss+=loss.item()\n",
        "    _, yhat = torch.max(z,1)\n",
        "    total += y.size(0)\n",
        "    correct += (yhat == y).sum().item()\n",
        "\n",
        "  valid_l = running_loss/VALID_STEP\n",
        "  valid_a = 100 * correct / total\n",
        "  print(\"Valid loss:\", valid_l) # current step size 78\n",
        "  VAL_LOSS.append(valid_l)\n",
        "  torch.cuda.empty_cache()\n",
        "  print('VAL_Accuracy: %d %%' % valid_a)\n",
        "  VAL_ACC.append(valid_a)"
      ],
      "execution_count": 0,
      "outputs": [
        {
          "output_type": "stream",
          "text": [
            "Epoch 1\n",
            "Training loss: 2.054755193453569\n",
            "Valid loss: 2.0014475889694996\n",
            "VAL_Accuracy: 47 %\n",
            "Epoch 2\n",
            "Training loss: 1.9592266192803016\n",
            "Valid loss: 1.9277144624636724\n",
            "VAL_Accuracy: 55 %\n",
            "Epoch 3\n",
            "Training loss: 1.9187954269922696\n",
            "Valid loss: 1.9092354193711891\n",
            "VAL_Accuracy: 57 %\n",
            "Epoch 4\n",
            "Training loss: 1.8954520757381732\n",
            "Valid loss: 1.8808193833400042\n",
            "VAL_Accuracy: 60 %\n",
            "Epoch 5\n",
            "Training loss: 1.8780052848351307\n",
            "Valid loss: 1.874732486712627\n",
            "VAL_Accuracy: 60 %\n",
            "Epoch 6\n",
            "Training loss: 1.8616792553510422\n",
            "Valid loss: 1.8434041769076617\n",
            "VAL_Accuracy: 63 %\n",
            "Epoch 7\n",
            "Training loss: 1.8542399650964982\n",
            "Valid loss: 1.835417553400382\n",
            "VAL_Accuracy: 64 %\n",
            "Epoch 8\n",
            "Training loss: 1.8485703758704357\n",
            "Valid loss: 1.8288792631564996\n",
            "VAL_Accuracy: 65 %\n",
            "Epoch 9\n",
            "Training loss: 1.8337974823438203\n",
            "Valid loss: 1.8139464610662215\n",
            "VAL_Accuracy: 66 %\n",
            "Epoch 10\n",
            "Training loss: 1.8282035029851473\n",
            "Valid loss: 1.8178065770711653\n",
            "VAL_Accuracy: 66 %\n",
            "Epoch 11\n",
            "Training loss: 1.8259408177473606\n",
            "Valid loss: 1.8216249041068249\n",
            "VAL_Accuracy: 66 %\n",
            "Epoch 12\n",
            "Training loss: 1.8163642015212622\n",
            "Valid loss: 1.8229605570817604\n",
            "VAL_Accuracy: 65 %\n",
            "Epoch 13\n",
            "Training loss: 1.8147673533512996\n",
            "Valid loss: 1.8154986409040599\n",
            "VAL_Accuracy: 66 %\n",
            "Epoch 14\n",
            "Training loss: 1.807777787783207\n",
            "Valid loss: 1.8132571150095036\n",
            "VAL_Accuracy: 66 %\n",
            "Epoch 15\n",
            "Training loss: 1.8088801417595302\n",
            "Valid loss: 1.8205861433958397\n",
            "VAL_Accuracy: 66 %\n",
            "Epoch 16\n",
            "Training loss: 1.800366883400159\n",
            "Valid loss: 1.8087626787332387\n",
            "VAL_Accuracy: 67 %\n",
            "Epoch 17\n",
            "Training loss: 1.8014012501789973\n",
            "Valid loss: 1.8015963985369756\n",
            "VAL_Accuracy: 67 %\n",
            "Epoch 18\n",
            "Training loss: 1.7894576399754256\n",
            "Valid loss: 1.7921219422267034\n",
            "VAL_Accuracy: 69 %\n",
            "Epoch 19\n",
            "Training loss: 1.789573674629896\n",
            "Valid loss: 1.8075155187875798\n",
            "VAL_Accuracy: 67 %\n",
            "Epoch 20\n",
            "Training loss: 1.795188301648849\n",
            "Valid loss: 1.7870604013785338\n",
            "VAL_Accuracy: 69 %\n",
            "Epoch 21\n",
            "Training loss: 1.7899923043373303\n",
            "Valid loss: 1.7897106516055572\n",
            "VAL_Accuracy: 69 %\n",
            "Epoch 22\n",
            "Training loss: 1.7906182619241569\n",
            "Valid loss: 1.8026901284853618\n",
            "VAL_Accuracy: 67 %\n",
            "Epoch 23\n",
            "Training loss: 1.7847626218428978\n",
            "Valid loss: 1.7893753754786956\n",
            "VAL_Accuracy: 69 %\n",
            "Epoch 24\n",
            "Training loss: 1.7827182207352077\n",
            "Valid loss: 1.7949224022718577\n",
            "VAL_Accuracy: 68 %\n",
            "Epoch 25\n",
            "Training loss: 1.7845465259674267\n",
            "Valid loss: 1.781227986017863\n",
            "VAL_Accuracy: 70 %\n"
          ],
          "name": "stdout"
        }
      ]
    },
    {
      "cell_type": "code",
      "metadata": {
        "id": "P1hgmBiMCG1z",
        "colab_type": "code",
        "outputId": "43cb25a9-7d77-44e2-a9ce-bfa8e7d8d111",
        "colab": {
          "base_uri": "https://localhost:8080/",
          "height": 265
        }
      },
      "source": [
        "# draw graph for train and valid loss\n",
        "\n",
        "a = np.arange(0,EPOCHS)\n",
        "plt.plot(a, TRAIN_LOSS, label=\"Train_loss\")\n",
        "plt.plot(a, VAL_LOSS, label=\"Valid_loss\")\n",
        "plt.legend()\n",
        "plt.show()"
      ],
      "execution_count": 0,
      "outputs": [
        {
          "output_type": "display_data",
          "data": {
            "image/png": "[encoded data removed]",
            "text/plain": [
              "<Figure size 432x288 with 1 Axes>"
            ]
          },
          "metadata": {
            "tags": [],
            "needs_background": "light"
          }
        }
      ]
    },
    {
      "cell_type": "code",
      "metadata": {
        "id": "vqWQk3bT45UI",
        "colab_type": "code",
        "outputId": "19216e4f-a02e-47f7-c948-dd0c6e2b5fdd",
        "colab": {
          "base_uri": "https://localhost:8080/",
          "height": 265
        }
      },
      "source": [
        "plt.plot(a, VAL_ACC, label=\"Valid Accuracy\")\n",
        "plt.legend()\n",
        "plt.show()"
      ],
      "execution_count": 0,
      "outputs": [
        {
          "output_type": "display_data",
          "data": {
            "image/png": "[encoded data removed]",
            "text/plain": [
              "<Figure size 432x288 with 1 Axes>"
            ]
          },
          "metadata": {
            "tags": [],
            "needs_background": "light"
          }
        }
      ]
    },
    {
      "cell_type": "code",
      "metadata": {
        "id": "PsTRL_vE7JFC",
        "colab_type": "code",
        "outputId": "ecb24146-2a78-40f3-f5c8-07e1ed80c916",
        "colab": {
          "base_uri": "https://localhost:8080/",
          "height": 34
        }
      },
      "source": [
        "show_data = torchvision.datasets.CIFAR10(\n",
        "    root='./data', train=False, download=True)"
      ],
      "execution_count": 0,
      "outputs": [
        {
          "output_type": "stream",
          "text": [
            "Files already downloaded and verified\n"
          ],
          "name": "stdout"
        }
      ]
    },
    {
      "cell_type": "code",
      "metadata": {
        "id": "3uNlhfPeRQWz",
        "colab_type": "code",
        "outputId": "c049c676-e708-469a-d8f4-e6d9302de02b",
        "colab": {
          "base_uri": "https://localhost:8080/",
          "height": 283
        }
      },
      "source": [
        "# plot test results\n",
        "\n",
        "model.eval()\n",
        "for i,(x,y) in enumerate(show_data):\n",
        "  if i ==50:\n",
        "    f = x\n",
        "    f = np.reshape(f, (32,32,3))\n",
        "    yhat = model(testset[i][0].cuda(0))\n",
        "    print(\"Actual: {}, Predicted: {}\".format(y, torch.argmax(yhat[0])))\n",
        "    plt.imshow(f)\n",
        "    plt.show()\n",
        "    break"
      ],
      "execution_count": 0,
      "outputs": [
        {
          "output_type": "stream",
          "text": [
            "Actual: 9, Predicted: 6\n"
          ],
          "name": "stdout"
        },
        {
          "output_type": "display_data",
          "data": {
            "image/png": "[encoded data removed]",
            "text/plain": [
              "<Figure size 432x288 with 1 Axes>"
            ]
          },
          "metadata": {
            "tags": [],
            "needs_background": "light"
          }
        }
      ]
    },
    {
      "cell_type": "code",
      "metadata": {
        "id": "q-EHA-usRQZ1",
        "colab_type": "code",
        "colab": {}
      },
      "source": [
        ""
      ],
      "execution_count": 0,
      "outputs": []
    },
    {
      "cell_type": "code",
      "metadata": {
        "id": "NrY0Dd1jRQcf",
        "colab_type": "code",
        "colab": {}
      },
      "source": [
        ""
      ],
      "execution_count": 0,
      "outputs": []
    },
    {
      "cell_type": "code",
      "metadata": {
        "id": "PEhqpcsFRQe-",
        "colab_type": "code",
        "colab": {}
      },
      "source": [
        ""
      ],
      "execution_count": 0,
      "outputs": []
    },
    {
      "cell_type": "code",
      "metadata": {
        "id": "bpzFEoUhRQh_",
        "colab_type": "code",
        "colab": {}
      },
      "source": [
        ""
      ],
      "execution_count": 0,
      "outputs": []
    },
    {
      "cell_type": "code",
      "metadata": {
        "id": "izZISvldRQk5",
        "colab_type": "code",
        "colab": {}
      },
      "source": [
        ""
      ],
      "execution_count": 0,
      "outputs": []
    },
    {
      "cell_type": "code",
      "metadata": {
        "id": "iUFaZzrgRQny",
        "colab_type": "code",
        "colab": {}
      },
      "source": [
        ""
      ],
      "execution_count": 0,
      "outputs": []
    }
  ]
}