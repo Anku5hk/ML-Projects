{
  "nbformat": 4,
  "nbformat_minor": 0,
  "metadata": {
    "colab": {
      "name": "ResNet-ConcreteCrack Classifier.ipynb",
      "provenance": [],
      "collapsed_sections": [],
      "authorship_tag": "ABX9TyPU0QC9Xjndx8uMX5r58hA3",
      "include_colab_link": true
    },
    "kernelspec": {
      "name": "python3",
      "display_name": "Python 3"
    },
    "accelerator": "GPU"
  },
  "cells": [
    {
      "cell_type": "markdown",
      "metadata": {
        "id": "view-in-github",
        "colab_type": "text"
      },
      "source": [
        "<a href=\"https://colab.research.google.com/github/Anku5hk/The_ML_Workflow/blob/master/Pytorch/ResNet_ConcreteCrack_Classifier.ipynb\" target=\"_parent\"><img src=\"https://colab.research.google.com/assets/colab-badge.svg\" alt=\"Open In Colab\"/></a>"
      ]
    },
    {
      "cell_type": "code",
      "metadata": {
        "id": "96EzHL4UmykL",
        "colab_type": "code",
        "outputId": "0629a28e-5848-40c5-ffb0-9f985942fd9f",
        "colab": {
          "base_uri": "https://localhost:8080/",
          "height": 222
        }
      },
      "source": [
        "!wget -P /content/ https://s3-api.us-geo.objectstorage.softlayer.net/cf-courses-data/CognitiveClass/DL0321EN/data/images/concrete_crack_images_for_classification.zip "
      ],
      "execution_count": 1,
      "outputs": [
        {
          "output_type": "stream",
          "text": [
            "--2020-05-12 08:20:26--  https://s3-api.us-geo.objectstorage.softlayer.net/cf-courses-data/CognitiveClass/DL0321EN/data/images/concrete_crack_images_for_classification.zip\n",
            "Resolving s3-api.us-geo.objectstorage.softlayer.net (s3-api.us-geo.objectstorage.softlayer.net)... 67.228.254.196\n",
            "Connecting to s3-api.us-geo.objectstorage.softlayer.net (s3-api.us-geo.objectstorage.softlayer.net)|67.228.254.196|:443... connected.\n",
            "HTTP request sent, awaiting response... 200 OK\n",
            "Length: 245259777 (234M) [application/zip]\n",
            "Saving to: ‘/content/concrete_crack_images_for_classification.zip’\n",
            "\n",
            "concrete_crack_imag 100%[===================>] 233.90M  19.7MB/s    in 13s     \n",
            "\n",
            "2020-05-12 08:20:40 (18.0 MB/s) - ‘/content/concrete_crack_images_for_classification.zip’ saved [245259777/245259777]\n",
            "\n"
          ],
          "name": "stdout"
        }
      ]
    },
    {
      "cell_type": "code",
      "metadata": {
        "id": "PdAR8ntCm3ca",
        "colab_type": "code",
        "colab": {}
      },
      "source": [
        "!unzip -q  /content/concrete_crack_images_for_classification.zip -d  /content/data/"
      ],
      "execution_count": 0,
      "outputs": []
    },
    {
      "cell_type": "code",
      "metadata": {
        "id": "4xkGrNMdm4qA",
        "colab_type": "code",
        "colab": {}
      },
      "source": [
        "from PIL import Image\n",
        "import matplotlib.pyplot as plt\n",
        "import os\n",
        "import glob\n",
        "import torch\n",
        "from torch.utils.data import  DataLoader\n",
        "import torchvision.transforms as transforms\n",
        "import torchvision.models as models\n",
        "from torch.utils.data import Dataset\n",
        "import numpy as np"
      ],
      "execution_count": 0,
      "outputs": []
    },
    {
      "cell_type": "code",
      "metadata": {
        "id": "d-nqYRJtiD8d",
        "colab_type": "code",
        "outputId": "4637c47a-cd23-4a50-c748-55da5fbcfb1a",
        "colab": {
          "base_uri": "https://localhost:8080/",
          "height": 34
        }
      },
      "source": [
        "print(torch.cuda.get_device_name(0)) "
      ],
      "execution_count": 2,
      "outputs": [
        {
          "output_type": "stream",
          "text": [
            "Tesla K80\n"
          ],
          "name": "stdout"
        }
      ]
    },
    {
      "cell_type": "code",
      "metadata": {
        "id": "uAuNIRplm7nY",
        "colab_type": "code",
        "colab": {}
      },
      "source": [
        "def show_data(data_sample, shape = (28, 28)):\n",
        "    plt.imshow(data_sample[0].numpy().reshape(shape), cmap='gray')\n",
        "    plt.title('y = ' + data_sample[1])"
      ],
      "execution_count": 0,
      "outputs": []
    },
    {
      "cell_type": "code",
      "metadata": {
        "id": "HxPazOQ7oegX",
        "colab_type": "code",
        "colab": {}
      },
      "source": [
        "# !ls /content/data/Negative | wc -l"
      ],
      "execution_count": 0,
      "outputs": []
    },
    {
      "cell_type": "code",
      "metadata": {
        "id": "tEzLYNXXoaIo",
        "colab_type": "code",
        "colab": {}
      },
      "source": [
        "# !ls /content/data/Positive | wc -l"
      ],
      "execution_count": 0,
      "outputs": []
    },
    {
      "cell_type": "code",
      "metadata": {
        "id": "lT8LUsnQtOOp",
        "colab_type": "code",
        "colab": {}
      },
      "source": [
        "class Dataset(Dataset):\n",
        "\n",
        "    # Constructor\n",
        "    def __init__(self,transform=None,train=True, show_data = False):\n",
        "        directory=\"/content/data\"\n",
        "        positive=\"Positive\"\n",
        "        negative=\"Negative\"\n",
        "\n",
        "        positive_file_path=os.path.join(directory,positive)\n",
        "        negative_file_path=os.path.join(directory,negative)\n",
        "        positive_files=[os.path.join(positive_file_path,file) for file in  os.listdir(positive_file_path) if file.endswith(\".jpg\")]\n",
        "        positive_files.sort()\n",
        "        negative_files=[os.path.join(negative_file_path,file) for file in  os.listdir(negative_file_path) if file.endswith(\".jpg\")]\n",
        "        negative_files.sort()\n",
        "\n",
        "        number_of_samples = 40000\n",
        "\n",
        "        self.all_files=[None]*number_of_samples\n",
        "        self.all_files[::2]=positive_files\n",
        "        self.all_files[1::2]=negative_files \n",
        "        # The transform is goint to be used on image\n",
        "        self.transform = transform\n",
        "        self.show_data = show_data\n",
        "        #torch.LongTensor\n",
        "        self.Y=torch.zeros([number_of_samples]).type(torch.LongTensor)\n",
        "        self.Y[::2]=1\n",
        "        self.Y[1::2]=0\n",
        "        \n",
        "        if train:\n",
        "\n",
        "            self.Y=self.Y[0:30000]\n",
        "            self.all_files = self.all_files[0:30000]\n",
        "            self.len=len(self.all_files)\n",
        "\n",
        "        else:\n",
        "\n",
        "            self.Y=self.Y[30000:]\n",
        "            self.all_files = self.all_files[30000:]\n",
        "            self.len=len(self.all_files)\n",
        "    \n",
        "\n",
        "    # Get the length\n",
        "    def __len__(self):\n",
        "        return self.len\n",
        "    \n",
        "    # Getter\n",
        "    def __getitem__(self, idx):\n",
        "        \n",
        "        image=Image.open(self.all_files[idx])\n",
        "        if self.show_data:\n",
        "          image = np.asarray(Image.open(self.all_files[idx]))\n",
        "\n",
        "        y=self.Y[idx]\n",
        "        \n",
        "        # If there is any transform method, apply it onto the image\n",
        "        if self.transform:\n",
        "            image = self.transform(image)\n",
        "\n",
        "        return image, y"
      ],
      "execution_count": 0,
      "outputs": []
    },
    {
      "cell_type": "code",
      "metadata": {
        "id": "lpUCpGW8ukpp",
        "colab_type": "code",
        "outputId": "f5d77691-ca9d-4a70-ac8a-3f385cc58e4f",
        "colab": {
          "base_uri": "https://localhost:8080/",
          "height": 54
        }
      },
      "source": [
        "''''\n",
        "dataset = Dataset(train=False)\n",
        "print(len(dataset.Y))\n",
        "for sample in [16 ,103]:\n",
        "    plt.imshow(dataset[sample][0])\n",
        "    plt.xlabel(\"y=\"+str(dataset[sample][1].item()))\n",
        "    plt.title(\"training data, sample {}\".format(int(sample)))\n",
        "    plt.show()\n",
        "'''"
      ],
      "execution_count": 0,
      "outputs": [
        {
          "output_type": "execute_result",
          "data": {
            "text/plain": [
              "'\\'\\ndataset = Dataset(train=False)\\nprint(len(dataset.Y))\\nfor sample in [16 ,103]:\\n    plt.imshow(dataset[sample][0])\\n    plt.xlabel(\"y=\"+str(dataset[sample][1].item()))\\n    plt.title(\"training data, sample {}\".format(int(sample)))\\n    plt.show()\\n'"
            ]
          },
          "metadata": {
            "tags": []
          },
          "execution_count": 8
        }
      ]
    },
    {
      "cell_type": "code",
      "metadata": {
        "id": "hrqwM7l5ut7B",
        "colab_type": "code",
        "colab": {}
      },
      "source": [
        "mean = [0.485, 0.456, 0.406]\n",
        "std = [0.229, 0.224, 0.225]\n",
        "# transforms.ToTensor()\n",
        "#transforms.Normalize(mean, std)\n",
        "#transforms.Compose([])\n",
        "\n",
        "transform = transforms.Compose([ transforms.ToTensor(), transforms.Normalize(mean, std)])\n",
        "\n",
        "dataset_train = Dataset(transform=transform,train=True)\n",
        "dataset_val = Dataset(transform=transform,train=False)"
      ],
      "execution_count": 0,
      "outputs": []
    },
    {
      "cell_type": "code",
      "metadata": {
        "id": "_roWbvYiJKtV",
        "colab_type": "code",
        "outputId": "1cf4e847-25bf-4d17-8c5c-5055c7806ede",
        "colab": {
          "base_uri": "https://localhost:8080/",
          "height": 34
        }
      },
      "source": [
        "len(dataset_train), len(dataset_val)"
      ],
      "execution_count": 6,
      "outputs": [
        {
          "output_type": "execute_result",
          "data": {
            "text/plain": [
              "(30000, 10000)"
            ]
          },
          "metadata": {
            "tags": []
          },
          "execution_count": 6
        }
      ]
    },
    {
      "cell_type": "code",
      "metadata": {
        "id": "HnDahBjDyPIJ",
        "colab_type": "code",
        "outputId": "6349f24d-dd0c-49b0-8677-9b511725a300",
        "colab": {
          "base_uri": "https://localhost:8080/",
          "height": 34
        }
      },
      "source": [
        "dataset_train[0][0].shape"
      ],
      "execution_count": 7,
      "outputs": [
        {
          "output_type": "execute_result",
          "data": {
            "text/plain": [
              "torch.Size([3, 227, 227])"
            ]
          },
          "metadata": {
            "tags": []
          },
          "execution_count": 7
        }
      ]
    },
    {
      "cell_type": "code",
      "metadata": {
        "id": "_IH8yBK0zmU_",
        "colab_type": "code",
        "outputId": "5ff85a74-c96e-4a15-c41f-edfdf175cd3f",
        "colab": {
          "base_uri": "https://localhost:8080/",
          "height": 34
        }
      },
      "source": [
        "size_of_image=3*227*227\n",
        "size_of_image"
      ],
      "execution_count": 8,
      "outputs": [
        {
          "output_type": "execute_result",
          "data": {
            "text/plain": [
              "154587"
            ]
          },
          "metadata": {
            "tags": []
          },
          "execution_count": 8
        }
      ]
    },
    {
      "cell_type": "code",
      "metadata": {
        "id": "fg6ktYrtDnV4",
        "colab_type": "code",
        "outputId": "1d6bdeae-de22-42ad-ce94-f66f849a4bef",
        "colab": {
          "base_uri": "https://localhost:8080/",
          "height": 34
        }
      },
      "source": [
        "model = models.resnet18(pretrained=True).cuda(0)\n",
        "model.requires_grad_(False) # set parameters to non trainable\n",
        "model.fc = torch.nn.Linear(in_features=512, out_features=2).cuda(0)\n",
        "model.fc.requires_grad_(True)"
      ],
      "execution_count": 9,
      "outputs": [
        {
          "output_type": "execute_result",
          "data": {
            "text/plain": [
              "Linear(in_features=512, out_features=2, bias=True)"
            ]
          },
          "metadata": {
            "tags": []
          },
          "execution_count": 9
        }
      ]
    },
    {
      "cell_type": "code",
      "metadata": {
        "id": "wDzXgsWN2jcP",
        "colab_type": "code",
        "colab": {}
      },
      "source": [
        "BS = 1500\n",
        "\n",
        "train_loader = DataLoader(dataset_train, batch_size = BS)\n",
        "valid_loader = DataLoader(dataset_val, batch_size= BS)"
      ],
      "execution_count": 0,
      "outputs": []
    },
    {
      "cell_type": "code",
      "metadata": {
        "id": "P119ijRGEy_v",
        "colab_type": "code",
        "colab": {}
      },
      "source": [
        "LR = 0.1\n",
        "\n",
        "cost_function = torch.nn.CrossEntropyLoss()\n",
        "optimizer = torch.optim.Adam(model.parameters(), lr=LR)\n",
        "scheduler1 = torch.optim.lr_scheduler.ReduceLROnPlateau(optimizer, patience=3)\n",
        "scheduler2 = torch.optim.lr_scheduler.StepLR(optimizer, step_size=10)\n",
        "\n",
        "TRAIN_STEP = len(train_loader)/BS\n",
        "VALID_STEP = len(valid_loader)/BS\n",
        "\n",
        "EPOCHS = 15 "
      ],
      "execution_count": 0,
      "outputs": []
    },
    {
      "cell_type": "code",
      "metadata": {
        "id": "z9_tzCc72kgw",
        "colab_type": "code",
        "outputId": "a13f14b8-78b1-4f0e-874f-1e10d7b956c3",
        "colab": {
          "base_uri": "https://localhost:8080/",
          "height": 1000
        }
      },
      "source": [
        "# training\n",
        "\n",
        "TRAIN_LOSS = []\n",
        "VAL_LOSS = []\n",
        "VAL_ACC = []\n",
        "\n",
        "for epoch in range(EPOCHS):\n",
        "  running_loss = 0.0\n",
        "\n",
        "  for (x, y) in train_loader:\n",
        "    model.train()\n",
        "    optimizer.zero_grad()\n",
        "    x, y = x.cuda(0), y.cuda(0)\n",
        "    z = model(x)\n",
        "    loss = cost_function(z, y)\n",
        "    loss.backward()\n",
        "    optimizer.step()\n",
        "    running_loss+=loss.item()\n",
        "\n",
        "  train_l = running_loss/TRAIN_STEP\n",
        "  TRAIN_LOSS.append(train_l)\n",
        "  total = 0\n",
        "  correct = 0 \n",
        "  print(\"Epoch\", epoch+1)\n",
        "  print(\"Training loss:\", train_l) \n",
        "  running_loss = 0.0\n",
        "\n",
        "  for (x,y) in valid_loader:\n",
        "    model.eval()\n",
        "    x, y = x.cuda(0), y.cuda(0)\n",
        "    z = model(x)\n",
        "    loss = cost_function(z, y)\n",
        "    scheduler1.step(loss)\n",
        "    scheduler2.step()\n",
        "    running_loss+=loss.item()\n",
        "    _, yhat = torch.max(z,1)\n",
        "    total += y.size(0)\n",
        "    correct += (yhat == y).sum().item()\n",
        "\n",
        "  valid_l = running_loss/VALID_STEP\n",
        "  valid_a = 100 * correct / total\n",
        "  print(\"Valid loss:\", valid_l) \n",
        "  VAL_LOSS.append(valid_l)\n",
        "  torch.cuda.empty_cache()\n",
        "  print('VAL_Accuracy: %d %%' % valid_a)\n",
        "  VAL_ACC.append(valid_a)"
      ],
      "execution_count": 12,
      "outputs": [
        {
          "output_type": "stream",
          "text": [
            "Epoch 1\n",
            "Training loss: 1144.7818133980036\n",
            "Valid loss: 228.69105903165678\n",
            "VAL_Accuracy: 97 %\n",
            "Epoch 2\n",
            "Training loss: 159.0913281776011\n",
            "Valid loss: 103.98422234824724\n",
            "VAL_Accuracy: 99 %\n",
            "Epoch 3\n",
            "Training loss: 87.72867587395012\n",
            "Valid loss: 89.86828276621443\n",
            "VAL_Accuracy: 99 %\n",
            "Epoch 4\n",
            "Training loss: 81.98633920401335\n",
            "Valid loss: 90.21908098033495\n",
            "VAL_Accuracy: 99 %\n",
            "Epoch 5\n",
            "Training loss: 81.97493464685977\n",
            "Valid loss: 90.2708512065666\n",
            "VAL_Accuracy: 99 %\n",
            "Epoch 6\n",
            "Training loss: 81.9747350178659\n",
            "Valid loss: 90.27666066374097\n",
            "VAL_Accuracy: 99 %\n",
            "Epoch 7\n",
            "Training loss: 81.97473445907235\n",
            "Valid loss: 90.27730607028518\n",
            "VAL_Accuracy: 99 %\n",
            "Epoch 8\n",
            "Training loss: 81.97473445907235\n",
            "Valid loss: 90.27768724731035\n",
            "VAL_Accuracy: 99 %\n",
            "Epoch 9\n",
            "Training loss: 81.97473445907235\n",
            "Valid loss: 90.27762578002043\n",
            "VAL_Accuracy: 99 %\n",
            "Epoch 10\n",
            "Training loss: 81.97473445907235\n",
            "Valid loss: 90.27748248939002\n",
            "VAL_Accuracy: 99 %\n",
            "Epoch 11\n",
            "Training loss: 81.97473445907235\n",
            "Valid loss: 90.2775986386197\n",
            "VAL_Accuracy: 99 %\n",
            "Epoch 12\n",
            "Training loss: 81.97473445907235\n",
            "Valid loss: 90.2775986386197\n",
            "VAL_Accuracy: 99 %\n",
            "Epoch 13\n",
            "Training loss: 81.97473445907235\n",
            "Valid loss: 90.2775986386197\n",
            "VAL_Accuracy: 99 %\n",
            "Epoch 14\n",
            "Training loss: 81.97473445907235\n",
            "Valid loss: 90.2775986386197\n",
            "VAL_Accuracy: 99 %\n",
            "Epoch 15\n",
            "Training loss: 81.97473445907235\n",
            "Valid loss: 90.2775986386197\n",
            "VAL_Accuracy: 99 %\n"
          ],
          "name": "stdout"
        }
      ]
    },
    {
      "cell_type": "code",
      "metadata": {
        "id": "_xz7cWP6IitZ",
        "colab_type": "code",
        "colab": {
          "base_uri": "https://localhost:8080/",
          "height": 265
        },
        "outputId": "7ddb2efb-c46a-41c9-e446-67aa4506bc26"
      },
      "source": [
        "# draw graph for train and valid loss\n",
        "\n",
        "a = np.arange(0,EPOCHS)\n",
        "plt.plot(a, TRAIN_LOSS, label=\"Train_loss\")\n",
        "plt.plot(a, VAL_LOSS, label=\"Valid_loss\")\n",
        "plt.legend()\n",
        "plt.show()"
      ],
      "execution_count": 15,
      "outputs": [
        {
          "output_type": "display_data",
          "data": {
            "image/png": "[encoded data removed]",
            "text/plain": [
              "<Figure size 432x288 with 1 Axes>"
            ]
          },
          "metadata": {
            "tags": [],
            "needs_background": "light"
          }
        }
      ]
    },
    {
      "cell_type": "code",
      "metadata": {
        "id": "AyvPu7VGKsZ8",
        "colab_type": "code",
        "colab": {
          "base_uri": "https://localhost:8080/",
          "height": 265
        },
        "outputId": "43d415ab-bf5f-44dd-a9a5-acf4860e98c4"
      },
      "source": [
        "plt.plot(a, VAL_ACC, label=\"Valid Accuracy\")\n",
        "plt.legend()\n",
        "plt.show()"
      ],
      "execution_count": 16,
      "outputs": [
        {
          "output_type": "display_data",
          "data": {
            "image/png": "[encoded data removed]",
            "text/plain": [
              "<Figure size 432x288 with 1 Axes>"
            ]
          },
          "metadata": {
            "tags": [],
            "needs_background": "light"
          }
        }
      ]
    },
    {
      "cell_type": "code",
      "metadata": {
        "id": "bYQmY9k2RPCO",
        "colab_type": "code",
        "colab": {}
      },
      "source": [
        "# !rm -rf /content/data/"
      ],
      "execution_count": 0,
      "outputs": []
    },
    {
      "cell_type": "code",
      "metadata": {
        "id": "WKhZ83KniG5z",
        "colab_type": "code",
        "colab": {}
      },
      "source": [
        "# save model state(parameters)\n",
        "\n",
        "PATH =  \"/content/contrete-crack-weights\"\n",
        "torch.save(model.state_dict(), PATH)"
      ],
      "execution_count": 0,
      "outputs": []
    },
    {
      "cell_type": "code",
      "metadata": {
        "id": "ISBYIYkaiwsR",
        "colab_type": "code",
        "colab": {
          "base_uri": "https://localhost:8080/",
          "height": 34
        },
        "outputId": "541e8aa8-eb3d-4152-af57-28af64a2a9cd"
      },
      "source": [
        "PATH =  \"/content/contrete-crack-weights\"\n",
        "loaded_model = models.resnet18(pretrained=False).cuda(0)\n",
        "loaded_model.fc = torch.nn.Linear(in_features=512, out_features=2).cuda(0)\n",
        "loaded_model.load_state_dict(torch.load(PATH))"
      ],
      "execution_count": 17,
      "outputs": [
        {
          "output_type": "execute_result",
          "data": {
            "text/plain": [
              "<All keys matched successfully>"
            ]
          },
          "metadata": {
            "tags": []
          },
          "execution_count": 17
        }
      ]
    },
    {
      "cell_type": "code",
      "metadata": {
        "id": "Kg2W3EuSr5a_",
        "colab_type": "code",
        "colab": {}
      },
      "source": [
        "sample_data = Dataset(train=False, show_data=True)\n",
        "sample_loader = DataLoader(sample_data, batch_size= BS) "
      ],
      "execution_count": 0,
      "outputs": []
    },
    {
      "cell_type": "code",
      "metadata": {
        "id": "eKbXspYwc1iC",
        "colab_type": "code",
        "colab": {}
      },
      "source": [
        "# plot test results\n",
        "\n",
        "loaded_model.eval()\n",
        "for i,(x,y) in enumerate(sample_data):\n",
        "  if i == 50:\n",
        "    # f = np.reshape(f, (227,227,3))\n",
        "    yhat = loaded_model(valid_loader[i][0].cuda(0))\n",
        "    print(\"Actual: {}, Predicted: {}\".format(y, torch.argmax(yhat[0])))\n",
        "    plt.imshow(x)\n",
        "    plt.show()\n",
        "    break"
      ],
      "execution_count": 0,
      "outputs": []
    },
    {
      "cell_type": "code",
      "metadata": {
        "id": "DiilwhG0Q1Oq",
        "colab_type": "code",
        "colab": {}
      },
      "source": [
        ""
      ],
      "execution_count": 0,
      "outputs": []
    }
  ]
}