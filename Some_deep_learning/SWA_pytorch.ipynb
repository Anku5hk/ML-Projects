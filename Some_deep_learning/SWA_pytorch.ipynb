{
  "nbformat": 4,
  "nbformat_minor": 0,
  "metadata": {
    "colab": {
      "name": "SWA_pytorch.ipynb",
      "provenance": [],
      "collapsed_sections": []
    },
    "kernelspec": {
      "name": "python3",
      "display_name": "Python 3"
    },
    "accelerator": "GPU"
  },
  "cells": [
    {
      "cell_type": "markdown",
      "metadata": {
        "id": "eriCHB0qztNL"
      },
      "source": [
        "More details [here1](https://pytorch.org/blog/pytorch-1.6-now-includes-stochastic-weight-averaging/), [here2](https://pytorch.org/blog/stochastic-weight-averaging-in-pytorch/)."
      ]
    },
    {
      "cell_type": "code",
      "metadata": {
        "id": "0czyLXleNN3E"
      },
      "source": [
        "import torch\r\n",
        "from torch import nn\r\n",
        "import torchvision\r\n",
        "import numpy as np\r\n",
        "import torchvision.models as models\r\n",
        "import torchvision.transforms as transforms\r\n",
        "from torchvision.datasets import CIFAR10\r\n",
        "\r\n",
        "from torch.optim.swa_utils import AveragedModel, SWALR\r\n",
        "from torch.optim.lr_scheduler import CosineAnnealingLR"
      ],
      "execution_count": 1,
      "outputs": []
    },
    {
      "cell_type": "code",
      "metadata": {
        "colab": {
          "base_uri": "https://localhost:8080/"
        },
        "id": "kk53kCrBNsKA",
        "outputId": "71142096-33e8-4e6f-f3a9-c7045a565f82"
      },
      "source": [
        "BS = 2048\r\n",
        "\r\n",
        "transform_train = transforms.Compose([\r\n",
        "    transforms.RandomHorizontalFlip(),\r\n",
        "    transforms.ToTensor(),\r\n",
        "    transforms.Normalize((0.485, 0.456, 0.406), (0.229, 0.224, 0.225)),\r\n",
        "])\r\n",
        "\r\n",
        "transform_test = transforms.Compose([\r\n",
        "    transforms.ToTensor(),\r\n",
        "    transforms.Normalize((0.4914, 0.4822, 0.4465), (0.2023, 0.1994, 0.2010)),\r\n",
        "])\r\n",
        "\r\n",
        "trainset = torchvision.datasets.CIFAR10(\r\n",
        "    root='./data', train=True, download=True, transform=transform_train)\r\n",
        "train_loader = torch.utils.data.DataLoader(\r\n",
        "    trainset, batch_size=BS, shuffle=True)\r\n",
        "\r\n",
        "testset = torchvision.datasets.CIFAR10(\r\n",
        "    root='./data', train=False, download=True, transform=transform_test)\r\n",
        "valid_loader = torch.utils.data.DataLoader(\r\n",
        "    testset, batch_size=BS, shuffle=False)"
      ],
      "execution_count": 3,
      "outputs": [
        {
          "output_type": "stream",
          "text": [
            "Files already downloaded and verified\n",
            "Files already downloaded and verified\n"
          ],
          "name": "stdout"
        }
      ]
    },
    {
      "cell_type": "code",
      "metadata": {
        "colab": {
          "base_uri": "https://localhost:8080/"
        },
        "id": "votgdsE9N4fb",
        "outputId": "a568c49b-3e9f-4216-8ef3-ca2fe3e54a30"
      },
      "source": [
        "model = models.resnet18(pretrained=True).cuda(0)\r\n",
        "model.fc = torch.nn.Linear(in_features=512, out_features=10).cuda(0)\r\n",
        "model.fc.requires_grad_(True)"
      ],
      "execution_count": 8,
      "outputs": [
        {
          "output_type": "execute_result",
          "data": {
            "text/plain": [
              "Linear(in_features=512, out_features=10, bias=True)"
            ]
          },
          "metadata": {
            "tags": []
          },
          "execution_count": 8
        }
      ]
    },
    {
      "cell_type": "code",
      "metadata": {
        "colab": {
          "base_uri": "https://localhost:8080/"
        },
        "id": "0LEZzm54N5gA",
        "outputId": "1cc1e441-9332-4f5b-98e1-9d1a34867456"
      },
      "source": [
        "%%time\r\n",
        "\r\n",
        "LR = 0.003\r\n",
        "EPOCHS = 10\r\n",
        "swa_start = 8\r\n",
        "optimizer = torch.optim.Adam(model.parameters(), lr=LR)\r\n",
        "swa_model = AveragedModel(model)\r\n",
        "scheduler = CosineAnnealingLR(optimizer, T_max=100)\r\n",
        "swa_scheduler = SWALR(optimizer, swa_lr=0.05)\r\n",
        "\r\n",
        "cost_function = torch.nn.CrossEntropyLoss()\r\n",
        "TRAIN_STEP = len(trainset)/BS\r\n",
        "VALID_STEP = len(testset)/BS\r\n",
        "\r\n",
        "TRAIN_LOSS = []\r\n",
        "VAL_LOSS = []\r\n",
        "VAL_ACC = []\r\n",
        "\r\n",
        "for epoch in range(1,EPOCHS+1):\r\n",
        "  print(\"Epoch\", epoch)\r\n",
        "  running_loss = 0.0\r\n",
        "  model.train()\r\n",
        "  for (x, y) in train_loader:\r\n",
        "    optimizer.zero_grad()\r\n",
        "    x, y = x.cuda(0), y.cuda(0)\r\n",
        "    z = model(x)\r\n",
        "    loss = cost_function(z, y)\r\n",
        "    running_loss+=loss.detach()\r\n",
        "    loss.backward()\r\n",
        "    optimizer.step()\r\n",
        "\r\n",
        "  train_l = running_loss/TRAIN_STEP\r\n",
        "  TRAIN_LOSS.append(train_l.item())\r\n",
        "  total, correct = 0, 0 \r\n",
        "  print(\"Training loss:\", train_l.item())\r\n",
        "\r\n",
        "  if epoch > swa_start:\r\n",
        "    print('Updating swa')\r\n",
        "    swa_model.update_parameters(model)\r\n",
        "    swa_scheduler.step()\r\n",
        "  else:\r\n",
        "    running_loss = 0.0\r\n",
        "    model.eval()\r\n",
        "    for (x,y) in valid_loader:\r\n",
        "      x, y = x.cuda(0), y.cuda(0)\r\n",
        "      with torch.no_grad():\r\n",
        "        z = model(x)\r\n",
        "      loss = cost_function(z, y)\r\n",
        "      running_loss+=loss.detach()\r\n",
        "      _, yhat = torch.max(z,1)\r\n",
        "      total += y.size(0)\r\n",
        "      correct += (yhat == y).sum().item()\r\n",
        "    scheduler.step()\r\n",
        "    valid_l = running_loss/VALID_STEP\r\n",
        "    valid_a = 100 * correct / total\r\n",
        "    print(\"Valid loss:\", valid_l.item())\r\n",
        "    VAL_LOSS.append(valid_l.item())\r\n",
        "    print('VAL_Accuracy: ', valid_a)\r\n",
        "    VAL_ACC.append(valid_a)\r\n",
        "  print('')\r\n",
        "print(\"Best accuracy\", max(VAL_ACC))    "
      ],
      "execution_count": 12,
      "outputs": [
        {
          "output_type": "stream",
          "text": [
            "Epoch 1\n",
            "Training loss: 0.9224651455879211\n",
            "Valid loss: 0.9948633909225464\n",
            "VAL_Accuracy:  70.4\n",
            "\n",
            "Epoch 2\n",
            "Training loss: 0.5696503520011902\n",
            "Valid loss: 0.7134029865264893\n",
            "VAL_Accuracy:  77.25\n",
            "\n",
            "Epoch 3\n",
            "Training loss: 0.4732469618320465\n",
            "Valid loss: 0.8396474123001099\n",
            "VAL_Accuracy:  74.68\n",
            "\n",
            "Epoch 4\n",
            "Training loss: 0.39830276370048523\n",
            "Valid loss: 0.662550151348114\n",
            "VAL_Accuracy:  79.16\n",
            "\n",
            "Epoch 5\n",
            "Training loss: 0.35848575830459595\n",
            "Valid loss: 0.7014987468719482\n",
            "VAL_Accuracy:  78.68\n",
            "\n",
            "Epoch 6\n",
            "Training loss: 0.30550530552864075\n",
            "Valid loss: 0.6869193911552429\n",
            "VAL_Accuracy:  79.56\n",
            "\n",
            "Epoch 7\n",
            "Training loss: 0.26629510521888733\n",
            "Valid loss: 0.7214446067810059\n",
            "VAL_Accuracy:  79.44\n",
            "\n",
            "Epoch 8\n",
            "Training loss: 0.23825792968273163\n",
            "Valid loss: 0.6263319849967957\n",
            "VAL_Accuracy:  82.36\n",
            "\n",
            "Epoch 9\n",
            "Training loss: 0.20299969613552094\n",
            "Updating swa\n",
            "Epoch 10\n",
            "Training loss: 0.24596136808395386\n",
            "Updating swa\n",
            "Best accuracy 82.36\n",
            "CPU times: user 11min 47s, sys: 7min 56s, total: 19min 43s\n",
            "Wall time: 19min 43s\n"
          ],
          "name": "stdout"
        }
      ]
    },
    {
      "cell_type": "code",
      "metadata": {
        "id": "BTsytyk-VpdV"
      },
      "source": [
        "# Update batch norm statistics for the swa_model at the end\r\n",
        "torch.optim.swa_utils.update_bn(train_loader, swa_model, device='cuda:0')  "
      ],
      "execution_count": 13,
      "outputs": []
    },
    {
      "cell_type": "code",
      "metadata": {
        "colab": {
          "base_uri": "https://localhost:8080/"
        },
        "id": "mL3dCyR9N5ZG",
        "outputId": "280aed65-af04-4f84-866a-28614c354ecb"
      },
      "source": [
        "correct, total = 0,0\r\n",
        "for (x,y) in valid_loader:\r\n",
        "  x, y = x.cuda(0), y.cuda(0)\r\n",
        "  with torch.no_grad():\r\n",
        "    z = swa_model(x)\r\n",
        "  loss = cost_function(z, y)\r\n",
        "  running_loss+=loss.detach()\r\n",
        "  _, yhat = torch.max(z,1)\r\n",
        "  total += y.size(0)\r\n",
        "  correct += (yhat == y).sum().item()\r\n",
        "valid_a = 100 * correct / total\r\n",
        "print(\"VAL_Accuracy:\", valid_a)"
      ],
      "execution_count": 14,
      "outputs": [
        {
          "output_type": "stream",
          "text": [
            "VAL_Accuracy: 84.55\n"
          ],
          "name": "stdout"
        }
      ]
    }
  ]
}