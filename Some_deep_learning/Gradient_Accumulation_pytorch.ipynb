{
  "nbformat": 4,
  "nbformat_minor": 0,
  "metadata": {
    "colab": {
      "name": "Gradient_Accumulation_pytorch.ipynb",
      "provenance": [],
      "collapsed_sections": []
    },
    "kernelspec": {
      "name": "python3",
      "display_name": "Python 3"
    },
    "accelerator": "GPU"
  },
  "cells": [
    {
      "cell_type": "code",
      "metadata": {
        "id": "QLld1ABTTBh4"
      },
      "source": [
        "import torch\r\n",
        "from torch import nn\r\n",
        "import torchvision\r\n",
        "import numpy as np\r\n",
        "import torchvision.models as models\r\n",
        "import torchvision.transforms as transforms\r\n",
        "from torchvision.datasets import CIFAR10"
      ],
      "execution_count": 1,
      "outputs": []
    },
    {
      "cell_type": "markdown",
      "metadata": {
        "id": "gwA4x8uFTTi0"
      },
      "source": [
        "## Data"
      ]
    },
    {
      "cell_type": "code",
      "metadata": {
        "colab": {
          "base_uri": "https://localhost:8080/"
        },
        "id": "9DP3adSITGC7",
        "outputId": "9dbb3c39-2a4c-4339-ef06-113860b01322"
      },
      "source": [
        "BS = 1024\r\n",
        "\r\n",
        "transform_train = transforms.Compose([\r\n",
        "    transforms.RandomCrop(32, padding=4),\r\n",
        "    transforms.RandomHorizontalFlip(),\r\n",
        "    transforms.ToTensor(),\r\n",
        "    transforms.Normalize((0.485, 0.456, 0.406), (0.229, 0.224, 0.225)),\r\n",
        "])\r\n",
        "\r\n",
        "transform_test = transforms.Compose([\r\n",
        "    transforms.ToTensor(),\r\n",
        "    transforms.Normalize((0.4914, 0.4822, 0.4465), (0.2023, 0.1994, 0.2010)),\r\n",
        "])\r\n",
        "\r\n",
        "trainset = torchvision.datasets.CIFAR10(\r\n",
        "    root='./data', train=True, download=True, transform=transform_train)\r\n",
        "train_loader = torch.utils.data.DataLoader(\r\n",
        "    trainset, batch_size=BS, shuffle=True)\r\n",
        "\r\n",
        "testset = torchvision.datasets.CIFAR10(\r\n",
        "    root='./data', train=False, download=True, transform=transform_test)\r\n",
        "valid_loader = torch.utils.data.DataLoader(\r\n",
        "    testset, batch_size=BS, shuffle=False)"
      ],
      "execution_count": 3,
      "outputs": [
        {
          "output_type": "stream",
          "text": [
            "Files already downloaded and verified\n",
            "Files already downloaded and verified\n"
          ],
          "name": "stdout"
        }
      ]
    },
    {
      "cell_type": "markdown",
      "metadata": {
        "id": "DfUM8UGJTRpj"
      },
      "source": [
        "## Gradient Accumulation"
      ]
    },
    {
      "cell_type": "code",
      "metadata": {
        "colab": {
          "base_uri": "https://localhost:8080/"
        },
        "id": "x56uypatTF4e",
        "outputId": "f81ef055-dec5-4a33-dfa1-e1f9d897bca9"
      },
      "source": [
        "%%time\r\n",
        "\r\n",
        "model = models.resnet18(pretrained=True).cuda(0)\r\n",
        "model.fc = torch.nn.Linear(in_features=512, out_features=10).cuda(0)\r\n",
        "model.fc.requires_grad_(True)\r\n",
        "\r\n",
        "LR = 0.003\r\n",
        "optimizer = torch.optim.Adam(model.parameters(), lr=LR)\r\n",
        "cost_function = torch.nn.CrossEntropyLoss()\r\n",
        "TRAIN_STEP = len(trainset)/BS\r\n",
        "VALID_STEP = len(testset)/BS\r\n",
        "EPOCHS = 5 \r\n",
        "accumulation_steps = 2 # update weights at 2*Batchsize steps\r\n",
        "\r\n",
        "TRAIN_LOSS = []\r\n",
        "VAL_LOSS = []\r\n",
        "VAL_ACC = []\r\n",
        "\r\n",
        "for epoch in range(EPOCHS):\r\n",
        "  print(\"Epoch\", epoch+1)\r\n",
        "  running_loss = 0.0\r\n",
        "  model.train()\r\n",
        "  for step, (x, y) in enumerate(train_loader):\r\n",
        "\r\n",
        "    x, y = x.cuda(0), y.cuda(0)\r\n",
        "    z = model(x)\r\n",
        "    loss = cost_function(z, y) / accumulation_steps\r\n",
        "    running_loss+=loss.detach()\r\n",
        "    loss.backward()\r\n",
        "    if (step+1) % accumulation_steps == 0:\r\n",
        "        optimizer.step() \r\n",
        "        optimizer.zero_grad()     \r\n",
        "\r\n",
        "  train_l = running_loss/TRAIN_STEP\r\n",
        "  TRAIN_LOSS.append(train_l.item())\r\n",
        "  correct = 0 \r\n",
        "  print(\"Training loss:\", train_l.item())\r\n",
        "  running_loss = 0.0\r\n",
        "\r\n",
        "  model.eval()\r\n",
        "  for (x,y) in valid_loader:\r\n",
        "    \r\n",
        "    x, y = x.cuda(0), y.cuda(0)\r\n",
        "    z = model(x)\r\n",
        "    loss = cost_function(z, y)\r\n",
        "    running_loss+=loss.detach()\r\n",
        "    _, yhat = torch.max(z,1)\r\n",
        "    correct += torch.eq(yhat, y).sum().item()\r\n",
        "\r\n",
        "  valid_l = running_loss/VALID_STEP\r\n",
        "  valid_a = (correct / len(testset)) * 100\r\n",
        "  print(\"Valid loss:\", valid_l.item())\r\n",
        "  VAL_LOSS.append(valid_l)\r\n",
        "  print('VAL_Accuracy: %d %%' % valid_a)\r\n",
        "  VAL_ACC.append(valid_a)"
      ],
      "execution_count": 5,
      "outputs": [
        {
          "output_type": "stream",
          "text": [
            "Epoch 1\n",
            "Training loss: 0.7538629770278931\n",
            "Valid loss: 1.1441924571990967\n",
            "VAL_Accuracy: 63 %\n",
            "Epoch 2\n",
            "Training loss: 0.4281767010688782\n",
            "Valid loss: 1.0574060678482056\n",
            "VAL_Accuracy: 66 %\n",
            "Epoch 3\n",
            "Training loss: 0.34999096393585205\n",
            "Valid loss: 0.9526497721672058\n",
            "VAL_Accuracy: 70 %\n",
            "Epoch 4\n",
            "Training loss: 0.307162880897522\n",
            "Valid loss: 0.7776311039924622\n",
            "VAL_Accuracy: 74 %\n",
            "Epoch 5\n",
            "Training loss: 0.2815788686275482\n",
            "Valid loss: 0.7442079782485962\n",
            "VAL_Accuracy: 76 %\n",
            "CPU times: user 6min 10s, sys: 3min 42s, total: 9min 52s\n",
            "Wall time: 9min 52s\n"
          ],
          "name": "stdout"
        }
      ]
    }
  ]
}