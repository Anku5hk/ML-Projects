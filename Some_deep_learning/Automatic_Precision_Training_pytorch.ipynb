{
  "nbformat": 4,
  "nbformat_minor": 0,
  "metadata": {
    "colab": {
      "name": "Automatic-Precision-Training-pytorch.ipynb",
      "provenance": [],
      "collapsed_sections": []
    },
    "kernelspec": {
      "name": "python3",
      "display_name": "Python 3"
    },
    "accelerator": "GPU"
  },
  "cells": [
    {
      "cell_type": "markdown",
      "metadata": {
        "id": "rJ4LJlraQFat"
      },
      "source": [
        "More details [here](https://pytorch.org/docs/stable/amp.html), [here](https://pytorch.org/docs/stable/notes/amp_examples.html)."
      ]
    },
    {
      "cell_type": "code",
      "metadata": {
        "id": "updemKiHPEFB"
      },
      "source": [
        "import torch\r\n",
        "from torch import nn\r\n",
        "import torchvision\r\n",
        "import numpy as np\r\n",
        "import torchvision.models as models\r\n",
        "import torchvision.transforms as transforms\r\n",
        "from torchvision.datasets import CIFAR10\r\n",
        "\r\n",
        "from torch.cuda.amp import GradScaler, autocast"
      ],
      "execution_count": 1,
      "outputs": []
    },
    {
      "cell_type": "code",
      "metadata": {
        "colab": {
          "base_uri": "https://localhost:8080/"
        },
        "id": "7n5y6XYzPuAd",
        "outputId": "0de8e647-2ce4-4a23-c440-42b6b58b434a"
      },
      "source": [
        "BS = 1048\r\n",
        "\r\n",
        "transform_train = transforms.Compose([\r\n",
        "    transforms.RandomCrop(32, padding=4),\r\n",
        "    transforms.RandomHorizontalFlip(),\r\n",
        "    transforms.ToTensor(),\r\n",
        "    transforms.Normalize((0.485, 0.456, 0.406), (0.229, 0.224, 0.225)),\r\n",
        "])\r\n",
        "\r\n",
        "transform_test = transforms.Compose([\r\n",
        "    transforms.ToTensor(),\r\n",
        "    transforms.Normalize((0.4914, 0.4822, 0.4465), (0.2023, 0.1994, 0.2010)),\r\n",
        "])\r\n",
        "\r\n",
        "trainset = torchvision.datasets.CIFAR10(\r\n",
        "    root='./data', train=True, download=True, transform=transform_train)\r\n",
        "train_loader = torch.utils.data.DataLoader(\r\n",
        "    trainset, batch_size=BS, shuffle=True)\r\n",
        "\r\n",
        "testset = torchvision.datasets.CIFAR10(\r\n",
        "    root='./data', train=False, download=True, transform=transform_test)\r\n",
        "valid_loader = torch.utils.data.DataLoader(\r\n",
        "    testset, batch_size=BS, shuffle=False)"
      ],
      "execution_count": 4,
      "outputs": [
        {
          "output_type": "stream",
          "text": [
            "Files already downloaded and verified\n",
            "Files already downloaded and verified\n"
          ],
          "name": "stdout"
        }
      ]
    },
    {
      "cell_type": "markdown",
      "metadata": {
        "id": "rQQ0dlwSRiVc"
      },
      "source": [
        "## Training AMP"
      ]
    },
    {
      "cell_type": "code",
      "metadata": {
        "colab": {
          "base_uri": "https://localhost:8080/"
        },
        "id": "EUdTlx-tP1PF",
        "outputId": "51df10c3-06c6-425e-ab07-8485290589b0"
      },
      "source": [
        "%%time\r\n",
        "\r\n",
        "model = models.resnet18(pretrained=True).cuda(0)\r\n",
        "model.fc = torch.nn.Linear(in_features=512, out_features=10).cuda(0)\r\n",
        "model.fc.requires_grad_(True)\r\n",
        "\r\n",
        "LR = 0.0003\r\n",
        "optimizer = torch.optim.Adam(model.parameters(), lr=LR)\r\n",
        "cost_function = torch.nn.CrossEntropyLoss()\r\n",
        "TRAIN_STEP = len(trainset)/BS\r\n",
        "VALID_STEP = len(testset)/BS\r\n",
        "EPOCHS = 5\r\n",
        "\r\n",
        "TRAIN_LOSS = []\r\n",
        "VAL_LOSS = []\r\n",
        "VAL_ACC = []\r\n",
        "\r\n",
        "scaler = GradScaler()\r\n",
        "\r\n",
        "for epoch in range(EPOCHS):\r\n",
        "  print(\"Epoch\", epoch+1)\r\n",
        "  running_loss = 0.0\r\n",
        "  model.train()\r\n",
        "  for (x, y) in train_loader:\r\n",
        "\r\n",
        "    optimizer.zero_grad()\r\n",
        "    x, y = x.cuda(0), y.cuda(0)\r\n",
        "\r\n",
        "    with autocast():\r\n",
        "      z = model(x)\r\n",
        "      loss = cost_function(z, y)\r\n",
        "      running_loss+=loss.detach()\r\n",
        "\r\n",
        "    scaler.scale(loss).backward()\r\n",
        "    scaler.step(optimizer)\r\n",
        "    scaler.update()\r\n",
        "    \r\n",
        "  train_l = running_loss/TRAIN_STEP\r\n",
        "  TRAIN_LOSS.append(train_l.item())\r\n",
        "  print(\"Training loss:\", train_l.item())\r\n",
        "  running_loss = 0.0\r\n",
        "  correct = 0.0\r\n",
        "  model.eval()    \r\n",
        "\r\n",
        "  for (x,y) in valid_loader:\r\n",
        "    x, y = x.cuda(0), y.cuda(0)\r\n",
        "    z = model(x)\r\n",
        "    loss = cost_function(z, y)\r\n",
        "    running_loss+=loss.detach()\r\n",
        "    _, yhat = torch.max(z,1)\r\n",
        "    correct += torch.eq(yhat, y).sum().item()\r\n",
        "\r\n",
        "  valid_l = running_loss/VALID_STEP\r\n",
        "  valid_a = (correct / len(testset)) * 100\r\n",
        "  print(\"Valid loss:\", valid_l.item()) \r\n",
        "  VAL_LOSS.append(valid_l.item())\r\n",
        "  print('VAL_Accuracy: %d %%' % valid_a)\r\n",
        "  VAL_ACC.append(valid_a)\r\n",
        "  print('')"
      ],
      "execution_count": 6,
      "outputs": [
        {
          "output_type": "stream",
          "text": [
            "Epoch 1\n",
            "Training loss: 1.2421400547027588\n",
            "Valid loss: 0.9059109091758728\n",
            "VAL_Accuracy: 70 %\n",
            "\n",
            "Epoch 2\n",
            "Training loss: 0.7551761865615845\n",
            "Valid loss: 0.7223936319351196\n",
            "VAL_Accuracy: 76 %\n",
            "\n",
            "Epoch 3\n",
            "Training loss: 0.6292315125465393\n",
            "Valid loss: 0.6798090934753418\n",
            "VAL_Accuracy: 77 %\n",
            "\n",
            "Epoch 4\n",
            "Training loss: 0.5495712757110596\n",
            "Valid loss: 0.6177423596382141\n",
            "VAL_Accuracy: 79 %\n",
            "\n",
            "Epoch 5\n",
            "Training loss: 0.492849200963974\n",
            "Valid loss: 0.6252909302711487\n",
            "VAL_Accuracy: 79 %\n",
            "\n",
            "CPU times: user 2min 15s, sys: 16.8 s, total: 2min 32s\n",
            "Wall time: 2min 32s\n"
          ],
          "name": "stdout"
        }
      ]
    }
  ]
}